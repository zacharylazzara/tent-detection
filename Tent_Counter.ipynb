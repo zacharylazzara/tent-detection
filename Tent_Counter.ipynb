{
  "nbformat": 4,
  "nbformat_minor": 0,
  "metadata": {
    "colab": {
      "name": "Tent_Counter.ipynb",
      "provenance": [],
      "collapsed_sections": [],
      "authorship_tag": "ABX9TyOuuTk0lG3rxfH0tGfXGa/t",
      "include_colab_link": true
    },
    "kernelspec": {
      "name": "python3",
      "display_name": "Python 3"
    },
    "language_info": {
      "name": "python"
    }
  },
  "cells": [
    {
      "cell_type": "markdown",
      "metadata": {
        "id": "view-in-github",
        "colab_type": "text"
      },
      "source": [
        "<a href=\"https://colab.research.google.com/github/zacharylazzara/tent-detection/blob/main/Tent_Counter.ipynb\" target=\"_parent\"><img src=\"https://colab.research.google.com/assets/colab-badge.svg\" alt=\"Open In Colab\"/></a>"
      ]
    },
    {
      "cell_type": "code",
      "metadata": {
        "colab": {
          "base_uri": "https://localhost:8080/"
        },
        "id": "2vaJHFVPHzcj",
        "outputId": "a3256ced-7232-48c5-bbdc-ef077fb4c1bf"
      },
      "source": [
        "%%bash\n",
        "if [ -d 'sample_data' ]; then\n",
        "  rm -r sample_data\n",
        "fi\n",
        "\n",
        "if [ ! -d sarpol-zahab-tents ]; then\n",
        "  git clone https://github.com/tofighi/sarpol-zahab-tents.git\n",
        "  mkdir -p output/localized\n",
        "fi"
      ],
      "execution_count": 1,
      "outputs": [
        {
          "output_type": "stream",
          "name": "stderr",
          "text": [
            "Cloning into 'sarpol-zahab-tents'...\n"
          ]
        }
      ]
    },
    {
      "cell_type": "code",
      "metadata": {
        "colab": {
          "base_uri": "https://localhost:8080/"
        },
        "id": "9Dihg-97I6Dr",
        "outputId": "915f20a4-88cf-4138-c9bf-5577489aecd6"
      },
      "source": [
        "import numpy as np\n",
        "from PIL import Image\n",
        "from sklearn.cluster import KMeans\n",
        "import matplotlib.pyplot as plt\n",
        "from glob import glob\n",
        "import os\n",
        "from mpl_toolkits.axes_grid1 import ImageGrid\n",
        "from tqdm import tqdm\n",
        "import pickle\n",
        "import shutil\n",
        "\n",
        "SHOW_OUTPUT = False\n",
        "ALLOW_IRRELEVANT = True\n",
        "\n",
        "def load(path):\n",
        "  dataset = {}\n",
        "  for path in sorted(glob(path)):\n",
        "    mask = np.asarray(Image.open(path).convert('1'))\n",
        "    if ALLOW_IRRELEVANT:\n",
        "      dataset[os.path.basename(path).split(f\".\", 1)[0]] = mask\n",
        "    elif np.sum(mask):\n",
        "      dataset[os.path.basename(path).split(f\".\", 1)[0]] = mask\n",
        "  return dataset\n",
        "\n",
        "def kmeans_localize(mask, k):\n",
        "  mask = np.argwhere(mask.T == 1)\n",
        "  centers = None\n",
        "  if k > 0:\n",
        "    kmeans = KMeans(n_clusters=k)\n",
        "    kmeans.fit(mask)\n",
        "    y_kmeans = kmeans.predict(mask)\n",
        "    centers = kmeans.cluster_centers_\n",
        "  return centers\n",
        "\n",
        "dataset = load(\"sarpol-zahab-tents/data/labels/*\")\n",
        "\n",
        "pixels_per_dot = min([np.sum(value) for value in dataset.values() if np.sum(value)])\n",
        "print(f\"Pixels Per Dot: {pixels_per_dot}\")\n",
        "\n",
        "results = {}\n",
        "for key, value in tqdm(dataset.items()):\n",
        "  n = np.sum(value) // pixels_per_dot\n",
        "  X = kmeans_localize(value, n)\n",
        "\n",
        "  results[key] = {\"count\":n, \"loc\":X}\n",
        "\n",
        "  fig = plt.figure(figsize=(10,10))\n",
        "  plt.title(f\"Image: {key}, Tents: {n}\")\n",
        "  plt.imshow(value, vmin=0, vmax=1)\n",
        "  if X is not None:\n",
        "    plt.scatter(X[:,0], X[:,1], s=30, marker='x', c=\"green\", alpha=0.8, label=\"Tent\")\n",
        "    plt.legend()\n",
        "  if SHOW_OUTPUT:\n",
        "    print(f\"\\n\\n{key} Tents: {n}\")\n",
        "  plt.savefig(f\"output/localized/{key}\")\n",
        "  if SHOW_OUTPUT:\n",
        "    plt.show()\n",
        "  else:\n",
        "    plt.close()\n",
        "\n",
        "with open(\"output/tent_counts.pkl\", \"wb\") as output:\n",
        "  pickle.dump(results, output, pickle.HIGHEST_PROTOCOL)\n",
        "\n",
        "shutil.make_archive(\"tent_counts\", \"tar\", \"output\")\n",
        "print(\"\\nDone.\")"
      ],
      "execution_count": 2,
      "outputs": [
        {
          "output_type": "stream",
          "name": "stdout",
          "text": [
            "Pixels Per Dot: 29\n"
          ]
        },
        {
          "output_type": "stream",
          "name": "stderr",
          "text": [
            "100%|██████████| 256/256 [02:26<00:00,  1.75it/s]"
          ]
        },
        {
          "output_type": "stream",
          "name": "stdout",
          "text": [
            "\n",
            "Done.\n"
          ]
        },
        {
          "output_type": "stream",
          "name": "stderr",
          "text": [
            "\n"
          ]
        }
      ]
    }
  ]
}