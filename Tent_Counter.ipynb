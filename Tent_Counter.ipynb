{
  "nbformat": 4,
  "nbformat_minor": 0,
  "metadata": {
    "colab": {
      "name": "Tent_Counter.ipynb",
      "provenance": [],
      "collapsed_sections": [],
      "authorship_tag": "ABX9TyOLYQrs5GvT3WYHlwW4WrJ6",
      "include_colab_link": true
    },
    "kernelspec": {
      "name": "python3",
      "display_name": "Python 3"
    },
    "language_info": {
      "name": "python"
    }
  },
  "cells": [
    {
      "cell_type": "markdown",
      "metadata": {
        "id": "view-in-github",
        "colab_type": "text"
      },
      "source": [
        "<a href=\"https://colab.research.google.com/github/zacharylazzara/tent-detection/blob/main/Tent_Counter.ipynb\" target=\"_parent\"><img src=\"https://colab.research.google.com/assets/colab-badge.svg\" alt=\"Open In Colab\"/></a>"
      ]
    },
    {
      "cell_type": "code",
      "metadata": {
        "colab": {
          "base_uri": "https://localhost:8080/"
        },
        "id": "2vaJHFVPHzcj",
        "outputId": "57407e7c-1a2f-4223-dda6-34dd4e337a07"
      },
      "source": [
        "%%bash\n",
        "if [ ! -d sarpol-zahab-tents ]; then\n",
        "  git clone https://github.com/tofighi/sarpol-zahab-tents.git\n",
        "  mkdir -p output/localized\n",
        "fi"
      ],
      "execution_count": 1,
      "outputs": [
        {
          "output_type": "stream",
          "name": "stderr",
          "text": [
            "Cloning into 'sarpol-zahab-tents'...\n"
          ]
        }
      ]
    },
    {
      "cell_type": "code",
      "metadata": {
        "colab": {
          "base_uri": "https://localhost:8080/"
        },
        "id": "9Dihg-97I6Dr",
        "outputId": "b378b8c7-3c28-44ed-9a9b-5ebd1b74d510"
      },
      "source": [
        "import numpy as np\n",
        "from PIL import Image\n",
        "from sklearn.cluster import KMeans\n",
        "import matplotlib.pyplot as plt\n",
        "from glob import glob\n",
        "import os\n",
        "from mpl_toolkits.axes_grid1 import ImageGrid\n",
        "from tqdm import tqdm\n",
        "import pickle\n",
        "import shutil\n",
        "\n",
        "SHOW_OUTPUT = False\n",
        "\n",
        "def load(path):\n",
        "  dataset = {}\n",
        "  for path in sorted(glob(path)):\n",
        "    mask = np.asarray(Image.open(path).convert('1'))\n",
        "    if np.sum(mask > 0):\n",
        "      dataset[os.path.basename(path).split(f\".\", 1)[0]] = mask\n",
        "  return dataset\n",
        "\n",
        "def kmeans_localize(mask, k):\n",
        "  mask = np.argwhere(mask.T == 1)\n",
        "  centers = None\n",
        "  kmeans = KMeans(n_clusters=k)\n",
        "  kmeans.fit(mask)\n",
        "  y_kmeans = kmeans.predict(mask)\n",
        "  centers = kmeans.cluster_centers_\n",
        "  return centers\n",
        "\n",
        "dataset = load(\"sarpol-zahab-tents/data/labels/*\")\n",
        "\n",
        "# alternatively we could scan through and take the image with the least white pixels (since we drop any image that has none)\n",
        "pixels_per_dot = np.sum(dataset[\"sarpol_057\"] == 1)\n",
        "\n",
        "print(f\"Pixels Per Dot: {pixels_per_dot}\")\n",
        "\n",
        "results = {}\n",
        "for key, value in tqdm(dataset.items()):\n",
        "  n = np.sum(value == 1) // pixels_per_dot\n",
        "  X = kmeans_localize(value, n)\n",
        "\n",
        "  results[key] = {\"count\":n, \"loc\":X}\n",
        "\n",
        "  fig = plt.figure(figsize=(10,10))\n",
        "  plt.title(f\"Image: {key}, Tents: {n}\")\n",
        "  plt.imshow(value, vmin=0, vmax=1)\n",
        "  plt.scatter(X[:,0], X[:,1], s=30, marker='x', c=\"green\", alpha=0.8, label=\"Tent\")\n",
        "  plt.legend()\n",
        "  if SHOW_OUTPUT:\n",
        "    print(f\"\\n\\n{key} Tents: {n}\")\n",
        "  plt.savefig(f\"output/localized/{n}_{key}\")\n",
        "  if SHOW_OUTPUT:\n",
        "    plt.show()\n",
        "  else:\n",
        "    plt.close()\n",
        "\n",
        "with open(\"output/tent_counts.pkl\", \"wb\") as output:\n",
        "  pickle.dump(results, output, pickle.HIGHEST_PROTOCOL)\n",
        "\n",
        "shutil.make_archive(\"tent_counts\", \"tar\", \"output\")\n",
        "print(\"\\nDone.\")"
      ],
      "execution_count": 2,
      "outputs": [
        {
          "output_type": "stream",
          "name": "stdout",
          "text": [
            "Pixels Per Dot: 29\n"
          ]
        },
        {
          "output_type": "stream",
          "name": "stderr",
          "text": [
            "100%|██████████| 90/90 [01:43<00:00,  1.15s/it]"
          ]
        },
        {
          "output_type": "stream",
          "name": "stdout",
          "text": [
            "Done.\n"
          ]
        },
        {
          "output_type": "stream",
          "name": "stderr",
          "text": [
            "\n"
          ]
        }
      ]
    }
  ]
}