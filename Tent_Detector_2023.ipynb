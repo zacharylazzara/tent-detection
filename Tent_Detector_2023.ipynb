{
  "cells": [
    {
      "cell_type": "markdown",
      "metadata": {
        "id": "view-in-github",
        "colab_type": "text"
      },
      "source": [
        "<a href=\"https://colab.research.google.com/github/zacharylazzara/tent-detection/blob/main/Tent_Detector_2023.ipynb\" target=\"_parent\"><img src=\"https://colab.research.google.com/assets/colab-badge.svg\" alt=\"Open In Colab\"/></a>"
      ]
    },
    {
      "cell_type": "markdown",
      "metadata": {
        "id": "2M59yW_AWZ1B"
      },
      "source": [
        "#Initialization"
      ]
    },
    {
      "cell_type": "markdown",
      "metadata": {
        "id": "GocOvAjoz3Zy"
      },
      "source": [
        "##Config"
      ]
    },
    {
      "cell_type": "code",
      "execution_count": 20,
      "metadata": {
        "id": "Rxo20pIfzlxW"
      },
      "outputs": [],
      "source": [
        "N_EPOCHS      = 200\n",
        "BATCH_SIZE    = 8\n",
        "INIT_LR       = 0.0001\n",
        "IMAGE_HEIGHT  = 512\n",
        "IMAGE_WIDTH   = 512\n",
        "TEST_SPLIT    = 0.15\n",
        "U_MODEL_NAME  = 'unet.pth'\n",
        "C_MODEL_NAME  = 'cnn.pth'\n",
        "OUTPUT_FORMAT = 'png'"
      ]
    },
    {
      "cell_type": "markdown",
      "metadata": {
        "id": "_hjSDyxitHih"
      },
      "source": [
        "##Imports"
      ]
    },
    {
      "cell_type": "code",
      "execution_count": 21,
      "metadata": {
        "id": "PMBNizBrtJZS"
      },
      "outputs": [],
      "source": [
        "!pip install torchmetrics -q\n",
        "import os\n",
        "import csv\n",
        "import cv2\n",
        "import torch\n",
        "import pandas as pd\n",
        "import matplotlib.pyplot as plt\n",
        "from statistics import mean\n",
        "from tqdm import tqdm\n",
        "from pathlib import Path\n",
        "from sklearn.model_selection import train_test_split\n",
        "from torch.nn import Module\n",
        "from torch.nn import Conv2d\n",
        "from torch.nn import Linear\n",
        "from torch.nn import MaxPool2d\n",
        "from torch.nn import ReLU\n",
        "from torch.nn import LogSoftmax\n",
        "from torch.nn import Sequential\n",
        "from torch.nn import ModuleList\n",
        "from torch.nn import ConvTranspose2d\n",
        "from torch.nn import Flatten\n",
        "from torch.nn import functional\n",
        "from torch.nn import BatchNorm2d\n",
        "from torch.nn.modules.loss import BCEWithLogitsLoss\n",
        "from torch.nn.modules.loss import PoissonNLLLoss\n",
        "from torchmetrics.classification import BinaryJaccardIndex\n",
        "from torch import flatten\n",
        "from torch import cat\n",
        "from torch import randn\n",
        "from torchvision import transforms\n",
        "from torchvision.transforms import CenterCrop\n",
        "from torchvision.utils import save_image\n",
        "from torch.utils.data import Dataset\n",
        "from torch.utils.data import DataLoader\n",
        "from torch.optim import Adam\n",
        "from torch.optim import SGD\n",
        "import torchvision.transforms.functional as TF"
      ]
    },
    {
      "cell_type": "markdown",
      "metadata": {
        "id": "7Vfi33_GtEj2"
      },
      "source": [
        "##Environment"
      ]
    },
    {
      "cell_type": "code",
      "execution_count": 22,
      "metadata": {
        "colab": {
          "base_uri": "https://localhost:8080/"
        },
        "id": "yI4mFY9uMosP",
        "outputId": "dc8796b0-143a-4de9-87a5-7262a47a4dd0"
      },
      "outputs": [
        {
          "output_type": "stream",
          "name": "stdout",
          "text": [
            "Using device: cuda\n"
          ]
        }
      ],
      "source": [
        "DEVICE = 'cuda' if torch.cuda.is_available() else 'cpu'\n",
        "PIN_MEMORY = True if DEVICE == \"cuda\" else False\n",
        "print(f'Using device: {DEVICE}')"
      ]
    },
    {
      "cell_type": "code",
      "execution_count": 23,
      "metadata": {
        "colab": {
          "base_uri": "https://localhost:8080/"
        },
        "id": "vorAQM6jtdOu",
        "outputId": "55a4b6ee-abde-4bc8-bb4d-205b036efea5"
      },
      "outputs": [
        {
          "output_type": "stream",
          "name": "stdout",
          "text": [
            "env: SRC_DIR=sarpol-zahab-tents\n",
            "env: OUTPUT_DIR=output\n"
          ]
        }
      ],
      "source": [
        "# Initialize Environment\n",
        "%env SRC_DIR        = sarpol-zahab-tents\n",
        "%env OUTPUT_DIR     = output\n",
        "\n",
        "SRC_DIR             = os.environ.get('SRC_DIR')\n",
        "OUTPUT_DIR          = os.environ.get('OUTPUT_DIR')\n",
        "\n",
        "DATA_PATH           = Path(f'{SRC_DIR}/data')\n",
        "IMAGES_PATH         = Path(f'{DATA_PATH}/images')\n",
        "MASKS_PATH          = Path(f'{DATA_PATH}/labels')\n",
        "LABELS_PATH         = Path(f'{DATA_PATH}/sarpol_counts.csv')\n",
        "EXT                 = '*.jpg'"
      ]
    },
    {
      "cell_type": "code",
      "execution_count": 24,
      "metadata": {
        "id": "wl8_C1Uas_F3"
      },
      "outputs": [],
      "source": [
        "# Initialize Directories\n",
        "%%bash\n",
        "\n",
        "if [ -d 'sample_data' ]; then\n",
        "  rm -r sample_data\n",
        "fi\n",
        "\n",
        "if [ ! -d $SRC_DIR ]; then\n",
        "  git clone https://github.com/tofighi/sarpol-zahab-tents.git\n",
        "fi\n",
        "\n",
        "if [ ! -d $OUTPUT_DIR ]; then\n",
        "  mkdir -p $OUTPUT_DIR\n",
        "fi"
      ]
    },
    {
      "cell_type": "markdown",
      "metadata": {
        "id": "QMaVfs-TuId3"
      },
      "source": [
        "#Models"
      ]
    },
    {
      "cell_type": "markdown",
      "metadata": {
        "id": "65mcYUXjBpMI"
      },
      "source": [
        "##UNet\n",
        "Adapted from: https://pyimagesearch.com/2021/11/08/u-net-training-image-segmentation-models-in-pytorch/"
      ]
    },
    {
      "cell_type": "code",
      "execution_count": 25,
      "metadata": {
        "id": "2IeM8zsTBq5d"
      },
      "outputs": [],
      "source": [
        "# Adapted from: https://pyimagesearch.com/2021/11/08/u-net-training-image-segmentation-models-in-pytorch/\n",
        "\n",
        "class Block(Module):\n",
        "  def __init__(self, in_channels, out_channels):\n",
        "    super(Block, self).__init__()\n",
        "    self.double_conv2d = Sequential(\n",
        "        Conv2d(in_channels, out_channels, 3, 1, 1, bias=False),\n",
        "        BatchNorm2d(out_channels),\n",
        "        ReLU(inplace=True),\n",
        "        Conv2d(out_channels, out_channels, 3, 1, 1, bias=False),\n",
        "        BatchNorm2d(out_channels),\n",
        "        ReLU(inplace=True)\n",
        "    )\n",
        "\n",
        "  def forward(self, x):\n",
        "    return self.double_conv2d(x)\n",
        "\n",
        "class Encoder(Module):\n",
        "  def __init__(self, channels=(3, 16, 32, 64)):\n",
        "    super(Encoder, self).__init__()\n",
        "    self.encoder_blocks = ModuleList([Block(channels[i], channels[i+1]) for i in range(len(channels)-1)])\n",
        "    self.pool = MaxPool2d(2)\n",
        "\n",
        "  def forward(self, x):\n",
        "    block_outputs = []\n",
        "    for block in self.encoder_blocks:\n",
        "      x = block(x)\n",
        "      block_outputs.append(x)\n",
        "      x = self.pool(x)\n",
        "    return block_outputs\n",
        "\n",
        "class Decoder(Module):\n",
        "  def __init__(self, channels=(64, 32, 16)):\n",
        "    super(Decoder, self).__init__()\n",
        "    self.up_convs = ModuleList([ConvTranspose2d(channels[i], channels[i+1], 2, 2) for i in range(len(channels)-1)])\n",
        "    self.decoder_blocks = ModuleList([Block(channels[i], channels[i+1]) for i in range(len(channels)-1)])\n",
        "  \n",
        "  def crop(self, encoder_features, x):\n",
        "    (_, _, H, W) = x.shape\n",
        "    return CenterCrop([H, W])(encoder_features)\n",
        "  \n",
        "  def forward(self, x, encoder_features):\n",
        "    for i in range(len(self.up_convs)):\n",
        "      x = self.up_convs[i](x)\n",
        "      encoder_feature = self.crop(encoder_features[i], x)\n",
        "      x = cat([x, encoder_feature], dim=1)\n",
        "      x = self.decoder_blocks[i](x)\n",
        "    return x\n",
        "\n",
        "class UNet(Module):\n",
        "  def __str__(self) -> str:\n",
        "    return 'UNet'\n",
        "\n",
        "  def __init__(self, encoder_channels=(3, 16, 32, 64), decoder_channels=(64, 32, 16), classes=1, retain_dim=True, output_size=(512, 512)):\n",
        "    super(UNet, self).__init__()\n",
        "    self.encoder = Encoder(encoder_channels)\n",
        "    self.decoder = Decoder(decoder_channels)\n",
        "    self.head = Conv2d(decoder_channels[-1], classes, 1)\n",
        "    self.retain_dim = retain_dim\n",
        "    self.output_size = output_size\n",
        "\n",
        "  def forward(self, x):\n",
        "    encoder_features = self.encoder(x)\n",
        "    decoder_features = self.decoder(encoder_features[::-1][0], encoder_features[::-1][1:])\n",
        "    map = self.head(decoder_features)\n",
        "    if self.retain_dim:\n",
        "      map = functional.interpolate(map, self.output_size)\n",
        "    return map"
      ]
    },
    {
      "cell_type": "markdown",
      "metadata": {
        "id": "GGFr3l_-QMM_"
      },
      "source": [
        "##CNN"
      ]
    },
    {
      "cell_type": "code",
      "execution_count": 26,
      "metadata": {
        "id": "ucYAtGS5QLO8"
      },
      "outputs": [],
      "source": [
        "class CNN(Module):\n",
        "  def __str__(self) -> str:\n",
        "    return 'CNN'\n",
        "\n",
        "  def __init__(self):\n",
        "    super(CNN, self).__init__()\n",
        "    self.model = Sequential(                # input:  3   x 512 x 512\n",
        "        Conv2d(1, 64, 3),                   # output: 64  x 510 x 510 # TODO: change 1 to 3? or leave as 1? (depends on the input we use)\n",
        "        ReLU(),                             #\n",
        "        MaxPool2d(2),                       # output: 64  x 255 x 255\n",
        "        Conv2d(64, 64, 3),                  # output: 64  x 253 x 253\n",
        "        ReLU(),                             #\n",
        "        MaxPool2d(2),                       # output: 64  x 126 x 126\n",
        "        Flatten(),                          # output: 1016064\n",
        "        Linear(1016064, 1),\n",
        "        ReLU(),\n",
        "        Linear(1, 1) # TODO: needs to be poisson output\n",
        "    )\n",
        "\n",
        "  def forward(self, x):\n",
        "    return self.model(x).t().squeeze()"
      ]
    },
    {
      "cell_type": "markdown",
      "metadata": {
        "id": "F3NPIPXp3Pac"
      },
      "source": [
        "##Dataset"
      ]
    },
    {
      "cell_type": "code",
      "execution_count": 27,
      "metadata": {
        "id": "U00pSVfc0M4f"
      },
      "outputs": [],
      "source": [
        "# Adapted from: https://pyimagesearch.com/2021/11/08/u-net-training-image-segmentation-models-in-pytorch/\n",
        "\n",
        "class SegmentationDataset(Dataset):\n",
        "  def __init__(self, dataframe, transformations = None):\n",
        "    self.dataframe = dataframe\n",
        "    self.transformations = transformations\n",
        "\n",
        "  def __len__(self):\n",
        "    return len(self.dataframe.index)\n",
        "\n",
        "  def __getitem__(self, index):\n",
        "    image = cv2.cvtColor(cv2.imread(self.dataframe.iloc[index]['image_paths']), cv2.COLOR_BGR2RGB)\n",
        "    mask = cv2.threshold(cv2.imread(self.dataframe.iloc[index]['mask_paths'], cv2.IMREAD_GRAYSCALE), 150, 255, cv2.THRESH_BINARY)[1]\n",
        "    if self.transformations is not None:\n",
        "      image = self.transformations(image)\n",
        "      mask = self.transformations(mask)\n",
        "    return (image, mask, self.dataframe.iloc[index]['labels'], self.dataframe.index[index])"
      ]
    },
    {
      "cell_type": "markdown",
      "metadata": {
        "id": "m5vpYefL-2Cx"
      },
      "source": [
        "#Training and Evaluation Functions"
      ]
    },
    {
      "cell_type": "markdown",
      "metadata": {
        "id": "6IRSA6DHOysx"
      },
      "source": [
        "##Training"
      ]
    },
    {
      "cell_type": "code",
      "execution_count": 28,
      "metadata": {
        "id": "XYnttTP3gxRX"
      },
      "outputs": [],
      "source": [
        "# Adapted from: https://pyimagesearch.com/2021/11/08/u-net-training-image-segmentation-models-in-pytorch/\n",
        "\n",
        "def train(model, t_loader, v_loader, loss_func, opt, metric=None, epochs=N_EPOCHS):\n",
        "  history = pd.DataFrame({\n",
        "      't': {'losses':[], 'metrics':[]},\n",
        "      'v': {'losses':[], 'metrics':[]}\n",
        "  })\n",
        "\n",
        "  if metric != None:\n",
        "    metric.to(DEVICE)\n",
        "\n",
        "  loop = tqdm(range(epochs))\n",
        "  for e in loop:\n",
        "    model.train()\n",
        "    losses = []\n",
        "    for (i, (x, y, c, _)) in enumerate(t_loader):\n",
        "      (x, y, c) = (x.to(DEVICE), y.to(DEVICE), c.to(DEVICE))\n",
        "      feature = (y if str(model) == 'CNN' else x)\n",
        "      target = (c if str(model) == 'CNN' else y)\n",
        "\n",
        "      pred = model(feature)\n",
        "      loss = loss_func(pred, target)\n",
        "      losses.append(loss.item())\n",
        "\n",
        "      if loss.requires_grad:\n",
        "        opt.zero_grad()\n",
        "        loss.backward()\n",
        "      opt.step()\n",
        "\n",
        "      if metric != None:\n",
        "        metric.update(pred, target)\n",
        "        \n",
        "    history['t']['losses'].append(mean(losses))\n",
        "    if metric != None:\n",
        "      history['t']['metrics'].append(metric.compute().cpu().detach().numpy())\n",
        "      metric.reset()\n",
        "    \n",
        "    with torch.no_grad():\n",
        "      model.eval()\n",
        "      \n",
        "      losses = []\n",
        "      for (x, y, c, _) in v_loader:\n",
        "        (x, y, c) = (x.to(DEVICE), y.to(DEVICE), c.to(DEVICE))\n",
        "        feature = (y if str(model) == 'CNN' else x)\n",
        "        target = (c if str(model) == 'CNN' else y)\n",
        "\n",
        "        pred = model(feature)\n",
        "        loss = loss_func(pred, target)\n",
        "        losses.append(loss.item())\n",
        "\n",
        "        if metric != None:\n",
        "          metric.update(pred, target)\n",
        "      \n",
        "      history['v']['losses'].append(mean(losses))\n",
        "      if metric != None:\n",
        "        history['v']['metrics'].append(metric.compute().cpu().detach().numpy())\n",
        "        metric.reset()\n",
        "\n",
        "    loop.set_description(f'E({e+1}/{N_EPOCHS}) Training {model}, Train Loss: {history[\"t\"][\"losses\"][-1]:.4f}, Test Loss: {history[\"v\"][\"losses\"][-1]:.4f}')\n",
        "  return history"
      ]
    },
    {
      "cell_type": "markdown",
      "metadata": {
        "id": "TT6QjNVRPTZY"
      },
      "source": [
        "##Prediction"
      ]
    },
    {
      "cell_type": "code",
      "execution_count": 43,
      "metadata": {
        "id": "fCq193FpPKr-"
      },
      "outputs": [],
      "source": [
        "# TODO: remove y as we shouldn't need the ground truth for the prediction (we'll need\n",
        "# to change the loader for the CNN however, as it should be using UNet's output)\n",
        "\n",
        "def predict(model, loader):\n",
        "  preds = pd.DataFrame({'names':[], 'image_paths':[], 'mask_paths':[], 'labels':[]}).set_index('names')\n",
        "  with torch.no_grad():\n",
        "    model.eval()\n",
        "    for (epoch, (x, y, _, name)) in enumerate(loader):\n",
        "      (x, y) = (x.to(DEVICE), y.to(DEVICE))\n",
        "      feature = (y if str(model) == 'CNN' else x)\n",
        "      pred = model(feature)\n",
        "\n",
        "      if str(model) == 'CNN':\n",
        "        for batch, c in enumerate(pred.cpu().detach()):\n",
        "          preds.loc[name[batch]] = {'labels': c.numpy()}\n",
        "      else:\n",
        "        for batch, img in enumerate(pred.cpu().detach()):\n",
        "          # Adapted from: https://discuss.pytorch.org/t/converting-tensors-to-images/99482/5\n",
        "          img = torch.sigmoid(img)\n",
        "          img = 1./(img.max()-img.min()) * img + 1.*img.min() / (img.min()-img.max())\n",
        "\n",
        "          out_path = f'{OUTPUT_DIR}/{name[batch]}.{OUTPUT_FORMAT}'\n",
        "          save_image(img, out_path)\n",
        "          \n",
        "          preds.loc[name[batch]] = {'mask_paths': out_path}\n",
        "  return preds"
      ]
    },
    {
      "cell_type": "markdown",
      "metadata": {
        "id": "drmFROkfN8j8"
      },
      "source": [
        "#Data Functions"
      ]
    },
    {
      "cell_type": "markdown",
      "metadata": {
        "id": "ndQyhPsJBNNt"
      },
      "source": [
        "##Load"
      ]
    },
    {
      "cell_type": "markdown",
      "metadata": {
        "id": "qZ97hPjhBhTu"
      },
      "source": [
        "Creates the DataFrame and loads the image paths."
      ]
    },
    {
      "cell_type": "code",
      "execution_count": 30,
      "metadata": {
        "id": "1bhM-gJ8uLKN"
      },
      "outputs": [],
      "source": [
        "def load_data(csv_path=LABELS_PATH):\n",
        "  with open(csv_path) as csv_file:\n",
        "    rows = [row for row in csv.reader(csv_file)]\n",
        "    return pd.DataFrame({\n",
        "        'names'        : [row[0].split('.')[0] for row in rows],\n",
        "        'image_paths'  : [str(next(IMAGES_PATH.glob(row[0]))) for row in rows],\n",
        "        'mask_paths'   : [str(next(MASKS_PATH.glob(row[0]))) for row in rows],\n",
        "        'labels'       : [int(row[1]) for row in rows]\n",
        "    }).set_index('names')"
      ]
    },
    {
      "cell_type": "code",
      "execution_count": 31,
      "metadata": {
        "colab": {
          "base_uri": "https://localhost:8080/",
          "height": 0
        },
        "id": "qkhL2f1YU8FB",
        "outputId": "c6608d8c-9f83-45bf-81f2-e026e6d2c2c3"
      },
      "outputs": [
        {
          "output_type": "execute_result",
          "data": {
            "text/plain": [
              "                                              image_paths  \\\n",
              "names                                                       \n",
              "sarpol_001  sarpol-zahab-tents/data/images/sarpol_001.jpg   \n",
              "sarpol_002  sarpol-zahab-tents/data/images/sarpol_002.jpg   \n",
              "sarpol_003  sarpol-zahab-tents/data/images/sarpol_003.jpg   \n",
              "sarpol_004  sarpol-zahab-tents/data/images/sarpol_004.jpg   \n",
              "sarpol_005  sarpol-zahab-tents/data/images/sarpol_005.jpg   \n",
              "...                                                   ...   \n",
              "sarpol_252  sarpol-zahab-tents/data/images/sarpol_252.jpg   \n",
              "sarpol_253  sarpol-zahab-tents/data/images/sarpol_253.jpg   \n",
              "sarpol_254  sarpol-zahab-tents/data/images/sarpol_254.jpg   \n",
              "sarpol_255  sarpol-zahab-tents/data/images/sarpol_255.jpg   \n",
              "sarpol_256  sarpol-zahab-tents/data/images/sarpol_256.jpg   \n",
              "\n",
              "                                               mask_paths  labels  \n",
              "names                                                              \n",
              "sarpol_001  sarpol-zahab-tents/data/labels/sarpol_001.jpg       5  \n",
              "sarpol_002  sarpol-zahab-tents/data/labels/sarpol_002.jpg       0  \n",
              "sarpol_003  sarpol-zahab-tents/data/labels/sarpol_003.jpg       2  \n",
              "sarpol_004  sarpol-zahab-tents/data/labels/sarpol_004.jpg       0  \n",
              "sarpol_005  sarpol-zahab-tents/data/labels/sarpol_005.jpg       0  \n",
              "...                                                   ...     ...  \n",
              "sarpol_252  sarpol-zahab-tents/data/labels/sarpol_252.jpg       0  \n",
              "sarpol_253  sarpol-zahab-tents/data/labels/sarpol_253.jpg       0  \n",
              "sarpol_254  sarpol-zahab-tents/data/labels/sarpol_254.jpg       0  \n",
              "sarpol_255  sarpol-zahab-tents/data/labels/sarpol_255.jpg       0  \n",
              "sarpol_256  sarpol-zahab-tents/data/labels/sarpol_256.jpg       0  \n",
              "\n",
              "[256 rows x 3 columns]"
            ],
            "text/html": [
              "\n",
              "  <div id=\"df-26598260-a5ba-43a4-86d4-b4416372af48\">\n",
              "    <div class=\"colab-df-container\">\n",
              "      <div>\n",
              "<style scoped>\n",
              "    .dataframe tbody tr th:only-of-type {\n",
              "        vertical-align: middle;\n",
              "    }\n",
              "\n",
              "    .dataframe tbody tr th {\n",
              "        vertical-align: top;\n",
              "    }\n",
              "\n",
              "    .dataframe thead th {\n",
              "        text-align: right;\n",
              "    }\n",
              "</style>\n",
              "<table border=\"1\" class=\"dataframe\">\n",
              "  <thead>\n",
              "    <tr style=\"text-align: right;\">\n",
              "      <th></th>\n",
              "      <th>image_paths</th>\n",
              "      <th>mask_paths</th>\n",
              "      <th>labels</th>\n",
              "    </tr>\n",
              "    <tr>\n",
              "      <th>names</th>\n",
              "      <th></th>\n",
              "      <th></th>\n",
              "      <th></th>\n",
              "    </tr>\n",
              "  </thead>\n",
              "  <tbody>\n",
              "    <tr>\n",
              "      <th>sarpol_001</th>\n",
              "      <td>sarpol-zahab-tents/data/images/sarpol_001.jpg</td>\n",
              "      <td>sarpol-zahab-tents/data/labels/sarpol_001.jpg</td>\n",
              "      <td>5</td>\n",
              "    </tr>\n",
              "    <tr>\n",
              "      <th>sarpol_002</th>\n",
              "      <td>sarpol-zahab-tents/data/images/sarpol_002.jpg</td>\n",
              "      <td>sarpol-zahab-tents/data/labels/sarpol_002.jpg</td>\n",
              "      <td>0</td>\n",
              "    </tr>\n",
              "    <tr>\n",
              "      <th>sarpol_003</th>\n",
              "      <td>sarpol-zahab-tents/data/images/sarpol_003.jpg</td>\n",
              "      <td>sarpol-zahab-tents/data/labels/sarpol_003.jpg</td>\n",
              "      <td>2</td>\n",
              "    </tr>\n",
              "    <tr>\n",
              "      <th>sarpol_004</th>\n",
              "      <td>sarpol-zahab-tents/data/images/sarpol_004.jpg</td>\n",
              "      <td>sarpol-zahab-tents/data/labels/sarpol_004.jpg</td>\n",
              "      <td>0</td>\n",
              "    </tr>\n",
              "    <tr>\n",
              "      <th>sarpol_005</th>\n",
              "      <td>sarpol-zahab-tents/data/images/sarpol_005.jpg</td>\n",
              "      <td>sarpol-zahab-tents/data/labels/sarpol_005.jpg</td>\n",
              "      <td>0</td>\n",
              "    </tr>\n",
              "    <tr>\n",
              "      <th>...</th>\n",
              "      <td>...</td>\n",
              "      <td>...</td>\n",
              "      <td>...</td>\n",
              "    </tr>\n",
              "    <tr>\n",
              "      <th>sarpol_252</th>\n",
              "      <td>sarpol-zahab-tents/data/images/sarpol_252.jpg</td>\n",
              "      <td>sarpol-zahab-tents/data/labels/sarpol_252.jpg</td>\n",
              "      <td>0</td>\n",
              "    </tr>\n",
              "    <tr>\n",
              "      <th>sarpol_253</th>\n",
              "      <td>sarpol-zahab-tents/data/images/sarpol_253.jpg</td>\n",
              "      <td>sarpol-zahab-tents/data/labels/sarpol_253.jpg</td>\n",
              "      <td>0</td>\n",
              "    </tr>\n",
              "    <tr>\n",
              "      <th>sarpol_254</th>\n",
              "      <td>sarpol-zahab-tents/data/images/sarpol_254.jpg</td>\n",
              "      <td>sarpol-zahab-tents/data/labels/sarpol_254.jpg</td>\n",
              "      <td>0</td>\n",
              "    </tr>\n",
              "    <tr>\n",
              "      <th>sarpol_255</th>\n",
              "      <td>sarpol-zahab-tents/data/images/sarpol_255.jpg</td>\n",
              "      <td>sarpol-zahab-tents/data/labels/sarpol_255.jpg</td>\n",
              "      <td>0</td>\n",
              "    </tr>\n",
              "    <tr>\n",
              "      <th>sarpol_256</th>\n",
              "      <td>sarpol-zahab-tents/data/images/sarpol_256.jpg</td>\n",
              "      <td>sarpol-zahab-tents/data/labels/sarpol_256.jpg</td>\n",
              "      <td>0</td>\n",
              "    </tr>\n",
              "  </tbody>\n",
              "</table>\n",
              "<p>256 rows × 3 columns</p>\n",
              "</div>\n",
              "      <button class=\"colab-df-convert\" onclick=\"convertToInteractive('df-26598260-a5ba-43a4-86d4-b4416372af48')\"\n",
              "              title=\"Convert this dataframe to an interactive table.\"\n",
              "              style=\"display:none;\">\n",
              "        \n",
              "  <svg xmlns=\"http://www.w3.org/2000/svg\" height=\"24px\"viewBox=\"0 0 24 24\"\n",
              "       width=\"24px\">\n",
              "    <path d=\"M0 0h24v24H0V0z\" fill=\"none\"/>\n",
              "    <path d=\"M18.56 5.44l.94 2.06.94-2.06 2.06-.94-2.06-.94-.94-2.06-.94 2.06-2.06.94zm-11 1L8.5 8.5l.94-2.06 2.06-.94-2.06-.94L8.5 2.5l-.94 2.06-2.06.94zm10 10l.94 2.06.94-2.06 2.06-.94-2.06-.94-.94-2.06-.94 2.06-2.06.94z\"/><path d=\"M17.41 7.96l-1.37-1.37c-.4-.4-.92-.59-1.43-.59-.52 0-1.04.2-1.43.59L10.3 9.45l-7.72 7.72c-.78.78-.78 2.05 0 2.83L4 21.41c.39.39.9.59 1.41.59.51 0 1.02-.2 1.41-.59l7.78-7.78 2.81-2.81c.8-.78.8-2.07 0-2.86zM5.41 20L4 18.59l7.72-7.72 1.47 1.35L5.41 20z\"/>\n",
              "  </svg>\n",
              "      </button>\n",
              "      \n",
              "  <style>\n",
              "    .colab-df-container {\n",
              "      display:flex;\n",
              "      flex-wrap:wrap;\n",
              "      gap: 12px;\n",
              "    }\n",
              "\n",
              "    .colab-df-convert {\n",
              "      background-color: #E8F0FE;\n",
              "      border: none;\n",
              "      border-radius: 50%;\n",
              "      cursor: pointer;\n",
              "      display: none;\n",
              "      fill: #1967D2;\n",
              "      height: 32px;\n",
              "      padding: 0 0 0 0;\n",
              "      width: 32px;\n",
              "    }\n",
              "\n",
              "    .colab-df-convert:hover {\n",
              "      background-color: #E2EBFA;\n",
              "      box-shadow: 0px 1px 2px rgba(60, 64, 67, 0.3), 0px 1px 3px 1px rgba(60, 64, 67, 0.15);\n",
              "      fill: #174EA6;\n",
              "    }\n",
              "\n",
              "    [theme=dark] .colab-df-convert {\n",
              "      background-color: #3B4455;\n",
              "      fill: #D2E3FC;\n",
              "    }\n",
              "\n",
              "    [theme=dark] .colab-df-convert:hover {\n",
              "      background-color: #434B5C;\n",
              "      box-shadow: 0px 1px 3px 1px rgba(0, 0, 0, 0.15);\n",
              "      filter: drop-shadow(0px 1px 2px rgba(0, 0, 0, 0.3));\n",
              "      fill: #FFFFFF;\n",
              "    }\n",
              "  </style>\n",
              "\n",
              "      <script>\n",
              "        const buttonEl =\n",
              "          document.querySelector('#df-26598260-a5ba-43a4-86d4-b4416372af48 button.colab-df-convert');\n",
              "        buttonEl.style.display =\n",
              "          google.colab.kernel.accessAllowed ? 'block' : 'none';\n",
              "\n",
              "        async function convertToInteractive(key) {\n",
              "          const element = document.querySelector('#df-26598260-a5ba-43a4-86d4-b4416372af48');\n",
              "          const dataTable =\n",
              "            await google.colab.kernel.invokeFunction('convertToInteractive',\n",
              "                                                     [key], {});\n",
              "          if (!dataTable) return;\n",
              "\n",
              "          const docLinkHtml = 'Like what you see? Visit the ' +\n",
              "            '<a target=\"_blank\" href=https://colab.research.google.com/notebooks/data_table.ipynb>data table notebook</a>'\n",
              "            + ' to learn more about interactive tables.';\n",
              "          element.innerHTML = '';\n",
              "          dataTable['output_type'] = 'display_data';\n",
              "          await google.colab.output.renderOutput(dataTable, element);\n",
              "          const docLink = document.createElement('div');\n",
              "          docLink.innerHTML = docLinkHtml;\n",
              "          element.appendChild(docLink);\n",
              "        }\n",
              "      </script>\n",
              "    </div>\n",
              "  </div>\n",
              "  "
            ]
          },
          "metadata": {},
          "execution_count": 31
        }
      ],
      "source": [
        "load_data()"
      ]
    },
    {
      "cell_type": "markdown",
      "metadata": {
        "id": "ZwAZOPs5tIwZ"
      },
      "source": [
        "#Main"
      ]
    },
    {
      "cell_type": "markdown",
      "metadata": {
        "id": "DeyDX72HMc4i"
      },
      "source": [
        "##Split"
      ]
    },
    {
      "cell_type": "code",
      "execution_count": 32,
      "metadata": {
        "id": "YRPIwxAFVkNd"
      },
      "outputs": [],
      "source": [
        "train_data, test_data = train_test_split(load_data(), test_size=TEST_SPLIT, random_state=42)\n",
        "\n",
        "transformations = transforms.Compose([transforms.ToPILImage(), transforms.Resize((IMAGE_HEIGHT, IMAGE_WIDTH)), transforms.ToTensor()])\n",
        "\n",
        "train_dataset = SegmentationDataset(train_data, transformations)\n",
        "test_dataset = SegmentationDataset(test_data, transformations)\n",
        "\n",
        "train_loader = DataLoader(train_dataset, shuffle=True, batch_size=BATCH_SIZE, pin_memory=PIN_MEMORY, num_workers=os.cpu_count())\n",
        "test_loader = DataLoader(test_dataset, shuffle=True, batch_size=BATCH_SIZE, pin_memory=PIN_MEMORY, num_workers=os.cpu_count())"
      ]
    },
    {
      "cell_type": "code",
      "execution_count": 33,
      "metadata": {
        "colab": {
          "base_uri": "https://localhost:8080/"
        },
        "id": "VGoAtv-FKDyc",
        "outputId": "5c839cbd-7c8a-4365-dcf6-e46a1177f765"
      },
      "outputs": [
        {
          "output_type": "stream",
          "name": "stdout",
          "text": [
            "Test to Train Ratio: 39/217 = 0.1797\n"
          ]
        }
      ],
      "source": [
        "test_count = len(test_data)\n",
        "train_count = len(train_data)\n",
        "print(f'Test to Train Ratio: {test_count}/{train_count} = {test_count/train_count:.4f}')"
      ]
    },
    {
      "cell_type": "markdown",
      "metadata": {
        "id": "enhIx-cPJjVg"
      },
      "source": [
        "##Load the Models"
      ]
    },
    {
      "cell_type": "code",
      "execution_count": 34,
      "metadata": {
        "id": "vWmNDPG5Jii4"
      },
      "outputs": [],
      "source": [
        "unet = UNet().to(DEVICE)\n",
        "cnn = CNN().to(DEVICE)\n",
        "\n",
        "if False: # TODO: determine the criteria for when we want to load the already created model (of course we also must check if it exists first too)\n",
        "  unet = torch.load(U_MODEL_PATH).to(DEVICE)\n",
        "  cnn = torch.load(C_MODEL_PATH).to(DEVICE)"
      ]
    },
    {
      "cell_type": "markdown",
      "metadata": {
        "id": "dxBm2aV6JcFt"
      },
      "source": [
        "##Train the Models"
      ]
    },
    {
      "cell_type": "code",
      "execution_count": 35,
      "metadata": {
        "colab": {
          "base_uri": "https://localhost:8080/"
        },
        "id": "2jtA5i4-g89g",
        "outputId": "4e595571-71f3-4c14-f471-d1062ef5acf4"
      },
      "outputs": [
        {
          "output_type": "stream",
          "name": "stderr",
          "text": [
            "E(200/200) Training UNet, Train Loss: 0.0170, Test Loss: 0.0180: 100%|██████████| 200/200 [30:51<00:00,  9.26s/it]\n",
            "E(200/200) Training CNN, Train Loss: -80.8334, Test Loss: -74.9805: 100%|██████████| 200/200 [12:57<00:00,  3.89s/it]\n"
          ]
        }
      ],
      "source": [
        "u_results = train(unet, train_loader, test_loader, BCEWithLogitsLoss(), Adam(unet.parameters(), lr=INIT_LR), BinaryJaccardIndex())\n",
        "c_results = train(cnn, train_loader, test_loader, PoissonNLLLoss(), Adam(cnn.parameters(), lr=INIT_LR))"
      ]
    },
    {
      "cell_type": "markdown",
      "metadata": {
        "id": "85AhAWC3JWij"
      },
      "source": [
        "##Save the Models"
      ]
    },
    {
      "cell_type": "code",
      "execution_count": 36,
      "metadata": {
        "id": "oa1u-8hiJVqT"
      },
      "outputs": [],
      "source": [
        "torch.save(unet, f'{OUTPUT_DIR}/{U_MODEL_NAME}')\n",
        "torch.save(cnn, f'{OUTPUT_DIR}/{C_MODEL_NAME}')"
      ]
    },
    {
      "cell_type": "markdown",
      "metadata": {
        "id": "EMaUJCVaSwpr"
      },
      "source": [
        "#Visualizations"
      ]
    },
    {
      "cell_type": "code",
      "execution_count": 37,
      "metadata": {
        "id": "ln7yNeFLObCk",
        "colab": {
          "base_uri": "https://localhost:8080/",
          "height": 1000
        },
        "outputId": "1b88f6db-aae0-4c8f-88eb-1e7f3b3437f5"
      },
      "outputs": [
        {
          "output_type": "display_data",
          "data": {
            "text/plain": [
              "<Figure size 640x480 with 1 Axes>"
            ],
            "image/png": "[encoded data removed]"
          },
          "metadata": {}
        },
        {
          "output_type": "display_data",
          "data": {
            "text/plain": [
              "<Figure size 640x480 with 1 Axes>"
            ],
            "image/png": "[encoded data removed]"
          },
          "metadata": {}
        },
        {
          "output_type": "display_data",
          "data": {
            "text/plain": [
              "<Figure size 640x480 with 1 Axes>"
            ],
            "image/png": "[encoded data removed]"
          },
          "metadata": {}
        }
      ],
      "source": [
        "# UNet\n",
        "plt.plot(u_results['t']['losses'], label='train loss')\n",
        "plt.plot(u_results['v']['losses'], label='test loss')\n",
        "plt.xlabel('Epoch')\n",
        "plt.ylabel('Loss')\n",
        "plt.ylim([0, 1])\n",
        "plt.legend(loc='lower right')\n",
        "plt.title('UNet')\n",
        "plt.show()\n",
        "\n",
        "# UNet\n",
        "plt.plot(u_results['t']['metrics'], label='train metrics')\n",
        "plt.plot(u_results['v']['metrics'], label='test metrics')\n",
        "plt.xlabel('Epoch')\n",
        "plt.ylabel('Accuracy')\n",
        "plt.ylim([0, 1])\n",
        "plt.legend(loc='lower right')\n",
        "plt.title('UNet')\n",
        "plt.show()\n",
        "\n",
        "# CNN\n",
        "plt.plot(c_results['t']['losses'], label='train loss')\n",
        "plt.plot(c_results['v']['losses'], label='test loss')\n",
        "plt.xlabel('Epoch')\n",
        "plt.ylabel('Loss')\n",
        "# plt.ylim([0, 1])\n",
        "plt.legend(loc='lower right')\n",
        "plt.title('CNN')\n",
        "plt.show()"
      ]
    },
    {
      "cell_type": "markdown",
      "metadata": {
        "id": "Y80DXIxqj_Dp"
      },
      "source": [
        "#Experimenting"
      ]
    },
    {
      "cell_type": "code",
      "execution_count": 44,
      "metadata": {
        "id": "SHmYiC6ij8Cj",
        "colab": {
          "base_uri": "https://localhost:8080/",
          "height": 1000
        },
        "outputId": "9985b25f-994e-442b-f315-368d1fd2b56e"
      },
      "outputs": [
        {
          "output_type": "execute_result",
          "data": {
            "text/plain": [
              "            image_paths             mask_paths     labels\n",
              "names                                                    \n",
              "sarpol_007          NaN  output/sarpol_007.png  0.6607153\n",
              "sarpol_010          NaN  output/sarpol_010.png  0.6607153\n",
              "sarpol_011          NaN  output/sarpol_011.png  0.6607153\n",
              "sarpol_016          NaN  output/sarpol_016.png  0.6607153\n",
              "sarpol_019          NaN  output/sarpol_019.png  0.6607153\n",
              "sarpol_020          NaN  output/sarpol_020.png  0.6607153\n",
              "sarpol_025          NaN  output/sarpol_025.png  0.6607153\n",
              "sarpol_026          NaN  output/sarpol_026.png  0.6607153\n",
              "sarpol_031          NaN  output/sarpol_031.png  0.6607153\n",
              "sarpol_034          NaN  output/sarpol_034.png  0.6607153\n",
              "sarpol_069          NaN  output/sarpol_069.png  0.6607153\n",
              "sarpol_076          NaN  output/sarpol_076.png  0.6607153\n",
              "sarpol_080          NaN  output/sarpol_080.png  0.6607153\n",
              "sarpol_087          NaN  output/sarpol_087.png  0.6607153\n",
              "sarpol_097          NaN  output/sarpol_097.png  2.0092492\n",
              "sarpol_098          NaN  output/sarpol_098.png   3.321882\n",
              "sarpol_118          NaN  output/sarpol_118.png   3.389045\n",
              "sarpol_121          NaN  output/sarpol_121.png  2.4824276\n",
              "sarpol_125          NaN  output/sarpol_125.png  0.6607153\n",
              "sarpol_137          NaN  output/sarpol_137.png  7.1280584\n",
              "sarpol_149          NaN  output/sarpol_149.png  0.6607153\n",
              "sarpol_153          NaN  output/sarpol_153.png  3.3692217\n",
              "sarpol_165          NaN  output/sarpol_165.png  0.6607153\n",
              "sarpol_168          NaN  output/sarpol_168.png  0.6607153\n",
              "sarpol_181          NaN  output/sarpol_181.png  0.6607153\n",
              "sarpol_185          NaN  output/sarpol_185.png  2.3725781\n",
              "sarpol_186          NaN  output/sarpol_186.png   5.971321\n",
              "sarpol_191          NaN  output/sarpol_191.png  0.6607153\n",
              "sarpol_200          NaN  output/sarpol_200.png  2.7594798\n",
              "sarpol_207          NaN  output/sarpol_207.png  0.6607153\n",
              "sarpol_209          NaN  output/sarpol_209.png  0.6607153\n",
              "sarpol_218          NaN  output/sarpol_218.png  5.2124176\n",
              "sarpol_223          NaN  output/sarpol_223.png  0.6607153\n",
              "sarpol_224          NaN  output/sarpol_224.png  0.6607153\n",
              "sarpol_229          NaN  output/sarpol_229.png  0.6607153\n",
              "sarpol_231          NaN  output/sarpol_231.png  0.6607153\n",
              "sarpol_236          NaN  output/sarpol_236.png  0.6607153\n",
              "sarpol_243          NaN  output/sarpol_243.png  0.6607153\n",
              "sarpol_254          NaN  output/sarpol_254.png  0.6607153"
            ],
            "text/html": [
              "\n",
              "  <div id=\"df-8918fd10-96e9-4212-9df9-521bb687eb2c\">\n",
              "    <div class=\"colab-df-container\">\n",
              "      <div>\n",
              "<style scoped>\n",
              "    .dataframe tbody tr th:only-of-type {\n",
              "        vertical-align: middle;\n",
              "    }\n",
              "\n",
              "    .dataframe tbody tr th {\n",
              "        vertical-align: top;\n",
              "    }\n",
              "\n",
              "    .dataframe thead th {\n",
              "        text-align: right;\n",
              "    }\n",
              "</style>\n",
              "<table border=\"1\" class=\"dataframe\">\n",
              "  <thead>\n",
              "    <tr style=\"text-align: right;\">\n",
              "      <th></th>\n",
              "      <th>image_paths</th>\n",
              "      <th>mask_paths</th>\n",
              "      <th>labels</th>\n",
              "    </tr>\n",
              "    <tr>\n",
              "      <th>names</th>\n",
              "      <th></th>\n",
              "      <th></th>\n",
              "      <th></th>\n",
              "    </tr>\n",
              "  </thead>\n",
              "  <tbody>\n",
              "    <tr>\n",
              "      <th>sarpol_007</th>\n",
              "      <td>NaN</td>\n",
              "      <td>output/sarpol_007.png</td>\n",
              "      <td>0.6607153</td>\n",
              "    </tr>\n",
              "    <tr>\n",
              "      <th>sarpol_010</th>\n",
              "      <td>NaN</td>\n",
              "      <td>output/sarpol_010.png</td>\n",
              "      <td>0.6607153</td>\n",
              "    </tr>\n",
              "    <tr>\n",
              "      <th>sarpol_011</th>\n",
              "      <td>NaN</td>\n",
              "      <td>output/sarpol_011.png</td>\n",
              "      <td>0.6607153</td>\n",
              "    </tr>\n",
              "    <tr>\n",
              "      <th>sarpol_016</th>\n",
              "      <td>NaN</td>\n",
              "      <td>output/sarpol_016.png</td>\n",
              "      <td>0.6607153</td>\n",
              "    </tr>\n",
              "    <tr>\n",
              "      <th>sarpol_019</th>\n",
              "      <td>NaN</td>\n",
              "      <td>output/sarpol_019.png</td>\n",
              "      <td>0.6607153</td>\n",
              "    </tr>\n",
              "    <tr>\n",
              "      <th>sarpol_020</th>\n",
              "      <td>NaN</td>\n",
              "      <td>output/sarpol_020.png</td>\n",
              "      <td>0.6607153</td>\n",
              "    </tr>\n",
              "    <tr>\n",
              "      <th>sarpol_025</th>\n",
              "      <td>NaN</td>\n",
              "      <td>output/sarpol_025.png</td>\n",
              "      <td>0.6607153</td>\n",
              "    </tr>\n",
              "    <tr>\n",
              "      <th>sarpol_026</th>\n",
              "      <td>NaN</td>\n",
              "      <td>output/sarpol_026.png</td>\n",
              "      <td>0.6607153</td>\n",
              "    </tr>\n",
              "    <tr>\n",
              "      <th>sarpol_031</th>\n",
              "      <td>NaN</td>\n",
              "      <td>output/sarpol_031.png</td>\n",
              "      <td>0.6607153</td>\n",
              "    </tr>\n",
              "    <tr>\n",
              "      <th>sarpol_034</th>\n",
              "      <td>NaN</td>\n",
              "      <td>output/sarpol_034.png</td>\n",
              "      <td>0.6607153</td>\n",
              "    </tr>\n",
              "    <tr>\n",
              "      <th>sarpol_069</th>\n",
              "      <td>NaN</td>\n",
              "      <td>output/sarpol_069.png</td>\n",
              "      <td>0.6607153</td>\n",
              "    </tr>\n",
              "    <tr>\n",
              "      <th>sarpol_076</th>\n",
              "      <td>NaN</td>\n",
              "      <td>output/sarpol_076.png</td>\n",
              "      <td>0.6607153</td>\n",
              "    </tr>\n",
              "    <tr>\n",
              "      <th>sarpol_080</th>\n",
              "      <td>NaN</td>\n",
              "      <td>output/sarpol_080.png</td>\n",
              "      <td>0.6607153</td>\n",
              "    </tr>\n",
              "    <tr>\n",
              "      <th>sarpol_087</th>\n",
              "      <td>NaN</td>\n",
              "      <td>output/sarpol_087.png</td>\n",
              "      <td>0.6607153</td>\n",
              "    </tr>\n",
              "    <tr>\n",
              "      <th>sarpol_097</th>\n",
              "      <td>NaN</td>\n",
              "      <td>output/sarpol_097.png</td>\n",
              "      <td>2.0092492</td>\n",
              "    </tr>\n",
              "    <tr>\n",
              "      <th>sarpol_098</th>\n",
              "      <td>NaN</td>\n",
              "      <td>output/sarpol_098.png</td>\n",
              "      <td>3.321882</td>\n",
              "    </tr>\n",
              "    <tr>\n",
              "      <th>sarpol_118</th>\n",
              "      <td>NaN</td>\n",
              "      <td>output/sarpol_118.png</td>\n",
              "      <td>3.389045</td>\n",
              "    </tr>\n",
              "    <tr>\n",
              "      <th>sarpol_121</th>\n",
              "      <td>NaN</td>\n",
              "      <td>output/sarpol_121.png</td>\n",
              "      <td>2.4824276</td>\n",
              "    </tr>\n",
              "    <tr>\n",
              "      <th>sarpol_125</th>\n",
              "      <td>NaN</td>\n",
              "      <td>output/sarpol_125.png</td>\n",
              "      <td>0.6607153</td>\n",
              "    </tr>\n",
              "    <tr>\n",
              "      <th>sarpol_137</th>\n",
              "      <td>NaN</td>\n",
              "      <td>output/sarpol_137.png</td>\n",
              "      <td>7.1280584</td>\n",
              "    </tr>\n",
              "    <tr>\n",
              "      <th>sarpol_149</th>\n",
              "      <td>NaN</td>\n",
              "      <td>output/sarpol_149.png</td>\n",
              "      <td>0.6607153</td>\n",
              "    </tr>\n",
              "    <tr>\n",
              "      <th>sarpol_153</th>\n",
              "      <td>NaN</td>\n",
              "      <td>output/sarpol_153.png</td>\n",
              "      <td>3.3692217</td>\n",
              "    </tr>\n",
              "    <tr>\n",
              "      <th>sarpol_165</th>\n",
              "      <td>NaN</td>\n",
              "      <td>output/sarpol_165.png</td>\n",
              "      <td>0.6607153</td>\n",
              "    </tr>\n",
              "    <tr>\n",
              "      <th>sarpol_168</th>\n",
              "      <td>NaN</td>\n",
              "      <td>output/sarpol_168.png</td>\n",
              "      <td>0.6607153</td>\n",
              "    </tr>\n",
              "    <tr>\n",
              "      <th>sarpol_181</th>\n",
              "      <td>NaN</td>\n",
              "      <td>output/sarpol_181.png</td>\n",
              "      <td>0.6607153</td>\n",
              "    </tr>\n",
              "    <tr>\n",
              "      <th>sarpol_185</th>\n",
              "      <td>NaN</td>\n",
              "      <td>output/sarpol_185.png</td>\n",
              "      <td>2.3725781</td>\n",
              "    </tr>\n",
              "    <tr>\n",
              "      <th>sarpol_186</th>\n",
              "      <td>NaN</td>\n",
              "      <td>output/sarpol_186.png</td>\n",
              "      <td>5.971321</td>\n",
              "    </tr>\n",
              "    <tr>\n",
              "      <th>sarpol_191</th>\n",
              "      <td>NaN</td>\n",
              "      <td>output/sarpol_191.png</td>\n",
              "      <td>0.6607153</td>\n",
              "    </tr>\n",
              "    <tr>\n",
              "      <th>sarpol_200</th>\n",
              "      <td>NaN</td>\n",
              "      <td>output/sarpol_200.png</td>\n",
              "      <td>2.7594798</td>\n",
              "    </tr>\n",
              "    <tr>\n",
              "      <th>sarpol_207</th>\n",
              "      <td>NaN</td>\n",
              "      <td>output/sarpol_207.png</td>\n",
              "      <td>0.6607153</td>\n",
              "    </tr>\n",
              "    <tr>\n",
              "      <th>sarpol_209</th>\n",
              "      <td>NaN</td>\n",
              "      <td>output/sarpol_209.png</td>\n",
              "      <td>0.6607153</td>\n",
              "    </tr>\n",
              "    <tr>\n",
              "      <th>sarpol_218</th>\n",
              "      <td>NaN</td>\n",
              "      <td>output/sarpol_218.png</td>\n",
              "      <td>5.2124176</td>\n",
              "    </tr>\n",
              "    <tr>\n",
              "      <th>sarpol_223</th>\n",
              "      <td>NaN</td>\n",
              "      <td>output/sarpol_223.png</td>\n",
              "      <td>0.6607153</td>\n",
              "    </tr>\n",
              "    <tr>\n",
              "      <th>sarpol_224</th>\n",
              "      <td>NaN</td>\n",
              "      <td>output/sarpol_224.png</td>\n",
              "      <td>0.6607153</td>\n",
              "    </tr>\n",
              "    <tr>\n",
              "      <th>sarpol_229</th>\n",
              "      <td>NaN</td>\n",
              "      <td>output/sarpol_229.png</td>\n",
              "      <td>0.6607153</td>\n",
              "    </tr>\n",
              "    <tr>\n",
              "      <th>sarpol_231</th>\n",
              "      <td>NaN</td>\n",
              "      <td>output/sarpol_231.png</td>\n",
              "      <td>0.6607153</td>\n",
              "    </tr>\n",
              "    <tr>\n",
              "      <th>sarpol_236</th>\n",
              "      <td>NaN</td>\n",
              "      <td>output/sarpol_236.png</td>\n",
              "      <td>0.6607153</td>\n",
              "    </tr>\n",
              "    <tr>\n",
              "      <th>sarpol_243</th>\n",
              "      <td>NaN</td>\n",
              "      <td>output/sarpol_243.png</td>\n",
              "      <td>0.6607153</td>\n",
              "    </tr>\n",
              "    <tr>\n",
              "      <th>sarpol_254</th>\n",
              "      <td>NaN</td>\n",
              "      <td>output/sarpol_254.png</td>\n",
              "      <td>0.6607153</td>\n",
              "    </tr>\n",
              "  </tbody>\n",
              "</table>\n",
              "</div>\n",
              "      <button class=\"colab-df-convert\" onclick=\"convertToInteractive('df-8918fd10-96e9-4212-9df9-521bb687eb2c')\"\n",
              "              title=\"Convert this dataframe to an interactive table.\"\n",
              "              style=\"display:none;\">\n",
              "        \n",
              "  <svg xmlns=\"http://www.w3.org/2000/svg\" height=\"24px\"viewBox=\"0 0 24 24\"\n",
              "       width=\"24px\">\n",
              "    <path d=\"M0 0h24v24H0V0z\" fill=\"none\"/>\n",
              "    <path d=\"M18.56 5.44l.94 2.06.94-2.06 2.06-.94-2.06-.94-.94-2.06-.94 2.06-2.06.94zm-11 1L8.5 8.5l.94-2.06 2.06-.94-2.06-.94L8.5 2.5l-.94 2.06-2.06.94zm10 10l.94 2.06.94-2.06 2.06-.94-2.06-.94-.94-2.06-.94 2.06-2.06.94z\"/><path d=\"M17.41 7.96l-1.37-1.37c-.4-.4-.92-.59-1.43-.59-.52 0-1.04.2-1.43.59L10.3 9.45l-7.72 7.72c-.78.78-.78 2.05 0 2.83L4 21.41c.39.39.9.59 1.41.59.51 0 1.02-.2 1.41-.59l7.78-7.78 2.81-2.81c.8-.78.8-2.07 0-2.86zM5.41 20L4 18.59l7.72-7.72 1.47 1.35L5.41 20z\"/>\n",
              "  </svg>\n",
              "      </button>\n",
              "      \n",
              "  <style>\n",
              "    .colab-df-container {\n",
              "      display:flex;\n",
              "      flex-wrap:wrap;\n",
              "      gap: 12px;\n",
              "    }\n",
              "\n",
              "    .colab-df-convert {\n",
              "      background-color: #E8F0FE;\n",
              "      border: none;\n",
              "      border-radius: 50%;\n",
              "      cursor: pointer;\n",
              "      display: none;\n",
              "      fill: #1967D2;\n",
              "      height: 32px;\n",
              "      padding: 0 0 0 0;\n",
              "      width: 32px;\n",
              "    }\n",
              "\n",
              "    .colab-df-convert:hover {\n",
              "      background-color: #E2EBFA;\n",
              "      box-shadow: 0px 1px 2px rgba(60, 64, 67, 0.3), 0px 1px 3px 1px rgba(60, 64, 67, 0.15);\n",
              "      fill: #174EA6;\n",
              "    }\n",
              "\n",
              "    [theme=dark] .colab-df-convert {\n",
              "      background-color: #3B4455;\n",
              "      fill: #D2E3FC;\n",
              "    }\n",
              "\n",
              "    [theme=dark] .colab-df-convert:hover {\n",
              "      background-color: #434B5C;\n",
              "      box-shadow: 0px 1px 3px 1px rgba(0, 0, 0, 0.15);\n",
              "      filter: drop-shadow(0px 1px 2px rgba(0, 0, 0, 0.3));\n",
              "      fill: #FFFFFF;\n",
              "    }\n",
              "  </style>\n",
              "\n",
              "      <script>\n",
              "        const buttonEl =\n",
              "          document.querySelector('#df-8918fd10-96e9-4212-9df9-521bb687eb2c button.colab-df-convert');\n",
              "        buttonEl.style.display =\n",
              "          google.colab.kernel.accessAllowed ? 'block' : 'none';\n",
              "\n",
              "        async function convertToInteractive(key) {\n",
              "          const element = document.querySelector('#df-8918fd10-96e9-4212-9df9-521bb687eb2c');\n",
              "          const dataTable =\n",
              "            await google.colab.kernel.invokeFunction('convertToInteractive',\n",
              "                                                     [key], {});\n",
              "          if (!dataTable) return;\n",
              "\n",
              "          const docLinkHtml = 'Like what you see? Visit the ' +\n",
              "            '<a target=\"_blank\" href=https://colab.research.google.com/notebooks/data_table.ipynb>data table notebook</a>'\n",
              "            + ' to learn more about interactive tables.';\n",
              "          element.innerHTML = '';\n",
              "          dataTable['output_type'] = 'display_data';\n",
              "          await google.colab.output.renderOutput(dataTable, element);\n",
              "          const docLink = document.createElement('div');\n",
              "          docLink.innerHTML = docLinkHtml;\n",
              "          element.appendChild(docLink);\n",
              "        }\n",
              "      </script>\n",
              "    </div>\n",
              "  </div>\n",
              "  "
            ]
          },
          "metadata": {},
          "execution_count": 44
        }
      ],
      "source": [
        "u_pred = predict(unet, test_loader)\n",
        "c_pred = predict(cnn, test_loader)\n",
        "u_pred.combine_first(c_pred)\n",
        "\n",
        "\n",
        "# TODO: when making predictions using the CNN we must use UNet's output."
      ]
    }
  ],
  "metadata": {
    "accelerator": "GPU",
    "colab": {
      "collapsed_sections": [
        "_hjSDyxitHih",
        "7Vfi33_GtEj2",
        "65mcYUXjBpMI",
        "F3NPIPXp3Pac",
        "drmFROkfN8j8",
        "ndQyhPsJBNNt",
        "DeyDX72HMc4i",
        "enhIx-cPJjVg",
        "85AhAWC3JWij"
      ],
      "provenance": [],
      "authorship_tag": "ABX9TyMtui4ZNbFZUOTJblibVH1/",
      "include_colab_link": true
    },
    "gpuClass": "standard",
    "kernelspec": {
      "display_name": "Python 3",
      "name": "python3"
    },
    "language_info": {
      "name": "python"
    }
  },
  "nbformat": 4,
  "nbformat_minor": 0
}