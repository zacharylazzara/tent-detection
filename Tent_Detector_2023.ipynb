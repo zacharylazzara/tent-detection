{
  "cells": [
    {
      "cell_type": "markdown",
      "metadata": {
        "id": "view-in-github",
        "colab_type": "text"
      },
      "source": [
        "<a href=\"https://colab.research.google.com/github/zacharylazzara/tent-detection/blob/main/Tent_Detector_2023.ipynb\" target=\"_parent\"><img src=\"https://colab.research.google.com/assets/colab-badge.svg\" alt=\"Open In Colab\"/></a>"
      ]
    },
    {
      "cell_type": "markdown",
      "source": [
        "#Settings"
      ],
      "metadata": {
        "id": "vr8GAPTqRD9F"
      }
    },
    {
      "cell_type": "code",
      "source": [
        "#@title Reset\n",
        "RESET = False #@param {type:\"boolean\"}\n",
        "if RESET:\n",
        "  !if [[ \"$PWD\" = \"/content\" ]]; then rm -r ./*; fi"
      ],
      "metadata": {
        "cellView": "form",
        "id": "2yBCxRsKNHlt"
      },
      "execution_count": 1,
      "outputs": []
    },
    {
      "cell_type": "code",
      "source": [
        "#@title Models\n",
        "import os\n",
        "from google.colab import files\n",
        "UPLOAD_MODEL              = False #@param {type:\"boolean\"}\n",
        "FORCE_UPLOAD              = False #@param {type:\"boolean\"}\n",
        "SEGMENTOR_MODEL_FILENAME  = 'unet.pth' #@param {type:\"string\"}\n",
        "\n",
        "uploaded_files = None\n",
        "if UPLOAD_MODEL:\n",
        "  if FORCE_UPLOAD:\n",
        "    os.remove(SEGMENTOR_MODEL_FILENAME)\n",
        "  if not (os.path.exists(SEGMENTOR_MODEL_FILENAME)):\n",
        "    uploaded_files = files.upload()\n",
        "    for filename in uploaded_files.keys():\n",
        "      print(f'Uploaded file \"{filename}\"')"
      ],
      "metadata": {
        "cellView": "form",
        "id": "_g4q4wCWzQW_"
      },
      "execution_count": 2,
      "outputs": []
    },
    {
      "cell_type": "code",
      "source": [
        "#@title Output\n",
        "DOWNLOAD_OUTPUT           = True #@param {type:\"boolean\"}\n",
        "PLAY_SOUND_ON_COMPLETE    = True #@param {type:\"boolean\"}\n",
        "KILL_RUNTIME_ON_COMPLETE  = True #@param {type:\"boolean\"}\n",
        "MINUTES_TO_KILL_RUNTIME   = 30 #@param {type:\"slider\", min:0, max:30, step:1}\n",
        "MINUTES_TO_KILL_RUNTIME   = MINUTES_TO_KILL_RUNTIME*60"
      ],
      "metadata": {
        "cellView": "form",
        "id": "UFtVNiv06x_g"
      },
      "execution_count": 3,
      "outputs": []
    },
    {
      "cell_type": "code",
      "execution_count": 4,
      "metadata": {
        "id": "Rxo20pIfzlxW",
        "cellView": "form"
      },
      "outputs": [],
      "source": [
        "#@title Config\n",
        "TRAIN_MODEL   = True #@param {type:\"boolean\"}\n",
        "N_EPOCHS      = 200 #@param {type:\"number\"}\n",
        "BATCH_SIZE    = 8 #@param {type:\"number\"}\n",
        "INIT_LR       = 0.0001 #@param {type:\"number\"}\n",
        "IMAGE_HEIGHT  = 512 #@param {type:\"number\"}\n",
        "IMAGE_WIDTH   = 512 #@param {type:\"number\"}\n",
        "TEST_SPLIT    = 0.15 #@param {type:\"number\"}\n",
        "RANDOM_STATE  = 42 #@param {type:\"number\"}\n",
        "OUTPUT_FORMAT = 'png' #@param [\"png\", \"jpg\"] {allow-input: true}\n",
        "INPUT_FORMAT  = 'jpg' #@param [\"png\", \"jpg\"] {allow-input: true}"
      ]
    },
    {
      "cell_type": "markdown",
      "source": [
        "#Definitions"
      ],
      "metadata": {
        "id": "Um5I5sgxSP31"
      }
    },
    {
      "cell_type": "markdown",
      "metadata": {
        "id": "7Vfi33_GtEj2"
      },
      "source": [
        "##Initialization"
      ]
    },
    {
      "cell_type": "code",
      "execution_count": 5,
      "metadata": {
        "id": "PMBNizBrtJZS",
        "cellView": "form",
        "colab": {
          "base_uri": "https://localhost:8080/"
        },
        "outputId": "9530d226-b120-4031-85cd-5afaf8704f6d"
      },
      "outputs": [
        {
          "output_type": "stream",
          "name": "stdout",
          "text": [
            "\u001b[?25l     \u001b[90m━━━━━━━━━━━━━━━━━━━━━━━━━━━━━━━━━━━━━━━━\u001b[0m \u001b[32m0.0/519.2 kB\u001b[0m \u001b[31m?\u001b[0m eta \u001b[36m-:--:--\u001b[0m\r\u001b[2K     \u001b[91m━━━━━━━━━━━━━━━━━━━━━━━━━━━━━━━━━━━━━\u001b[0m\u001b[90m╺\u001b[0m \u001b[32m512.0/519.2 kB\u001b[0m \u001b[31m60.5 MB/s\u001b[0m eta \u001b[36m0:00:01\u001b[0m\r\u001b[2K     \u001b[90m━━━━━━━━━━━━━━━━━━━━━━━━━━━━━━━━━━━━━━━\u001b[0m \u001b[32m519.2/519.2 kB\u001b[0m \u001b[31m8.7 MB/s\u001b[0m eta \u001b[36m0:00:00\u001b[0m\n",
            "\u001b[?25h"
          ]
        }
      ],
      "source": [
        "#@title Imports\n",
        "!pip install -q tqdm-thread\n",
        "!pip install torchmetrics -q\n",
        "import time\n",
        "import math\n",
        "import csv\n",
        "import cv2\n",
        "import torch\n",
        "import threading\n",
        "import numpy as np\n",
        "import pandas as pd\n",
        "import matplotlib.pyplot as plt\n",
        "import seaborn as sns\n",
        "from PIL import Image\n",
        "from PIL import ImageDraw\n",
        "from PIL import ImageFont\n",
        "from google.colab import output\n",
        "from google.colab import runtime\n",
        "from statistics import mean\n",
        "from tqdm.auto import tqdm\n",
        "from tqdm_thread import tqdm_thread\n",
        "from pathlib import Path\n",
        "from sklearn.model_selection import train_test_split\n",
        "from torch.nn import Module\n",
        "from torch.nn import Conv2d\n",
        "from torch.nn import Linear\n",
        "from torch.nn import MaxPool2d\n",
        "from torch.nn import ReLU\n",
        "from torch.nn import LogSoftmax\n",
        "from torch.nn import Sequential\n",
        "from torch.nn import ModuleList\n",
        "from torch.nn import ConvTranspose2d\n",
        "from torch.nn import Flatten\n",
        "from torch.nn import functional\n",
        "from torch.nn import BatchNorm2d\n",
        "from torch.nn import Softplus\n",
        "from torch.nn.modules.loss import BCEWithLogitsLoss\n",
        "from torch.nn.modules.loss import PoissonNLLLoss\n",
        "from torchmetrics.classification import BinaryJaccardIndex\n",
        "from torch import flatten\n",
        "from torch import cat\n",
        "from torch import randn\n",
        "from torchvision import transforms\n",
        "from torchvision.transforms import CenterCrop\n",
        "from torchvision.utils import save_image\n",
        "from torch.utils.data import Dataset\n",
        "from torch.utils.data import Subset\n",
        "from torch.utils.data import DataLoader\n",
        "from torch.optim import Adam\n",
        "from torch.optim import SGD\n",
        "import torchvision.transforms.functional as TF"
      ]
    },
    {
      "cell_type": "code",
      "execution_count": 6,
      "metadata": {
        "colab": {
          "base_uri": "https://localhost:8080/"
        },
        "id": "yI4mFY9uMosP",
        "outputId": "43195610-a3d9-4740-ea56-642221a444e7",
        "cellView": "form"
      },
      "outputs": [
        {
          "output_type": "stream",
          "name": "stdout",
          "text": [
            "Using device: cuda\n"
          ]
        }
      ],
      "source": [
        "#@title Device\n",
        "DEVICE = None\n",
        "if torch.cuda.is_available():\n",
        "    DEVICE = 'cuda'\n",
        "elif torch.backends.mps.is_available():\n",
        "    DEVICE = 'mps'\n",
        "else:\n",
        "    DEVICE = 'cpu'\n",
        "PIN_MEMORY = True if DEVICE != 'cpu' else False\n",
        "print(f'Using device: {DEVICE}')"
      ]
    },
    {
      "cell_type": "code",
      "execution_count": 7,
      "metadata": {
        "id": "vorAQM6jtdOu",
        "cellView": "form"
      },
      "outputs": [],
      "source": [
        "#@title Paths\n",
        "SRC_PATH        = os.environ['SRC_PATH']        = f'sarpol-zahab-tents'\n",
        "OUTPUT_PATH     = os.environ['OUTPUT_PATH']     = f'output'\n",
        "\n",
        "DATA_PATH       = os.environ['DATA_PATH']       = f'{SRC_PATH}/data'\n",
        "IMAGES_PATH     = os.environ['IMAGES_PATH']     = f'{DATA_PATH}/images'\n",
        "MASKS_PATH      = os.environ['MASKS_PATH']      = f'{DATA_PATH}/labels'\n",
        "LABELS_PATH     = os.environ['LABELS_PATH']     = f'{DATA_PATH}/sarpol_counts.csv'\n",
        "\n",
        "MODELS_PATH     = os.environ['MODELS_PATH']     = f'{OUTPUT_PATH}/models'\n",
        "METRICS_PATH    = os.environ['METRICS_PATH']    = f'{OUTPUT_PATH}/metrics'\n",
        "PREDS_PATH      = os.environ['PREDS_PATH']      = f'{OUTPUT_PATH}/predictions'\n",
        "\n",
        "REGIONS_PATH    = os.environ['REGIONS_PATH']    = f'{OUTPUT_PATH}/regions'\n",
        "REGIONS_Y_PATH  = os.environ['REGIONS_Y_PATH']  = f'{REGIONS_PATH}/truths'\n",
        "REGIONS_P_PATH  = os.environ['REGIONS_P_PATH']  = f'{REGIONS_PATH}/predictions'\n",
        "\n",
        "OVERVIEW_PATH   = os.environ['OVERVIEW_PATH']   = f'{OUTPUT_PATH}/overviews'\n",
        "OVERLAY_PATH    = os.environ['OVERLAY_PATH']    = f'{OUTPUT_PATH}/overlays'\n",
        "OVERLAY_Y_PATH  = os.environ['OVERLAY_Y_PATH']  = f'{OVERLAY_PATH}/truths'\n",
        "OVERLAY_P_PATH  = os.environ['OVERLAY_P_PATH']  = f'{OVERLAY_PATH}/predictions'\n",
        "OVERLAY_PR_PATH = os.environ['OVERLAY_PR_PATH'] = f'{OVERLAY_P_PATH}/regions'\n",
        "OVERLAY_YR_PATH = os.environ['OVERLAY_YR_PATH'] = f'{OVERLAY_Y_PATH}/regions'"
      ]
    },
    {
      "cell_type": "code",
      "source": [
        "#@title Environment\n",
        "%%bash\n",
        "\n",
        "if [ -d 'sample_data' ]; then\n",
        "  rm -r sample_data\n",
        "fi\n",
        "\n",
        "if [ ! -d $SRC_PATH ]; then\n",
        "  git clone https://github.com/tofighi/sarpol-zahab-tents.git\n",
        "fi\n",
        "\n",
        "if [ ! -d $OUTPUT_PATH ]; then\n",
        "  mkdir -p $MODELS_PATH\n",
        "  mkdir -p $METRICS_PATH\n",
        "  mkdir -p $PREDS_PATH\n",
        "  mkdir -p $REGIONS_PATH\n",
        "  mkdir -p $REGIONS_Y_PATH\n",
        "  mkdir -p $REGIONS_P_PATH\n",
        "  mkdir -p $OVERVIEW_PATH\n",
        "  mkdir -p $OVERLAY_PATH\n",
        "  mkdir -p $OVERLAY_Y_PATH\n",
        "  mkdir -p $OVERLAY_P_PATH\n",
        "  mkdir -p $OVERLAY_PR_PATH\n",
        "  mkdir -p $OVERLAY_YR_PATH\n",
        "fi"
      ],
      "metadata": {
        "colab": {
          "base_uri": "https://localhost:8080/"
        },
        "cellView": "form",
        "id": "NMzegdPaUd7Q",
        "outputId": "5f0a4561-af6d-4aa2-cb31-918c82d8f034"
      },
      "execution_count": 8,
      "outputs": [
        {
          "output_type": "stream",
          "name": "stderr",
          "text": [
            "Cloning into 'sarpol-zahab-tents'...\n"
          ]
        }
      ]
    },
    {
      "cell_type": "markdown",
      "metadata": {
        "id": "QMaVfs-TuId3"
      },
      "source": [
        "##Models"
      ]
    },
    {
      "cell_type": "code",
      "execution_count": 9,
      "metadata": {
        "id": "2IeM8zsTBq5d",
        "cellView": "form"
      },
      "outputs": [],
      "source": [
        "#@title UNet\n",
        "# Adapted from: https://pyimagesearch.com/2021/11/08/u-net-training-image-segmentation-models-in-pytorch/\n",
        "class Block(Module):\n",
        "  def __init__(self, in_channels, out_channels):\n",
        "    super(Block, self).__init__()\n",
        "    self.double_conv2d = Sequential(\n",
        "        Conv2d(in_channels, out_channels, 3, 1, 1, bias=False),\n",
        "        BatchNorm2d(out_channels),\n",
        "        ReLU(inplace=True),\n",
        "        Conv2d(out_channels, out_channels, 3, 1, 1, bias=False),\n",
        "        BatchNorm2d(out_channels),\n",
        "        ReLU(inplace=True)\n",
        "    )\n",
        "\n",
        "  def forward(self, x):\n",
        "    return self.double_conv2d(x)\n",
        "\n",
        "class Encoder(Module):\n",
        "  def __init__(self, channels=(3, 16, 32, 64)):\n",
        "    super(Encoder, self).__init__()\n",
        "    self.encoder_blocks = ModuleList([Block(channels[i], channels[i+1]) for i in range(len(channels)-1)])\n",
        "    self.pool = MaxPool2d(2)\n",
        "\n",
        "  def forward(self, x):\n",
        "    block_outputs = []\n",
        "    for block in self.encoder_blocks:\n",
        "      x = block(x)\n",
        "      block_outputs.append(x)\n",
        "      x = self.pool(x)\n",
        "    return block_outputs\n",
        "\n",
        "class Decoder(Module):\n",
        "  def __init__(self, channels=(64, 32, 16)):\n",
        "    super(Decoder, self).__init__()\n",
        "    self.up_convs = ModuleList([ConvTranspose2d(channels[i], channels[i+1], 2, 2) for i in range(len(channels)-1)])\n",
        "    self.decoder_blocks = ModuleList([Block(channels[i], channels[i+1]) for i in range(len(channels)-1)])\n",
        "  \n",
        "  def crop(self, encoder_features, x):\n",
        "    (_, _, H, W) = x.shape\n",
        "    return CenterCrop([H, W])(encoder_features)\n",
        "  \n",
        "  def forward(self, x, encoder_features):\n",
        "    for i in range(len(self.up_convs)):\n",
        "      x = self.up_convs[i](x)\n",
        "      encoder_feature = self.crop(encoder_features[i], x)\n",
        "      x = cat([x, encoder_feature], dim=1)\n",
        "      x = self.decoder_blocks[i](x)\n",
        "    return x\n",
        "\n",
        "class UNet(Module):\n",
        "  def __str__(self) -> str:\n",
        "    return 'UNet'\n",
        "\n",
        "  def __init__(self, encoder_channels=(3, 16, 32, 64), decoder_channels=(64, 32, 16), classes=1, retain_dim=True, output_size=(512, 512)):\n",
        "    super(UNet, self).__init__()\n",
        "    self.encoder = Encoder(encoder_channels)\n",
        "    self.decoder = Decoder(decoder_channels)\n",
        "    self.head = Conv2d(decoder_channels[-1], classes, 1)\n",
        "    self.retain_dim = retain_dim\n",
        "    self.output_size = output_size\n",
        "\n",
        "  def forward(self, x):\n",
        "    encoder_features = self.encoder(x)\n",
        "    decoder_features = self.decoder(encoder_features[::-1][0], encoder_features[::-1][1:])\n",
        "    map = self.head(decoder_features)\n",
        "    if self.retain_dim:\n",
        "      map = functional.interpolate(map, self.output_size)\n",
        "    return map"
      ]
    },
    {
      "cell_type": "code",
      "execution_count": 10,
      "metadata": {
        "id": "U00pSVfc0M4f",
        "cellView": "form"
      },
      "outputs": [],
      "source": [
        "#@title Dataset\n",
        "# Adapted from: https://pyimagesearch.com/2021/11/08/u-net-training-image-segmentation-models-in-pytorch/\n",
        "class SegmentationDataset(Dataset):\n",
        "  def __init__(self, dataframe, transformations = None):\n",
        "    self.dataframe = dataframe\n",
        "    self.transformations = transformations\n",
        "\n",
        "  def __len__(self):\n",
        "    return len(self.dataframe.index)\n",
        "\n",
        "  def __getitem__(self, index):\n",
        "    image = cv2.cvtColor(cv2.imread(self.dataframe.iloc[index]['image_paths']), cv2.COLOR_BGR2RGB)\n",
        "    mask = cv2.threshold(cv2.imread(self.dataframe.iloc[index]['mask_paths'], cv2.IMREAD_GRAYSCALE), 150, 255, cv2.THRESH_BINARY)[1]\n",
        "    if self.transformations is not None:\n",
        "      image = self.transformations(image)\n",
        "      mask = self.transformations(mask)\n",
        "    return (image, mask, self.dataframe.iloc[index]['labels'], self.dataframe.index[index])"
      ]
    },
    {
      "cell_type": "markdown",
      "metadata": {
        "id": "m5vpYefL-2Cx"
      },
      "source": [
        "##Functions"
      ]
    },
    {
      "cell_type": "code",
      "execution_count": 11,
      "metadata": {
        "id": "1bhM-gJ8uLKN",
        "cellView": "form"
      },
      "outputs": [],
      "source": [
        "#@title Load\n",
        "def load_data(images_path=IMAGES_PATH, masks_path=MASKS_PATH, csv_path=LABELS_PATH):\n",
        "  with open(csv_path) as csv_file:\n",
        "    rows = [row for row in csv.reader(csv_file)]\n",
        "    assert len(rows) % 2 == 0 # We need our data to be square in order to tile it later\n",
        "  return pd.DataFrame({\n",
        "    'names'        : [row[0].split('.')[0] for row in rows],\n",
        "    'image_paths'  : [str(next(Path(images_path).glob(row[0]))) for row in rows],\n",
        "    'mask_paths'   : [str(next(Path(masks_path).glob(row[0]))) for row in rows],\n",
        "    'labels'       : [int(row[1]) for row in rows]\n",
        "  }).set_index('names').astype({'labels': 'int'})"
      ]
    },
    {
      "cell_type": "code",
      "execution_count": 12,
      "metadata": {
        "id": "XYnttTP3gxRX",
        "cellView": "form"
      },
      "outputs": [],
      "source": [
        "#@title Train\n",
        "# Adapted from: https://pyimagesearch.com/2021/11/08/u-net-training-image-segmentation-models-in-pytorch/\n",
        "def train(model, t_loader, v_loader, loss_func, opt, metric=None, epochs=N_EPOCHS):\n",
        "  history = pd.DataFrame({\n",
        "      't': {'losses':[], 'metrics':[]},\n",
        "      'v': {'losses':[], 'metrics':[]}\n",
        "  })\n",
        "\n",
        "  if metric != None:\n",
        "    metric.to(DEVICE)\n",
        "\n",
        "  progress_bar = tqdm(range(epochs))\n",
        "  for e in progress_bar:\n",
        "    model.train()\n",
        "    losses = []\n",
        "    for (i, (x, y, _, _)) in enumerate(t_loader):\n",
        "      (x, y) = (x.to(DEVICE), y.to(DEVICE))\n",
        "\n",
        "      pred = model(x)\n",
        "      loss = loss_func(pred, y)\n",
        "      losses.append(loss.item())\n",
        "\n",
        "      if loss.requires_grad:\n",
        "        opt.zero_grad()\n",
        "        loss.backward()\n",
        "      opt.step()\n",
        "\n",
        "      if metric != None:\n",
        "        metric.update(pred, y)\n",
        "        \n",
        "    history['t']['losses'].append(mean(losses))\n",
        "    if metric != None:\n",
        "      history['t']['metrics'].append(metric.compute().cpu().detach().numpy())\n",
        "      metric.reset()\n",
        "    \n",
        "    with torch.no_grad():\n",
        "      model.eval()\n",
        "      \n",
        "      losses = []\n",
        "      for (x, y, _, _) in v_loader:\n",
        "        (x, y) = (x.to(DEVICE), y.to(DEVICE))\n",
        "\n",
        "        pred = model(x)\n",
        "        loss = loss_func(pred, y)\n",
        "        losses.append(loss.item())\n",
        "\n",
        "        if metric != None:\n",
        "          metric.update(pred, y)\n",
        "      \n",
        "      history['v']['losses'].append(mean(losses))\n",
        "      if metric != None:\n",
        "        history['v']['metrics'].append(metric.compute().cpu().detach().numpy())\n",
        "        metric.reset()\n",
        "\n",
        "    progress_bar.set_description(f'Epoch({e+1}/{N_EPOCHS}) Training {model}, Train Loss: {history[\"t\"][\"losses\"][-1]:.4f}, Test Loss: {history[\"v\"][\"losses\"][-1]:.4f}')\n",
        "  return history"
      ]
    },
    {
      "cell_type": "code",
      "source": [
        "#@title Predict\n",
        "def predict(model, loader, output_dir=PREDS_PATH):\n",
        "  preds = []\n",
        "  with torch.no_grad():\n",
        "    model.eval()\n",
        "    progress_bar = tqdm(loader)\n",
        "    progress_bar.set_description(f'Evaluating {model}')\n",
        "    for (x, y, _, name) in progress_bar:\n",
        "      (x, y) = (x.to(DEVICE), y.to(DEVICE))\n",
        "      p = model(x)\n",
        "      for batch, img in enumerate(p.cpu().detach()):\n",
        "        out_path = f'{output_dir}/{name[batch]}.{OUTPUT_FORMAT}'\n",
        "        save_image(img, out_path)\n",
        "        preds.append({'names':name[batch], 'image_paths':str(next(Path(IMAGES_PATH).glob(f'{name[batch]}.{INPUT_FORMAT}'))), 'mask_paths':out_path, 'labels':count_contours(img)})\n",
        "        progress_bar.set_description(f'Saved prediction for {name[batch]} to {out_path}')\n",
        "  return pd.DataFrame(preds).set_index('names').fillna(np.nan)"
      ],
      "metadata": {
        "cellView": "form",
        "id": "MWTAGgdYc1SW"
      },
      "execution_count": 13,
      "outputs": []
    },
    {
      "cell_type": "code",
      "source": [
        "#@title Region\n",
        "def region_box(c, w, h):\n",
        "  shape = [(0, 0), (w-1, h-1)]\n",
        "  \n",
        "  img = Image.new('RGBA', (w, h))\n",
        "  num = ImageDraw.Draw(img)\n",
        "  font = ImageFont.truetype('LiberationMono-Regular.ttf', 50)\n",
        "  num.text((10, 10), f'{c}', font=font, fill =(255, 0, 0))\n",
        "\n",
        "  rec = ImageDraw.Draw(img)  \n",
        "  rec.rectangle(shape, fill = None, outline ='red')\n",
        "\n",
        "  return img\n",
        "\n",
        "def region(loader, output_dir=REGIONS_PATH, overview_name='regions_overview'):\n",
        "  region_paths = []\n",
        "  progress_bar = tqdm(loader)\n",
        "  progress_bar.set_description(f'Creating region overlays...')\n",
        "  region_overview = None\n",
        "  for (_, y, c, name) in progress_bar:\n",
        "    regions = []\n",
        "    for batch, img in enumerate(y.cpu().detach()):\n",
        "      out_path = f'{output_dir}/{name[batch]}.{OUTPUT_FORMAT}'\n",
        "      region = region_box(c[batch], img.shape[1], img.shape[2])\n",
        "      region.save(out_path)\n",
        "      region_paths.append({'names':name[batch], 'region_paths':out_path})\n",
        "      progress_bar.set_description(f'Saved region overlay for {name[batch]} to {out_path}')\n",
        "\n",
        "      transform = transforms.Compose([transforms.PILToTensor()])\n",
        "      region = transform(region)\n",
        "      regions.append(region)\n",
        "\n",
        "    region_overview = tiler(region_overview, regions).double()\n",
        "  save_image(region_overview, f'{OVERVIEW_PATH}/{overview_name}.{OUTPUT_FORMAT}')\n",
        "  return pd.DataFrame(region_paths).set_index('names').fillna(np.nan)"
      ],
      "metadata": {
        "cellView": "form",
        "id": "cYBdfrVQrdWX"
      },
      "execution_count": 14,
      "outputs": []
    },
    {
      "cell_type": "code",
      "source": [
        "#@title Tile\n",
        "def tiler(tiles, tile_row):\n",
        "  \"\"\"tile_row must be a row of tiles\"\"\"\n",
        "  if tiles == None:\n",
        "    tiles = torch.cat(tuple(tile_row), 2)\n",
        "  else:\n",
        "    tiles = torch.cat((tiles, torch.cat(tuple(tile_row), 2)), 1)\n",
        "  return tiles\n",
        " \n",
        "def tile(loader, output_path_x, output_path_y):\n",
        "  output_x = output_y = None\n",
        "  progress_bar = tqdm(loader)\n",
        "  progress_bar.set_description('Tiling')\n",
        "  for (x, y, _, _) in progress_bar:\n",
        "    if output_path_x != None:\n",
        "      output_x = tiler(output_x, x)\n",
        "    if output_path_y != None:\n",
        "      output_y = tiler(output_y, y)\n",
        "\n",
        "  if output_x != None:\n",
        "    print(f'Saving {output_path_x}...')\n",
        "    save_image(output_x, output_path_x)\n",
        "  if output_y != None:\n",
        "    print(f'Saving {output_path_y}...')\n",
        "    save_image(output_y, output_path_y)\n",
        "  print('Done.')"
      ],
      "metadata": {
        "id": "I3XDsjxXLxXb",
        "cellView": "form"
      },
      "execution_count": 15,
      "outputs": []
    },
    {
      "cell_type": "code",
      "source": [
        "#@title Count Contours\n",
        "# Adapted from https://stackoverflow.com/questions/48154642/how-to-count-number-of-dots-in-an-image-using-python-and-opencv\n",
        "def contours(y):\n",
        "  img = y.numpy().T.astype(np.uint8).copy()\n",
        "\n",
        "  kernel = cv2.getStructuringElement(cv2.MORPH_ELLIPSE, (2, 2))\n",
        "  closing = cv2.morphologyEx(img, cv2.MORPH_CLOSE, kernel)\n",
        "  cnts = cv2.findContours(closing, cv2.RETR_LIST, cv2.CHAIN_APPROX_SIMPLE)[-2]\n",
        "\n",
        "  max_area = 20\n",
        "  xcnts = []\n",
        "  for cnt in cnts:\n",
        "    if cv2.contourArea(cnt) < max_area:\n",
        "      xcnts.append(cnt)\n",
        "\n",
        "  return xcnts\n",
        "\n",
        "def count_contours(y):\n",
        "  return int(len(contours(y)))\n",
        "\n",
        "def localize_contours(y):\n",
        "  # Note that not all detected contours will be localizable, as some are opened\n",
        "  # (i.e., look like a C) and thus result in a division by zero error (thus we \n",
        "  # use isContourConvex() to address this).\n",
        "\n",
        "  moments = [cv2.moments(cnt, True) for cnt in contours(y) if cv2.isContourConvex(cnt)]\n",
        "  coordinates = [(m['m10']/m['m00'], m['m01']/m['m00']) for m in moments]\n",
        "  return coordinates\n",
        "\n",
        "def count(loader):\n",
        "  preds = []\n",
        "  progress_bar = tqdm(loader)\n",
        "  progress_bar.set_description('Counting Contours...')\n",
        "  for (_, y, _, name) in progress_bar:\n",
        "    y = y.to(DEVICE)\n",
        "    for batch, img in enumerate(y.cpu().detach()):\n",
        "      preds.append({'names':name[batch], 'image_paths':str(next(IMAGES_PATH.glob(f'{name[batch]}{EXT}'))), 'mask_paths':None, 'labels':count_contours(img)})\n",
        "  return pd.DataFrame(preds).set_index('names').fillna(np.nan)"
      ],
      "metadata": {
        "cellView": "form",
        "id": "ii8GBUBZdZvI"
      },
      "execution_count": 16,
      "outputs": []
    },
    {
      "cell_type": "code",
      "source": [
        "#@title Overlay\n",
        "def overlay(background_path, foreground_path, output_path, bg_opacity = 1, fg_opacity = 1):\n",
        "  with Image.open(background_path).convert('RGBA') as background:\n",
        "    background = np.array(background)\n",
        "  with Image.open(foreground_path).convert('RGBA') as foreground:\n",
        "    foreground = np.array(foreground)\n",
        "\n",
        "  for channel in range(1, 2):\n",
        "    foreground[foreground[:,:,channel] > 0, channel] = 0\n",
        "\n",
        "  overlay = cv2.addWeighted(background, bg_opacity, foreground, fg_opacity, 0)\n",
        "  output = Image.fromarray(overlay)\n",
        "  output.save(output_path)\n",
        "\n",
        "  return output_path"
      ],
      "metadata": {
        "id": "GL0JBVPP0ALP",
        "cellView": "form"
      },
      "execution_count": 17,
      "outputs": []
    },
    {
      "cell_type": "code",
      "source": [
        "#@title Heatmap\n",
        "def heatmap(image_path, dataframe, output_path):\n",
        "  data = [x for x in np.array_split(dataframe['labels'].replace(0, np.nan).tolist(), int(math.sqrt(dataframe.shape[0])))]\n",
        "\n",
        "  fig, ax = plt.subplots(figsize=(15, 15))\n",
        "  ax.set_title('Tents Detected')\n",
        "  \n",
        "  ax.get_xaxis().set_visible(False)\n",
        "  ax.get_yaxis().set_visible(False)\n",
        "\n",
        "  ax.tick_params(left=False, bottom=False)\n",
        "  sns.heatmap(data, annot=True, square=True, fmt='.5g', alpha=0.3, zorder=2, cbar_kws={'label': 'Number of Tents', 'shrink': 0.7}, ax=ax)\n",
        "\n",
        "  with Image.open(image_path).convert(\"RGB\") as image:\n",
        "    ax.imshow(image, aspect=ax.get_aspect(), extent=ax.get_xlim()+ax.get_ylim(), zorder=1)\n",
        "  plt.savefig(output_path, bbox_inches='tight')\n",
        "  plt.close()"
      ],
      "metadata": {
        "cellView": "form",
        "id": "Vgfy5FirsUxH"
      },
      "execution_count": 18,
      "outputs": []
    },
    {
      "cell_type": "markdown",
      "metadata": {
        "id": "ZwAZOPs5tIwZ"
      },
      "source": [
        "#Main"
      ]
    },
    {
      "cell_type": "markdown",
      "source": [
        "##Dataset"
      ],
      "metadata": {
        "id": "Y9QZ2RvCna1I"
      }
    },
    {
      "cell_type": "code",
      "execution_count": 19,
      "metadata": {
        "id": "YRPIwxAFVkNd",
        "cellView": "form"
      },
      "outputs": [],
      "source": [
        "#@title Training and Validation Loaders\n",
        "transformations = transforms.Compose([transforms.ToPILImage(), transforms.Resize((IMAGE_HEIGHT, IMAGE_WIDTH)), transforms.ToTensor()])\n",
        "\n",
        "training_data, validation_data = train_test_split(load_data(), test_size=TEST_SPLIT, random_state=RANDOM_STATE)\n",
        "training_dataset = SegmentationDataset(training_data, transformations)\n",
        "validation_dataset = SegmentationDataset(validation_data, transformations)\n",
        "\n",
        "t_loader = DataLoader(training_dataset, shuffle=True, batch_size=BATCH_SIZE, pin_memory=PIN_MEMORY, num_workers=os.cpu_count(), persistent_workers=True)\n",
        "v_loader = DataLoader(validation_dataset, shuffle=True, batch_size=BATCH_SIZE, pin_memory=PIN_MEMORY, num_workers=os.cpu_count(), persistent_workers=True)"
      ]
    },
    {
      "cell_type": "code",
      "execution_count": 20,
      "metadata": {
        "colab": {
          "base_uri": "https://localhost:8080/"
        },
        "id": "VGoAtv-FKDyc",
        "outputId": "5cfda1d2-6f6a-4eca-e061-fec6a68bd725",
        "cellView": "form"
      },
      "outputs": [
        {
          "output_type": "stream",
          "name": "stdout",
          "text": [
            "Training to Validation Ratio\n",
            "\n",
            "Training (217): \t     82.03%\n",
            "Validation (39): \t     17.97%\n",
            "Total (256): \t\t    100.00%\n"
          ]
        }
      ],
      "source": [
        "#@title Split Ratio\n",
        "t_count = len(training_data)\n",
        "v_count = len(validation_data)\n",
        "\n",
        "t_ratio = 1-v_count/t_count\n",
        "v_ratio = v_count/t_count\n",
        "\n",
        "print(f'Training to Validation Ratio\\n')\n",
        "print(f'Training ({t_count}): \\t{t_ratio*100:>10.2f}%')\n",
        "print(f'Validation ({v_count}): \\t{v_ratio*100:>10.2f}%')\n",
        "print(f'Total ({t_count + v_count}): \\t\\t{t_ratio*100 + v_ratio*100:>10.2f}%') \n",
        "\n",
        "assert t_ratio + v_ratio == 1 # Sanity Check"
      ]
    },
    {
      "cell_type": "markdown",
      "source": [
        "## Model Operations"
      ],
      "metadata": {
        "id": "S4sUYLy9Vw6s"
      }
    },
    {
      "cell_type": "code",
      "execution_count": 21,
      "metadata": {
        "id": "vWmNDPG5Jii4",
        "cellView": "form"
      },
      "outputs": [],
      "source": [
        "#@title Load Models\n",
        "segmentor = regressor = None\n",
        "if UPLOAD_MODEL:\n",
        "  segmentor = torch.load(SEGMENTOR_MODEL_FILENAME, map_location=DEVICE).to(DEVICE)\n",
        "else:\n",
        "  segmentor = UNet().to(DEVICE)"
      ]
    },
    {
      "cell_type": "code",
      "execution_count": 22,
      "metadata": {
        "id": "2jtA5i4-g89g",
        "cellView": "form",
        "colab": {
          "base_uri": "https://localhost:8080/",
          "height": 49,
          "referenced_widgets": [
            "d7daf1e583a9446698cd1097b321cb7d",
            "88485807a4f5436aaf7b76697646a691",
            "42fa4afb77f94ba4b06b57e85a255bbd",
            "7fb8d0d83620411b87c235db6610766e",
            "faf81d5597bc451f9adfd8559c6fc25c",
            "ff3d582a68154cfea61c812a6a0c6d05",
            "4255331434c3408c85a932965801d9b1",
            "59aab72cd68449fba70c8532fc5a7a31",
            "6d10818721a746d691e2afd897bbef15",
            "cab31f64a76a46bc8c972f94ada017b0",
            "b969930a7e1344068fab166eececb271"
          ]
        },
        "outputId": "c098cee3-6c66-4ea1-b411-03d005fcdaf4"
      },
      "outputs": [
        {
          "output_type": "display_data",
          "data": {
            "text/plain": [
              "  0%|          | 0/200 [00:00<?, ?it/s]"
            ],
            "application/vnd.jupyter.widget-view+json": {
              "version_major": 2,
              "version_minor": 0,
              "model_id": "d7daf1e583a9446698cd1097b321cb7d"
            }
          },
          "metadata": {}
        }
      ],
      "source": [
        "#@title Train Models\n",
        "segmentor_results = None\n",
        "regressor_results = None\n",
        "if TRAIN_MODEL:\n",
        "  segmentor_results = train(segmentor, t_loader, v_loader, BCEWithLogitsLoss(), Adam(segmentor.parameters(), lr=INIT_LR), BinaryJaccardIndex())\n",
        "  torch.save(segmentor, f'{MODELS_PATH}/{SEGMENTOR_MODEL_FILENAME}')"
      ]
    },
    {
      "cell_type": "code",
      "execution_count": 23,
      "metadata": {
        "id": "ln7yNeFLObCk",
        "cellView": "form"
      },
      "outputs": [],
      "source": [
        "#@title Metrics\n",
        "if TRAIN_MODEL:\n",
        "  #Segmentor Loss\n",
        "  plt.plot(segmentor_results['t']['losses'], label='train loss')\n",
        "  plt.plot(segmentor_results['v']['losses'], label='test loss')\n",
        "  plt.xlabel('Epoch')\n",
        "  plt.ylabel('Loss')\n",
        "  plt.ylim([0, 1])\n",
        "  plt.legend(loc='lower right')\n",
        "  plt.title('UNet')\n",
        "  plt.savefig(f'{METRICS_PATH}/unet_loss.{OUTPUT_FORMAT}')\n",
        "  plt.close()\n",
        "\n",
        "  #Segmentor Metrics\n",
        "  plt.plot(segmentor_results['t']['metrics'], label='train metrics')\n",
        "  plt.plot(segmentor_results['v']['metrics'], label='test metrics')\n",
        "  plt.xlabel('Epoch')\n",
        "  plt.ylabel('Accuracy')\n",
        "  plt.ylim([0, 1])\n",
        "  plt.legend(loc='lower right')\n",
        "  plt.title('UNet')\n",
        "  plt.savefig(f'{METRICS_PATH}/unet_metrics.{OUTPUT_FORMAT}')\n",
        "  plt.close()"
      ]
    },
    {
      "cell_type": "markdown",
      "source": [
        "##Output"
      ],
      "metadata": {
        "id": "J8ti3MHYmJ6X"
      }
    },
    {
      "cell_type": "code",
      "execution_count": 24,
      "metadata": {
        "id": "SHmYiC6ij8Cj",
        "colab": {
          "base_uri": "https://localhost:8080/",
          "height": 49,
          "referenced_widgets": [
            "09929576248f4e2995c71af96cc3cc62",
            "dbdd02c3d1b64bd891e9395e03ef49c2",
            "1fe3fa42bdac435c848f1906b9529fa4",
            "d39b18fc37104a598832e4e0f7490ca0",
            "23d695d0bde3416d8be6b4f4fe892127",
            "fbf5056ed15b4d89b2bee5072f3a2cdc",
            "3e2a9d36d3dd4ef0b406d8bf534bdbfc",
            "7732331343d04f53b49d246c20d15cee",
            "b98d42fcb7914311834cc88c8a834c75",
            "07f402b3cbbb4489b2c92ab7aee097e6",
            "178e34ca34474224866e4226c602e476"
          ]
        },
        "outputId": "56ae2c4d-6e47-4798-f59e-3ef12afb4ff9",
        "cellView": "form"
      },
      "outputs": [
        {
          "output_type": "display_data",
          "data": {
            "text/plain": [
              "  0%|          | 0/16 [00:00<?, ?it/s]"
            ],
            "application/vnd.jupyter.widget-view+json": {
              "version_major": 2,
              "version_minor": 0,
              "model_id": "09929576248f4e2995c71af96cc3cc62"
            }
          },
          "metadata": {}
        }
      ],
      "source": [
        "#@title Prediction Loaders\n",
        "transformations = transforms.Compose([transforms.ToPILImage(), transforms.Resize((IMAGE_HEIGHT, IMAGE_WIDTH)), transforms.ToTensor()])\n",
        "data = load_data()\n",
        "dataset = SegmentationDataset(data, transformations)\n",
        "row_size = int(math.sqrt(len(dataset))) # Batch of 16 since each row is 16 images long\n",
        "loader = DataLoader(dataset, shuffle=False, batch_size=row_size, pin_memory=PIN_MEMORY, num_workers=os.cpu_count(), persistent_workers=True)\n",
        "\n",
        "#Segmentor\n",
        "segmentor_predictions = predict(segmentor, loader)\n",
        "segmentor_dataset = SegmentationDataset(segmentor_predictions, transformations)\n",
        "segmentor_loader = DataLoader(segmentor_dataset, shuffle=False, batch_size=row_size, pin_memory=PIN_MEMORY, num_workers=os.cpu_count(), persistent_workers=True)"
      ]
    },
    {
      "cell_type": "code",
      "source": [
        "#@title Count Tents\n",
        "segmentor_predictions.to_csv(f'{PREDS_PATH}/labels.csv')"
      ],
      "metadata": {
        "cellView": "form",
        "id": "GRqZl9y19lxL"
      },
      "execution_count": 25,
      "outputs": []
    },
    {
      "cell_type": "code",
      "source": [
        "#@title Save Region\n",
        "y_data = data.combine_first(region(loader, REGIONS_Y_PATH, 'y_regions_overview')).sort_index()\n",
        "p_data = segmentor_predictions.combine_first(region(segmentor_loader, REGIONS_P_PATH, 'p_regions_overview')).sort_index()"
      ],
      "metadata": {
        "colab": {
          "base_uri": "https://localhost:8080/",
          "height": 81,
          "referenced_widgets": [
            "355911a86b8b44309329158d5c641f4d",
            "40e229e6cfe8439ab6e33f6a7eea1bf4",
            "ff5a4eca1b8c44cc978526436799b2f2",
            "e50e083d34fd49d8910bf1794fc093aa",
            "7db5eefb622842a79baddd9fac9445b4",
            "7f7149ec44314e558ce676960ee1eee9",
            "e3506c4f1096450e854ef28fb55fd190",
            "fdc8cb232e7a4700a10a6cac7f3caf0a",
            "9b8fb17e56ef4379a24b77b658c7387f",
            "a73f1603a54741f9b5b4361028b4bf38",
            "8ac5d930b76e444c992d0ba27b15563b",
            "e03a8c04406843488fb99adbd6f8a96f",
            "2032c563b8da4cf2b4bc1a530b988dd5",
            "1987d0b891394071b30f55e7204352f3",
            "f2cf4353aee54bbfa94f511ae1269393",
            "4796cc629b10477db65e23fd1bc1d0cb",
            "ead764eca29f49e083e2992bf5a8b53c",
            "7b83b0afc66a4754b7e6d94969569c2f",
            "9783d9451c60445cbaaf8377d9451798",
            "a5d074d011314bde967a2f1ff21cae8a",
            "1076fd6282114f6383e9ff71eb214579",
            "69ed6f25be5f41a99bb9fad9b5faf1b0"
          ]
        },
        "cellView": "form",
        "id": "5ZAckC5bEDla",
        "outputId": "0bba9ced-daa1-4d29-df99-e5fa3441868c"
      },
      "execution_count": 26,
      "outputs": [
        {
          "output_type": "display_data",
          "data": {
            "text/plain": [
              "  0%|          | 0/16 [00:00<?, ?it/s]"
            ],
            "application/vnd.jupyter.widget-view+json": {
              "version_major": 2,
              "version_minor": 0,
              "model_id": "355911a86b8b44309329158d5c641f4d"
            }
          },
          "metadata": {}
        },
        {
          "output_type": "display_data",
          "data": {
            "text/plain": [
              "  0%|          | 0/16 [00:00<?, ?it/s]"
            ],
            "application/vnd.jupyter.widget-view+json": {
              "version_major": 2,
              "version_minor": 0,
              "model_id": "e03a8c04406843488fb99adbd6f8a96f"
            }
          },
          "metadata": {}
        }
      ]
    },
    {
      "cell_type": "code",
      "source": [
        "#@title Save Overview\n",
        "\n",
        "# Tiling Feature and Ground Truth Overviews\n",
        "tile(loader, f'{OVERVIEW_PATH}/x_overview.{OUTPUT_FORMAT}', f'{OVERVIEW_PATH}/y_overview.{OUTPUT_FORMAT}')\n",
        "\n",
        "# Tiling Prediction Overview\n",
        "tile(segmentor_loader, None, f'{OVERVIEW_PATH}/p_overview.{OUTPUT_FORMAT}')"
      ],
      "metadata": {
        "id": "5rf4zlID40_e",
        "colab": {
          "base_uri": "https://localhost:8080/",
          "height": 168,
          "referenced_widgets": [
            "503d4360644d4afdbba178d9834030ec",
            "275b79c34129431c8ab380d18c12cae5",
            "33530375c24a4a61a249df9a642d9a2d",
            "bb0f2563010c44ee90b65475cf3cffd4",
            "7963f1dee2e4442fae6e49ad034a5d72",
            "852f347601bf474cb133b260df00fe9b",
            "05c56559e12240ea93abb825fdbd4564",
            "fdde431e1d364bf5ba543f17316b2d94",
            "87944bc5f261453da2ed67a2d267ec02",
            "ba84c67263854525bcb4913b4a963133",
            "d60b3737a9e44db9a8afc1c59b2ea6c6",
            "7a9acf6d12004ec9a9b3b7f8405b8a7b",
            "4b2d36a7034845fc8ae5cf3bf6477543",
            "b5908d751d2148e0af1cef5559b7c541",
            "9d0c3bbd45824b04a94d699bfcefdd46",
            "00e862363891458e844930fc2a1f131d",
            "e33749cf3e8643bc9fd35141ceaebbd0",
            "1c32304fc6a64f0f848fcf6bd771f92b",
            "2e0d6c89c41e4a499385f9142348bb65",
            "064e828fc0e04d2382d13dc8e97247e5",
            "89ebedcca2fe4e268967ca7d88ae36d0",
            "ba52dd63e7a644a5b6818617b147d9cc"
          ]
        },
        "outputId": "4d50ffec-f99d-4597-804c-33cd358b7d6c",
        "cellView": "form"
      },
      "execution_count": 27,
      "outputs": [
        {
          "output_type": "display_data",
          "data": {
            "text/plain": [
              "  0%|          | 0/16 [00:00<?, ?it/s]"
            ],
            "application/vnd.jupyter.widget-view+json": {
              "version_major": 2,
              "version_minor": 0,
              "model_id": "503d4360644d4afdbba178d9834030ec"
            }
          },
          "metadata": {}
        },
        {
          "output_type": "stream",
          "name": "stdout",
          "text": [
            "Saving output/overviews/x_overview.png...\n",
            "Saving output/overviews/y_overview.png...\n",
            "Done.\n"
          ]
        },
        {
          "output_type": "display_data",
          "data": {
            "text/plain": [
              "  0%|          | 0/16 [00:00<?, ?it/s]"
            ],
            "application/vnd.jupyter.widget-view+json": {
              "version_major": 2,
              "version_minor": 0,
              "model_id": "7a9acf6d12004ec9a9b3b7f8405b8a7b"
            }
          },
          "metadata": {}
        },
        {
          "output_type": "stream",
          "name": "stdout",
          "text": [
            "Saving output/overviews/p_overview.png...\n",
            "Done.\n"
          ]
        }
      ]
    },
    {
      "cell_type": "code",
      "source": [
        "#@title Save Overlays\n",
        "print('Saving overlays...')\n",
        "\n",
        "# Ground Truth Overlays\n",
        "np.vectorize(overlay)(y_data['image_paths'], \n",
        "                      y_data['mask_paths'], \n",
        "                      np.vectorize((lambda n: f'{OVERLAY_Y_PATH}/{n}.{OUTPUT_FORMAT}'))(y_data.index), \n",
        "                      0.9)\n",
        "overlay(f'{OVERVIEW_PATH}/x_overview.{OUTPUT_FORMAT}', \n",
        "        f'{OVERVIEW_PATH}/y_overview.{OUTPUT_FORMAT}', \n",
        "        f'{OVERLAY_PATH}/y_overlay.{OUTPUT_FORMAT}', \n",
        "        0.9)\n",
        "\n",
        "# Prediction Overlays\n",
        "np.vectorize(overlay)(p_data['image_paths'], \n",
        "                      p_data['mask_paths'], \n",
        "                      np.vectorize((lambda n: f'{OVERLAY_P_PATH}/{n}.{OUTPUT_FORMAT}'))(p_data.index), \n",
        "                      0.9)\n",
        "overlay(f'{OVERVIEW_PATH}/x_overview.{OUTPUT_FORMAT}', \n",
        "        f'{OVERVIEW_PATH}/p_overview.{OUTPUT_FORMAT}', \n",
        "        f'{OVERLAY_PATH}/p_overlay.{OUTPUT_FORMAT}', \n",
        "        0.9)\n",
        "\n",
        "# Ground Truth Region Overlays\n",
        "np.vectorize(overlay)(np.vectorize((lambda n: f'{OVERLAY_Y_PATH}/{n}.{OUTPUT_FORMAT}'))(y_data.index),\n",
        "                      y_data['region_paths'], \n",
        "                      np.vectorize((lambda n: f'{OVERLAY_YR_PATH}/{n}.{OUTPUT_FORMAT}'))(y_data.index))\n",
        "overlay(f'{OVERLAY_PATH}/y_overlay.{OUTPUT_FORMAT}', \n",
        "        f'{OVERVIEW_PATH}/y_regions_overview.{OUTPUT_FORMAT}', \n",
        "        f'{OVERLAY_PATH}/y_regions_overlay.{OUTPUT_FORMAT}')\n",
        "\n",
        "# Prediction Region Overlays\n",
        "np.vectorize(overlay)(np.vectorize((lambda n: f'{OVERLAY_P_PATH}/{n}.{OUTPUT_FORMAT}'))(p_data.index), \n",
        "                      p_data['region_paths'], \n",
        "                      np.vectorize((lambda n: f'{OVERLAY_PR_PATH}/{n}.{OUTPUT_FORMAT}'))(p_data.index))\n",
        "overlay(f'{OVERLAY_PATH}/p_overlay.{OUTPUT_FORMAT}', \n",
        "        f'{OVERVIEW_PATH}/p_regions_overview.{OUTPUT_FORMAT}', \n",
        "        f'{OVERLAY_PATH}/p_regions_overlay.{OUTPUT_FORMAT}')\n",
        "\n",
        "print('Done.')"
      ],
      "metadata": {
        "colab": {
          "base_uri": "https://localhost:8080/"
        },
        "id": "Cea1XjydVvwI",
        "outputId": "b542a1f6-e01b-41fa-eb8a-40717d78a0be"
      },
      "execution_count": 30,
      "outputs": [
        {
          "output_type": "stream",
          "name": "stdout",
          "text": [
            "Saving overlays...\n",
            "Done.\n"
          ]
        }
      ]
    },
    {
      "cell_type": "code",
      "source": [
        "#@title Save Heatmap\n",
        "print('Saving heatmap...')\n",
        "heatmap(f'{OVERLAY_PATH}/p_overlay.{OUTPUT_FORMAT}', data, f'{OVERVIEW_PATH}/heatmap.{OUTPUT_FORMAT}')\n",
        "print('Done.')"
      ],
      "metadata": {
        "colab": {
          "base_uri": "https://localhost:8080/"
        },
        "cellView": "form",
        "id": "GZYJMoPLd8ls",
        "outputId": "296e7703-fe5c-4a82-df7f-6d17c1f1647a"
      },
      "execution_count": 31,
      "outputs": [
        {
          "output_type": "stream",
          "name": "stdout",
          "text": [
            "Saving heatmap...\n",
            "Done.\n"
          ]
        }
      ]
    },
    {
      "cell_type": "code",
      "source": [
        "#@title Complete\n",
        "\n",
        "# Since there's seemingly no way to reasonably wait for files.download, we have\n",
        "# to wait a specified period of time before disconnecting the session.\n",
        "\n",
        "def kill_runtime(seconds):\n",
        "  with tqdm_thread(desc='Terminating session...', total=seconds, step_sec=0.5):\n",
        "    time.sleep(seconds)\n",
        "  runtime.unassign()\n",
        "\n",
        "def end_runtime(seconds):\n",
        "  print(f'Terminating Session in {seconds//60} minutes...')\n",
        "  threading.Thread(target=kill_runtime, args=[seconds]).start()\n",
        "\n",
        "print(f'Zipping output and finishing up. Autodownload is set to {DOWNLOAD_OUTPUT}.')\n",
        "!zip -rq tent_detector_output.zip $OUTPUT_PATH\n",
        "if DOWNLOAD_OUTPUT:\n",
        "  files.download('tent_detector_output.zip')\n",
        "if PLAY_SOUND_ON_COMPLETE:\n",
        "  output.eval_js('new Audio(\"https://upload.wikimedia.org/wikipedia/commons/0/05/Beep-09.ogg\").play()')\n",
        "if KILL_RUNTIME_ON_COMPLETE:\n",
        "  end_runtime(MINUTES_TO_KILL_RUNTIME)"
      ],
      "metadata": {
        "colab": {
          "base_uri": "https://localhost:8080/",
          "height": 86
        },
        "cellView": "form",
        "id": "F3e0Itqf4_Uh",
        "outputId": "06759470-65a8-4b07-f112-eb54ee20463b"
      },
      "execution_count": 33,
      "outputs": [
        {
          "output_type": "stream",
          "name": "stdout",
          "text": [
            "Zipping output and finishing up. Autodownload is set to True.\n"
          ]
        },
        {
          "output_type": "display_data",
          "data": {
            "text/plain": [
              "<IPython.core.display.Javascript object>"
            ],
            "application/javascript": [
              "\n",
              "    async function download(id, filename, size) {\n",
              "      if (!google.colab.kernel.accessAllowed) {\n",
              "        return;\n",
              "      }\n",
              "      const div = document.createElement('div');\n",
              "      const label = document.createElement('label');\n",
              "      label.textContent = `Downloading \"${filename}\": `;\n",
              "      div.appendChild(label);\n",
              "      const progress = document.createElement('progress');\n",
              "      progress.max = size;\n",
              "      div.appendChild(progress);\n",
              "      document.body.appendChild(div);\n",
              "\n",
              "      const buffers = [];\n",
              "      let downloaded = 0;\n",
              "\n",
              "      const channel = await google.colab.kernel.comms.open(id);\n",
              "      // Send a message to notify the kernel that we're ready.\n",
              "      channel.send({})\n",
              "\n",
              "      for await (const message of channel.messages) {\n",
              "        // Send a message to notify the kernel that we're ready.\n",
              "        channel.send({})\n",
              "        if (message.buffers) {\n",
              "          for (const buffer of message.buffers) {\n",
              "            buffers.push(buffer);\n",
              "            downloaded += buffer.byteLength;\n",
              "            progress.value = downloaded;\n",
              "          }\n",
              "        }\n",
              "      }\n",
              "      const blob = new Blob(buffers, {type: 'application/binary'});\n",
              "      const a = document.createElement('a');\n",
              "      a.href = window.URL.createObjectURL(blob);\n",
              "      a.download = filename;\n",
              "      div.appendChild(a);\n",
              "      a.click();\n",
              "      div.remove();\n",
              "    }\n",
              "  "
            ]
          },
          "metadata": {}
        },
        {
          "output_type": "display_data",
          "data": {
            "text/plain": [
              "<IPython.core.display.Javascript object>"
            ],
            "application/javascript": [
              "download(\"download_c86ecd36-6478-41f9-98a1-629880e43be2\", \"tent_detector_output.zip\", 962467453)"
            ]
          },
          "metadata": {}
        },
        {
          "output_type": "stream",
          "name": "stdout",
          "text": [
            "Terminating Session in 30 minutes...\n"
          ]
        },
        {
          "output_type": "stream",
          "name": "stderr",
          "text": [
            "Terminating session... ████████   12:09"
          ]
        }
      ]
    }
  ],
  "metadata": {
    "accelerator": "GPU",
    "colab": {
      "collapsed_sections": [
        "vr8GAPTqRD9F",
        "7Vfi33_GtEj2",
        "QMaVfs-TuId3",
        "Y9QZ2RvCna1I"
      ],
      "provenance": [],
      "gpuType": "T4",
      "authorship_tag": "ABX9TyNYWcWNjdEAFmw3d3kWwGGC",
      "include_colab_link": true
    },
    "gpuClass": "standard",
    "kernelspec": {
      "display_name": "Python 3",
      "name": "python3"
    },
    "language_info": {
      "name": "python"
    },
    "widgets": {
      "application/vnd.jupyter.widget-state+json": {
        "d7daf1e583a9446698cd1097b321cb7d": {
          "model_module": "@jupyter-widgets/controls",
          "model_name": "HBoxModel",
          "model_module_version": "1.5.0",
          "state": {
            "_dom_classes": [],
            "_model_module": "@jupyter-widgets/controls",
            "_model_module_version": "1.5.0",
            "_model_name": "HBoxModel",
            "_view_count": null,
            "_view_module": "@jupyter-widgets/controls",
            "_view_module_version": "1.5.0",
            "_view_name": "HBoxView",
            "box_style": "",
            "children": [
              "IPY_MODEL_88485807a4f5436aaf7b76697646a691",
              "IPY_MODEL_42fa4afb77f94ba4b06b57e85a255bbd",
              "IPY_MODEL_7fb8d0d83620411b87c235db6610766e"
            ],
            "layout": "IPY_MODEL_faf81d5597bc451f9adfd8559c6fc25c"
          }
        },
        "88485807a4f5436aaf7b76697646a691": {
          "model_module": "@jupyter-widgets/controls",
          "model_name": "HTMLModel",
          "model_module_version": "1.5.0",
          "state": {
            "_dom_classes": [],
            "_model_module": "@jupyter-widgets/controls",
            "_model_module_version": "1.5.0",
            "_model_name": "HTMLModel",
            "_view_count": null,
            "_view_module": "@jupyter-widgets/controls",
            "_view_module_version": "1.5.0",
            "_view_name": "HTMLView",
            "description": "",
            "description_tooltip": null,
            "layout": "IPY_MODEL_ff3d582a68154cfea61c812a6a0c6d05",
            "placeholder": "​",
            "style": "IPY_MODEL_4255331434c3408c85a932965801d9b1",
            "value": "Epoch(200/200) Training UNet, Train Loss: 0.0317, Test Loss: 0.0325: 100%"
          }
        },
        "42fa4afb77f94ba4b06b57e85a255bbd": {
          "model_module": "@jupyter-widgets/controls",
          "model_name": "FloatProgressModel",
          "model_module_version": "1.5.0",
          "state": {
            "_dom_classes": [],
            "_model_module": "@jupyter-widgets/controls",
            "_model_module_version": "1.5.0",
            "_model_name": "FloatProgressModel",
            "_view_count": null,
            "_view_module": "@jupyter-widgets/controls",
            "_view_module_version": "1.5.0",
            "_view_name": "ProgressView",
            "bar_style": "success",
            "description": "",
            "description_tooltip": null,
            "layout": "IPY_MODEL_59aab72cd68449fba70c8532fc5a7a31",
            "max": 200,
            "min": 0,
            "orientation": "horizontal",
            "style": "IPY_MODEL_6d10818721a746d691e2afd897bbef15",
            "value": 200
          }
        },
        "7fb8d0d83620411b87c235db6610766e": {
          "model_module": "@jupyter-widgets/controls",
          "model_name": "HTMLModel",
          "model_module_version": "1.5.0",
          "state": {
            "_dom_classes": [],
            "_model_module": "@jupyter-widgets/controls",
            "_model_module_version": "1.5.0",
            "_model_name": "HTMLModel",
            "_view_count": null,
            "_view_module": "@jupyter-widgets/controls",
            "_view_module_version": "1.5.0",
            "_view_name": "HTMLView",
            "description": "",
            "description_tooltip": null,
            "layout": "IPY_MODEL_cab31f64a76a46bc8c972f94ada017b0",
            "placeholder": "​",
            "style": "IPY_MODEL_b969930a7e1344068fab166eececb271",
            "value": " 200/200 [26:55&lt;00:00,  8.01s/it]"
          }
        },
        "faf81d5597bc451f9adfd8559c6fc25c": {
          "model_module": "@jupyter-widgets/base",
          "model_name": "LayoutModel",
          "model_module_version": "1.2.0",
          "state": {
            "_model_module": "@jupyter-widgets/base",
            "_model_module_version": "1.2.0",
            "_model_name": "LayoutModel",
            "_view_count": null,
            "_view_module": "@jupyter-widgets/base",
            "_view_module_version": "1.2.0",
            "_view_name": "LayoutView",
            "align_content": null,
            "align_items": null,
            "align_self": null,
            "border": null,
            "bottom": null,
            "display": null,
            "flex": null,
            "flex_flow": null,
            "grid_area": null,
            "grid_auto_columns": null,
            "grid_auto_flow": null,
            "grid_auto_rows": null,
            "grid_column": null,
            "grid_gap": null,
            "grid_row": null,
            "grid_template_areas": null,
            "grid_template_columns": null,
            "grid_template_rows": null,
            "height": null,
            "justify_content": null,
            "justify_items": null,
            "left": null,
            "margin": null,
            "max_height": null,
            "max_width": null,
            "min_height": null,
            "min_width": null,
            "object_fit": null,
            "object_position": null,
            "order": null,
            "overflow": null,
            "overflow_x": null,
            "overflow_y": null,
            "padding": null,
            "right": null,
            "top": null,
            "visibility": null,
            "width": null
          }
        },
        "ff3d582a68154cfea61c812a6a0c6d05": {
          "model_module": "@jupyter-widgets/base",
          "model_name": "LayoutModel",
          "model_module_version": "1.2.0",
          "state": {
            "_model_module": "@jupyter-widgets/base",
            "_model_module_version": "1.2.0",
            "_model_name": "LayoutModel",
            "_view_count": null,
            "_view_module": "@jupyter-widgets/base",
            "_view_module_version": "1.2.0",
            "_view_name": "LayoutView",
            "align_content": null,
            "align_items": null,
            "align_self": null,
            "border": null,
            "bottom": null,
            "display": null,
            "flex": null,
            "flex_flow": null,
            "grid_area": null,
            "grid_auto_columns": null,
            "grid_auto_flow": null,
            "grid_auto_rows": null,
            "grid_column": null,
            "grid_gap": null,
            "grid_row": null,
            "grid_template_areas": null,
            "grid_template_columns": null,
            "grid_template_rows": null,
            "height": null,
            "justify_content": null,
            "justify_items": null,
            "left": null,
            "margin": null,
            "max_height": null,
            "max_width": null,
            "min_height": null,
            "min_width": null,
            "object_fit": null,
            "object_position": null,
            "order": null,
            "overflow": null,
            "overflow_x": null,
            "overflow_y": null,
            "padding": null,
            "right": null,
            "top": null,
            "visibility": null,
            "width": null
          }
        },
        "4255331434c3408c85a932965801d9b1": {
          "model_module": "@jupyter-widgets/controls",
          "model_name": "DescriptionStyleModel",
          "model_module_version": "1.5.0",
          "state": {
            "_model_module": "@jupyter-widgets/controls",
            "_model_module_version": "1.5.0",
            "_model_name": "DescriptionStyleModel",
            "_view_count": null,
            "_view_module": "@jupyter-widgets/base",
            "_view_module_version": "1.2.0",
            "_view_name": "StyleView",
            "description_width": ""
          }
        },
        "59aab72cd68449fba70c8532fc5a7a31": {
          "model_module": "@jupyter-widgets/base",
          "model_name": "LayoutModel",
          "model_module_version": "1.2.0",
          "state": {
            "_model_module": "@jupyter-widgets/base",
            "_model_module_version": "1.2.0",
            "_model_name": "LayoutModel",
            "_view_count": null,
            "_view_module": "@jupyter-widgets/base",
            "_view_module_version": "1.2.0",
            "_view_name": "LayoutView",
            "align_content": null,
            "align_items": null,
            "align_self": null,
            "border": null,
            "bottom": null,
            "display": null,
            "flex": null,
            "flex_flow": null,
            "grid_area": null,
            "grid_auto_columns": null,
            "grid_auto_flow": null,
            "grid_auto_rows": null,
            "grid_column": null,
            "grid_gap": null,
            "grid_row": null,
            "grid_template_areas": null,
            "grid_template_columns": null,
            "grid_template_rows": null,
            "height": null,
            "justify_content": null,
            "justify_items": null,
            "left": null,
            "margin": null,
            "max_height": null,
            "max_width": null,
            "min_height": null,
            "min_width": null,
            "object_fit": null,
            "object_position": null,
            "order": null,
            "overflow": null,
            "overflow_x": null,
            "overflow_y": null,
            "padding": null,
            "right": null,
            "top": null,
            "visibility": null,
            "width": null
          }
        },
        "6d10818721a746d691e2afd897bbef15": {
          "model_module": "@jupyter-widgets/controls",
          "model_name": "ProgressStyleModel",
          "model_module_version": "1.5.0",
          "state": {
            "_model_module": "@jupyter-widgets/controls",
            "_model_module_version": "1.5.0",
            "_model_name": "ProgressStyleModel",
            "_view_count": null,
            "_view_module": "@jupyter-widgets/base",
            "_view_module_version": "1.2.0",
            "_view_name": "StyleView",
            "bar_color": null,
            "description_width": ""
          }
        },
        "cab31f64a76a46bc8c972f94ada017b0": {
          "model_module": "@jupyter-widgets/base",
          "model_name": "LayoutModel",
          "model_module_version": "1.2.0",
          "state": {
            "_model_module": "@jupyter-widgets/base",
            "_model_module_version": "1.2.0",
            "_model_name": "LayoutModel",
            "_view_count": null,
            "_view_module": "@jupyter-widgets/base",
            "_view_module_version": "1.2.0",
            "_view_name": "LayoutView",
            "align_content": null,
            "align_items": null,
            "align_self": null,
            "border": null,
            "bottom": null,
            "display": null,
            "flex": null,
            "flex_flow": null,
            "grid_area": null,
            "grid_auto_columns": null,
            "grid_auto_flow": null,
            "grid_auto_rows": null,
            "grid_column": null,
            "grid_gap": null,
            "grid_row": null,
            "grid_template_areas": null,
            "grid_template_columns": null,
            "grid_template_rows": null,
            "height": null,
            "justify_content": null,
            "justify_items": null,
            "left": null,
            "margin": null,
            "max_height": null,
            "max_width": null,
            "min_height": null,
            "min_width": null,
            "object_fit": null,
            "object_position": null,
            "order": null,
            "overflow": null,
            "overflow_x": null,
            "overflow_y": null,
            "padding": null,
            "right": null,
            "top": null,
            "visibility": null,
            "width": null
          }
        },
        "b969930a7e1344068fab166eececb271": {
          "model_module": "@jupyter-widgets/controls",
          "model_name": "DescriptionStyleModel",
          "model_module_version": "1.5.0",
          "state": {
            "_model_module": "@jupyter-widgets/controls",
            "_model_module_version": "1.5.0",
            "_model_name": "DescriptionStyleModel",
            "_view_count": null,
            "_view_module": "@jupyter-widgets/base",
            "_view_module_version": "1.2.0",
            "_view_name": "StyleView",
            "description_width": ""
          }
        },
        "09929576248f4e2995c71af96cc3cc62": {
          "model_module": "@jupyter-widgets/controls",
          "model_name": "HBoxModel",
          "model_module_version": "1.5.0",
          "state": {
            "_dom_classes": [],
            "_model_module": "@jupyter-widgets/controls",
            "_model_module_version": "1.5.0",
            "_model_name": "HBoxModel",
            "_view_count": null,
            "_view_module": "@jupyter-widgets/controls",
            "_view_module_version": "1.5.0",
            "_view_name": "HBoxView",
            "box_style": "",
            "children": [
              "IPY_MODEL_dbdd02c3d1b64bd891e9395e03ef49c2",
              "IPY_MODEL_1fe3fa42bdac435c848f1906b9529fa4",
              "IPY_MODEL_d39b18fc37104a598832e4e0f7490ca0"
            ],
            "layout": "IPY_MODEL_23d695d0bde3416d8be6b4f4fe892127"
          }
        },
        "dbdd02c3d1b64bd891e9395e03ef49c2": {
          "model_module": "@jupyter-widgets/controls",
          "model_name": "HTMLModel",
          "model_module_version": "1.5.0",
          "state": {
            "_dom_classes": [],
            "_model_module": "@jupyter-widgets/controls",
            "_model_module_version": "1.5.0",
            "_model_name": "HTMLModel",
            "_view_count": null,
            "_view_module": "@jupyter-widgets/controls",
            "_view_module_version": "1.5.0",
            "_view_name": "HTMLView",
            "description": "",
            "description_tooltip": null,
            "layout": "IPY_MODEL_fbf5056ed15b4d89b2bee5072f3a2cdc",
            "placeholder": "​",
            "style": "IPY_MODEL_3e2a9d36d3dd4ef0b406d8bf534bdbfc",
            "value": "Saved prediction for sarpol_256 to output/predictions/sarpol_256.png: 100%"
          }
        },
        "1fe3fa42bdac435c848f1906b9529fa4": {
          "model_module": "@jupyter-widgets/controls",
          "model_name": "FloatProgressModel",
          "model_module_version": "1.5.0",
          "state": {
            "_dom_classes": [],
            "_model_module": "@jupyter-widgets/controls",
            "_model_module_version": "1.5.0",
            "_model_name": "FloatProgressModel",
            "_view_count": null,
            "_view_module": "@jupyter-widgets/controls",
            "_view_module_version": "1.5.0",
            "_view_name": "ProgressView",
            "bar_style": "success",
            "description": "",
            "description_tooltip": null,
            "layout": "IPY_MODEL_7732331343d04f53b49d246c20d15cee",
            "max": 16,
            "min": 0,
            "orientation": "horizontal",
            "style": "IPY_MODEL_b98d42fcb7914311834cc88c8a834c75",
            "value": 16
          }
        },
        "d39b18fc37104a598832e4e0f7490ca0": {
          "model_module": "@jupyter-widgets/controls",
          "model_name": "HTMLModel",
          "model_module_version": "1.5.0",
          "state": {
            "_dom_classes": [],
            "_model_module": "@jupyter-widgets/controls",
            "_model_module_version": "1.5.0",
            "_model_name": "HTMLModel",
            "_view_count": null,
            "_view_module": "@jupyter-widgets/controls",
            "_view_module_version": "1.5.0",
            "_view_name": "HTMLView",
            "description": "",
            "description_tooltip": null,
            "layout": "IPY_MODEL_07f402b3cbbb4489b2c92ab7aee097e6",
            "placeholder": "​",
            "style": "IPY_MODEL_178e34ca34474224866e4226c602e476",
            "value": " 16/16 [00:08&lt;00:00,  2.65it/s]"
          }
        },
        "23d695d0bde3416d8be6b4f4fe892127": {
          "model_module": "@jupyter-widgets/base",
          "model_name": "LayoutModel",
          "model_module_version": "1.2.0",
          "state": {
            "_model_module": "@jupyter-widgets/base",
            "_model_module_version": "1.2.0",
            "_model_name": "LayoutModel",
            "_view_count": null,
            "_view_module": "@jupyter-widgets/base",
            "_view_module_version": "1.2.0",
            "_view_name": "LayoutView",
            "align_content": null,
            "align_items": null,
            "align_self": null,
            "border": null,
            "bottom": null,
            "display": null,
            "flex": null,
            "flex_flow": null,
            "grid_area": null,
            "grid_auto_columns": null,
            "grid_auto_flow": null,
            "grid_auto_rows": null,
            "grid_column": null,
            "grid_gap": null,
            "grid_row": null,
            "grid_template_areas": null,
            "grid_template_columns": null,
            "grid_template_rows": null,
            "height": null,
            "justify_content": null,
            "justify_items": null,
            "left": null,
            "margin": null,
            "max_height": null,
            "max_width": null,
            "min_height": null,
            "min_width": null,
            "object_fit": null,
            "object_position": null,
            "order": null,
            "overflow": null,
            "overflow_x": null,
            "overflow_y": null,
            "padding": null,
            "right": null,
            "top": null,
            "visibility": null,
            "width": null
          }
        },
        "fbf5056ed15b4d89b2bee5072f3a2cdc": {
          "model_module": "@jupyter-widgets/base",
          "model_name": "LayoutModel",
          "model_module_version": "1.2.0",
          "state": {
            "_model_module": "@jupyter-widgets/base",
            "_model_module_version": "1.2.0",
            "_model_name": "LayoutModel",
            "_view_count": null,
            "_view_module": "@jupyter-widgets/base",
            "_view_module_version": "1.2.0",
            "_view_name": "LayoutView",
            "align_content": null,
            "align_items": null,
            "align_self": null,
            "border": null,
            "bottom": null,
            "display": null,
            "flex": null,
            "flex_flow": null,
            "grid_area": null,
            "grid_auto_columns": null,
            "grid_auto_flow": null,
            "grid_auto_rows": null,
            "grid_column": null,
            "grid_gap": null,
            "grid_row": null,
            "grid_template_areas": null,
            "grid_template_columns": null,
            "grid_template_rows": null,
            "height": null,
            "justify_content": null,
            "justify_items": null,
            "left": null,
            "margin": null,
            "max_height": null,
            "max_width": null,
            "min_height": null,
            "min_width": null,
            "object_fit": null,
            "object_position": null,
            "order": null,
            "overflow": null,
            "overflow_x": null,
            "overflow_y": null,
            "padding": null,
            "right": null,
            "top": null,
            "visibility": null,
            "width": null
          }
        },
        "3e2a9d36d3dd4ef0b406d8bf534bdbfc": {
          "model_module": "@jupyter-widgets/controls",
          "model_name": "DescriptionStyleModel",
          "model_module_version": "1.5.0",
          "state": {
            "_model_module": "@jupyter-widgets/controls",
            "_model_module_version": "1.5.0",
            "_model_name": "DescriptionStyleModel",
            "_view_count": null,
            "_view_module": "@jupyter-widgets/base",
            "_view_module_version": "1.2.0",
            "_view_name": "StyleView",
            "description_width": ""
          }
        },
        "7732331343d04f53b49d246c20d15cee": {
          "model_module": "@jupyter-widgets/base",
          "model_name": "LayoutModel",
          "model_module_version": "1.2.0",
          "state": {
            "_model_module": "@jupyter-widgets/base",
            "_model_module_version": "1.2.0",
            "_model_name": "LayoutModel",
            "_view_count": null,
            "_view_module": "@jupyter-widgets/base",
            "_view_module_version": "1.2.0",
            "_view_name": "LayoutView",
            "align_content": null,
            "align_items": null,
            "align_self": null,
            "border": null,
            "bottom": null,
            "display": null,
            "flex": null,
            "flex_flow": null,
            "grid_area": null,
            "grid_auto_columns": null,
            "grid_auto_flow": null,
            "grid_auto_rows": null,
            "grid_column": null,
            "grid_gap": null,
            "grid_row": null,
            "grid_template_areas": null,
            "grid_template_columns": null,
            "grid_template_rows": null,
            "height": null,
            "justify_content": null,
            "justify_items": null,
            "left": null,
            "margin": null,
            "max_height": null,
            "max_width": null,
            "min_height": null,
            "min_width": null,
            "object_fit": null,
            "object_position": null,
            "order": null,
            "overflow": null,
            "overflow_x": null,
            "overflow_y": null,
            "padding": null,
            "right": null,
            "top": null,
            "visibility": null,
            "width": null
          }
        },
        "b98d42fcb7914311834cc88c8a834c75": {
          "model_module": "@jupyter-widgets/controls",
          "model_name": "ProgressStyleModel",
          "model_module_version": "1.5.0",
          "state": {
            "_model_module": "@jupyter-widgets/controls",
            "_model_module_version": "1.5.0",
            "_model_name": "ProgressStyleModel",
            "_view_count": null,
            "_view_module": "@jupyter-widgets/base",
            "_view_module_version": "1.2.0",
            "_view_name": "StyleView",
            "bar_color": null,
            "description_width": ""
          }
        },
        "07f402b3cbbb4489b2c92ab7aee097e6": {
          "model_module": "@jupyter-widgets/base",
          "model_name": "LayoutModel",
          "model_module_version": "1.2.0",
          "state": {
            "_model_module": "@jupyter-widgets/base",
            "_model_module_version": "1.2.0",
            "_model_name": "LayoutModel",
            "_view_count": null,
            "_view_module": "@jupyter-widgets/base",
            "_view_module_version": "1.2.0",
            "_view_name": "LayoutView",
            "align_content": null,
            "align_items": null,
            "align_self": null,
            "border": null,
            "bottom": null,
            "display": null,
            "flex": null,
            "flex_flow": null,
            "grid_area": null,
            "grid_auto_columns": null,
            "grid_auto_flow": null,
            "grid_auto_rows": null,
            "grid_column": null,
            "grid_gap": null,
            "grid_row": null,
            "grid_template_areas": null,
            "grid_template_columns": null,
            "grid_template_rows": null,
            "height": null,
            "justify_content": null,
            "justify_items": null,
            "left": null,
            "margin": null,
            "max_height": null,
            "max_width": null,
            "min_height": null,
            "min_width": null,
            "object_fit": null,
            "object_position": null,
            "order": null,
            "overflow": null,
            "overflow_x": null,
            "overflow_y": null,
            "padding": null,
            "right": null,
            "top": null,
            "visibility": null,
            "width": null
          }
        },
        "178e34ca34474224866e4226c602e476": {
          "model_module": "@jupyter-widgets/controls",
          "model_name": "DescriptionStyleModel",
          "model_module_version": "1.5.0",
          "state": {
            "_model_module": "@jupyter-widgets/controls",
            "_model_module_version": "1.5.0",
            "_model_name": "DescriptionStyleModel",
            "_view_count": null,
            "_view_module": "@jupyter-widgets/base",
            "_view_module_version": "1.2.0",
            "_view_name": "StyleView",
            "description_width": ""
          }
        },
        "355911a86b8b44309329158d5c641f4d": {
          "model_module": "@jupyter-widgets/controls",
          "model_name": "HBoxModel",
          "model_module_version": "1.5.0",
          "state": {
            "_dom_classes": [],
            "_model_module": "@jupyter-widgets/controls",
            "_model_module_version": "1.5.0",
            "_model_name": "HBoxModel",
            "_view_count": null,
            "_view_module": "@jupyter-widgets/controls",
            "_view_module_version": "1.5.0",
            "_view_name": "HBoxView",
            "box_style": "",
            "children": [
              "IPY_MODEL_40e229e6cfe8439ab6e33f6a7eea1bf4",
              "IPY_MODEL_ff5a4eca1b8c44cc978526436799b2f2",
              "IPY_MODEL_e50e083d34fd49d8910bf1794fc093aa"
            ],
            "layout": "IPY_MODEL_7db5eefb622842a79baddd9fac9445b4"
          }
        },
        "40e229e6cfe8439ab6e33f6a7eea1bf4": {
          "model_module": "@jupyter-widgets/controls",
          "model_name": "HTMLModel",
          "model_module_version": "1.5.0",
          "state": {
            "_dom_classes": [],
            "_model_module": "@jupyter-widgets/controls",
            "_model_module_version": "1.5.0",
            "_model_name": "HTMLModel",
            "_view_count": null,
            "_view_module": "@jupyter-widgets/controls",
            "_view_module_version": "1.5.0",
            "_view_name": "HTMLView",
            "description": "",
            "description_tooltip": null,
            "layout": "IPY_MODEL_7f7149ec44314e558ce676960ee1eee9",
            "placeholder": "​",
            "style": "IPY_MODEL_e3506c4f1096450e854ef28fb55fd190",
            "value": "Saved region overlay for sarpol_256 to output/regions/truths/sarpol_256.png: 100%"
          }
        },
        "ff5a4eca1b8c44cc978526436799b2f2": {
          "model_module": "@jupyter-widgets/controls",
          "model_name": "FloatProgressModel",
          "model_module_version": "1.5.0",
          "state": {
            "_dom_classes": [],
            "_model_module": "@jupyter-widgets/controls",
            "_model_module_version": "1.5.0",
            "_model_name": "FloatProgressModel",
            "_view_count": null,
            "_view_module": "@jupyter-widgets/controls",
            "_view_module_version": "1.5.0",
            "_view_name": "ProgressView",
            "bar_style": "success",
            "description": "",
            "description_tooltip": null,
            "layout": "IPY_MODEL_fdc8cb232e7a4700a10a6cac7f3caf0a",
            "max": 16,
            "min": 0,
            "orientation": "horizontal",
            "style": "IPY_MODEL_9b8fb17e56ef4379a24b77b658c7387f",
            "value": 16
          }
        },
        "e50e083d34fd49d8910bf1794fc093aa": {
          "model_module": "@jupyter-widgets/controls",
          "model_name": "HTMLModel",
          "model_module_version": "1.5.0",
          "state": {
            "_dom_classes": [],
            "_model_module": "@jupyter-widgets/controls",
            "_model_module_version": "1.5.0",
            "_model_name": "HTMLModel",
            "_view_count": null,
            "_view_module": "@jupyter-widgets/controls",
            "_view_module_version": "1.5.0",
            "_view_name": "HTMLView",
            "description": "",
            "description_tooltip": null,
            "layout": "IPY_MODEL_a73f1603a54741f9b5b4361028b4bf38",
            "placeholder": "​",
            "style": "IPY_MODEL_8ac5d930b76e444c992d0ba27b15563b",
            "value": " 16/16 [00:16&lt;00:00,  1.34s/it]"
          }
        },
        "7db5eefb622842a79baddd9fac9445b4": {
          "model_module": "@jupyter-widgets/base",
          "model_name": "LayoutModel",
          "model_module_version": "1.2.0",
          "state": {
            "_model_module": "@jupyter-widgets/base",
            "_model_module_version": "1.2.0",
            "_model_name": "LayoutModel",
            "_view_count": null,
            "_view_module": "@jupyter-widgets/base",
            "_view_module_version": "1.2.0",
            "_view_name": "LayoutView",
            "align_content": null,
            "align_items": null,
            "align_self": null,
            "border": null,
            "bottom": null,
            "display": null,
            "flex": null,
            "flex_flow": null,
            "grid_area": null,
            "grid_auto_columns": null,
            "grid_auto_flow": null,
            "grid_auto_rows": null,
            "grid_column": null,
            "grid_gap": null,
            "grid_row": null,
            "grid_template_areas": null,
            "grid_template_columns": null,
            "grid_template_rows": null,
            "height": null,
            "justify_content": null,
            "justify_items": null,
            "left": null,
            "margin": null,
            "max_height": null,
            "max_width": null,
            "min_height": null,
            "min_width": null,
            "object_fit": null,
            "object_position": null,
            "order": null,
            "overflow": null,
            "overflow_x": null,
            "overflow_y": null,
            "padding": null,
            "right": null,
            "top": null,
            "visibility": null,
            "width": null
          }
        },
        "7f7149ec44314e558ce676960ee1eee9": {
          "model_module": "@jupyter-widgets/base",
          "model_name": "LayoutModel",
          "model_module_version": "1.2.0",
          "state": {
            "_model_module": "@jupyter-widgets/base",
            "_model_module_version": "1.2.0",
            "_model_name": "LayoutModel",
            "_view_count": null,
            "_view_module": "@jupyter-widgets/base",
            "_view_module_version": "1.2.0",
            "_view_name": "LayoutView",
            "align_content": null,
            "align_items": null,
            "align_self": null,
            "border": null,
            "bottom": null,
            "display": null,
            "flex": null,
            "flex_flow": null,
            "grid_area": null,
            "grid_auto_columns": null,
            "grid_auto_flow": null,
            "grid_auto_rows": null,
            "grid_column": null,
            "grid_gap": null,
            "grid_row": null,
            "grid_template_areas": null,
            "grid_template_columns": null,
            "grid_template_rows": null,
            "height": null,
            "justify_content": null,
            "justify_items": null,
            "left": null,
            "margin": null,
            "max_height": null,
            "max_width": null,
            "min_height": null,
            "min_width": null,
            "object_fit": null,
            "object_position": null,
            "order": null,
            "overflow": null,
            "overflow_x": null,
            "overflow_y": null,
            "padding": null,
            "right": null,
            "top": null,
            "visibility": null,
            "width": null
          }
        },
        "e3506c4f1096450e854ef28fb55fd190": {
          "model_module": "@jupyter-widgets/controls",
          "model_name": "DescriptionStyleModel",
          "model_module_version": "1.5.0",
          "state": {
            "_model_module": "@jupyter-widgets/controls",
            "_model_module_version": "1.5.0",
            "_model_name": "DescriptionStyleModel",
            "_view_count": null,
            "_view_module": "@jupyter-widgets/base",
            "_view_module_version": "1.2.0",
            "_view_name": "StyleView",
            "description_width": ""
          }
        },
        "fdc8cb232e7a4700a10a6cac7f3caf0a": {
          "model_module": "@jupyter-widgets/base",
          "model_name": "LayoutModel",
          "model_module_version": "1.2.0",
          "state": {
            "_model_module": "@jupyter-widgets/base",
            "_model_module_version": "1.2.0",
            "_model_name": "LayoutModel",
            "_view_count": null,
            "_view_module": "@jupyter-widgets/base",
            "_view_module_version": "1.2.0",
            "_view_name": "LayoutView",
            "align_content": null,
            "align_items": null,
            "align_self": null,
            "border": null,
            "bottom": null,
            "display": null,
            "flex": null,
            "flex_flow": null,
            "grid_area": null,
            "grid_auto_columns": null,
            "grid_auto_flow": null,
            "grid_auto_rows": null,
            "grid_column": null,
            "grid_gap": null,
            "grid_row": null,
            "grid_template_areas": null,
            "grid_template_columns": null,
            "grid_template_rows": null,
            "height": null,
            "justify_content": null,
            "justify_items": null,
            "left": null,
            "margin": null,
            "max_height": null,
            "max_width": null,
            "min_height": null,
            "min_width": null,
            "object_fit": null,
            "object_position": null,
            "order": null,
            "overflow": null,
            "overflow_x": null,
            "overflow_y": null,
            "padding": null,
            "right": null,
            "top": null,
            "visibility": null,
            "width": null
          }
        },
        "9b8fb17e56ef4379a24b77b658c7387f": {
          "model_module": "@jupyter-widgets/controls",
          "model_name": "ProgressStyleModel",
          "model_module_version": "1.5.0",
          "state": {
            "_model_module": "@jupyter-widgets/controls",
            "_model_module_version": "1.5.0",
            "_model_name": "ProgressStyleModel",
            "_view_count": null,
            "_view_module": "@jupyter-widgets/base",
            "_view_module_version": "1.2.0",
            "_view_name": "StyleView",
            "bar_color": null,
            "description_width": ""
          }
        },
        "a73f1603a54741f9b5b4361028b4bf38": {
          "model_module": "@jupyter-widgets/base",
          "model_name": "LayoutModel",
          "model_module_version": "1.2.0",
          "state": {
            "_model_module": "@jupyter-widgets/base",
            "_model_module_version": "1.2.0",
            "_model_name": "LayoutModel",
            "_view_count": null,
            "_view_module": "@jupyter-widgets/base",
            "_view_module_version": "1.2.0",
            "_view_name": "LayoutView",
            "align_content": null,
            "align_items": null,
            "align_self": null,
            "border": null,
            "bottom": null,
            "display": null,
            "flex": null,
            "flex_flow": null,
            "grid_area": null,
            "grid_auto_columns": null,
            "grid_auto_flow": null,
            "grid_auto_rows": null,
            "grid_column": null,
            "grid_gap": null,
            "grid_row": null,
            "grid_template_areas": null,
            "grid_template_columns": null,
            "grid_template_rows": null,
            "height": null,
            "justify_content": null,
            "justify_items": null,
            "left": null,
            "margin": null,
            "max_height": null,
            "max_width": null,
            "min_height": null,
            "min_width": null,
            "object_fit": null,
            "object_position": null,
            "order": null,
            "overflow": null,
            "overflow_x": null,
            "overflow_y": null,
            "padding": null,
            "right": null,
            "top": null,
            "visibility": null,
            "width": null
          }
        },
        "8ac5d930b76e444c992d0ba27b15563b": {
          "model_module": "@jupyter-widgets/controls",
          "model_name": "DescriptionStyleModel",
          "model_module_version": "1.5.0",
          "state": {
            "_model_module": "@jupyter-widgets/controls",
            "_model_module_version": "1.5.0",
            "_model_name": "DescriptionStyleModel",
            "_view_count": null,
            "_view_module": "@jupyter-widgets/base",
            "_view_module_version": "1.2.0",
            "_view_name": "StyleView",
            "description_width": ""
          }
        },
        "e03a8c04406843488fb99adbd6f8a96f": {
          "model_module": "@jupyter-widgets/controls",
          "model_name": "HBoxModel",
          "model_module_version": "1.5.0",
          "state": {
            "_dom_classes": [],
            "_model_module": "@jupyter-widgets/controls",
            "_model_module_version": "1.5.0",
            "_model_name": "HBoxModel",
            "_view_count": null,
            "_view_module": "@jupyter-widgets/controls",
            "_view_module_version": "1.5.0",
            "_view_name": "HBoxView",
            "box_style": "",
            "children": [
              "IPY_MODEL_2032c563b8da4cf2b4bc1a530b988dd5",
              "IPY_MODEL_1987d0b891394071b30f55e7204352f3",
              "IPY_MODEL_f2cf4353aee54bbfa94f511ae1269393"
            ],
            "layout": "IPY_MODEL_4796cc629b10477db65e23fd1bc1d0cb"
          }
        },
        "2032c563b8da4cf2b4bc1a530b988dd5": {
          "model_module": "@jupyter-widgets/controls",
          "model_name": "HTMLModel",
          "model_module_version": "1.5.0",
          "state": {
            "_dom_classes": [],
            "_model_module": "@jupyter-widgets/controls",
            "_model_module_version": "1.5.0",
            "_model_name": "HTMLModel",
            "_view_count": null,
            "_view_module": "@jupyter-widgets/controls",
            "_view_module_version": "1.5.0",
            "_view_name": "HTMLView",
            "description": "",
            "description_tooltip": null,
            "layout": "IPY_MODEL_ead764eca29f49e083e2992bf5a8b53c",
            "placeholder": "​",
            "style": "IPY_MODEL_7b83b0afc66a4754b7e6d94969569c2f",
            "value": "Saved region overlay for sarpol_256 to output/regions/predictions/sarpol_256.png: 100%"
          }
        },
        "1987d0b891394071b30f55e7204352f3": {
          "model_module": "@jupyter-widgets/controls",
          "model_name": "FloatProgressModel",
          "model_module_version": "1.5.0",
          "state": {
            "_dom_classes": [],
            "_model_module": "@jupyter-widgets/controls",
            "_model_module_version": "1.5.0",
            "_model_name": "FloatProgressModel",
            "_view_count": null,
            "_view_module": "@jupyter-widgets/controls",
            "_view_module_version": "1.5.0",
            "_view_name": "ProgressView",
            "bar_style": "success",
            "description": "",
            "description_tooltip": null,
            "layout": "IPY_MODEL_9783d9451c60445cbaaf8377d9451798",
            "max": 16,
            "min": 0,
            "orientation": "horizontal",
            "style": "IPY_MODEL_a5d074d011314bde967a2f1ff21cae8a",
            "value": 16
          }
        },
        "f2cf4353aee54bbfa94f511ae1269393": {
          "model_module": "@jupyter-widgets/controls",
          "model_name": "HTMLModel",
          "model_module_version": "1.5.0",
          "state": {
            "_dom_classes": [],
            "_model_module": "@jupyter-widgets/controls",
            "_model_module_version": "1.5.0",
            "_model_name": "HTMLModel",
            "_view_count": null,
            "_view_module": "@jupyter-widgets/controls",
            "_view_module_version": "1.5.0",
            "_view_name": "HTMLView",
            "description": "",
            "description_tooltip": null,
            "layout": "IPY_MODEL_1076fd6282114f6383e9ff71eb214579",
            "placeholder": "​",
            "style": "IPY_MODEL_69ed6f25be5f41a99bb9fad9b5faf1b0",
            "value": " 16/16 [00:16&lt;00:00,  1.15s/it]"
          }
        },
        "4796cc629b10477db65e23fd1bc1d0cb": {
          "model_module": "@jupyter-widgets/base",
          "model_name": "LayoutModel",
          "model_module_version": "1.2.0",
          "state": {
            "_model_module": "@jupyter-widgets/base",
            "_model_module_version": "1.2.0",
            "_model_name": "LayoutModel",
            "_view_count": null,
            "_view_module": "@jupyter-widgets/base",
            "_view_module_version": "1.2.0",
            "_view_name": "LayoutView",
            "align_content": null,
            "align_items": null,
            "align_self": null,
            "border": null,
            "bottom": null,
            "display": null,
            "flex": null,
            "flex_flow": null,
            "grid_area": null,
            "grid_auto_columns": null,
            "grid_auto_flow": null,
            "grid_auto_rows": null,
            "grid_column": null,
            "grid_gap": null,
            "grid_row": null,
            "grid_template_areas": null,
            "grid_template_columns": null,
            "grid_template_rows": null,
            "height": null,
            "justify_content": null,
            "justify_items": null,
            "left": null,
            "margin": null,
            "max_height": null,
            "max_width": null,
            "min_height": null,
            "min_width": null,
            "object_fit": null,
            "object_position": null,
            "order": null,
            "overflow": null,
            "overflow_x": null,
            "overflow_y": null,
            "padding": null,
            "right": null,
            "top": null,
            "visibility": null,
            "width": null
          }
        },
        "ead764eca29f49e083e2992bf5a8b53c": {
          "model_module": "@jupyter-widgets/base",
          "model_name": "LayoutModel",
          "model_module_version": "1.2.0",
          "state": {
            "_model_module": "@jupyter-widgets/base",
            "_model_module_version": "1.2.0",
            "_model_name": "LayoutModel",
            "_view_count": null,
            "_view_module": "@jupyter-widgets/base",
            "_view_module_version": "1.2.0",
            "_view_name": "LayoutView",
            "align_content": null,
            "align_items": null,
            "align_self": null,
            "border": null,
            "bottom": null,
            "display": null,
            "flex": null,
            "flex_flow": null,
            "grid_area": null,
            "grid_auto_columns": null,
            "grid_auto_flow": null,
            "grid_auto_rows": null,
            "grid_column": null,
            "grid_gap": null,
            "grid_row": null,
            "grid_template_areas": null,
            "grid_template_columns": null,
            "grid_template_rows": null,
            "height": null,
            "justify_content": null,
            "justify_items": null,
            "left": null,
            "margin": null,
            "max_height": null,
            "max_width": null,
            "min_height": null,
            "min_width": null,
            "object_fit": null,
            "object_position": null,
            "order": null,
            "overflow": null,
            "overflow_x": null,
            "overflow_y": null,
            "padding": null,
            "right": null,
            "top": null,
            "visibility": null,
            "width": null
          }
        },
        "7b83b0afc66a4754b7e6d94969569c2f": {
          "model_module": "@jupyter-widgets/controls",
          "model_name": "DescriptionStyleModel",
          "model_module_version": "1.5.0",
          "state": {
            "_model_module": "@jupyter-widgets/controls",
            "_model_module_version": "1.5.0",
            "_model_name": "DescriptionStyleModel",
            "_view_count": null,
            "_view_module": "@jupyter-widgets/base",
            "_view_module_version": "1.2.0",
            "_view_name": "StyleView",
            "description_width": ""
          }
        },
        "9783d9451c60445cbaaf8377d9451798": {
          "model_module": "@jupyter-widgets/base",
          "model_name": "LayoutModel",
          "model_module_version": "1.2.0",
          "state": {
            "_model_module": "@jupyter-widgets/base",
            "_model_module_version": "1.2.0",
            "_model_name": "LayoutModel",
            "_view_count": null,
            "_view_module": "@jupyter-widgets/base",
            "_view_module_version": "1.2.0",
            "_view_name": "LayoutView",
            "align_content": null,
            "align_items": null,
            "align_self": null,
            "border": null,
            "bottom": null,
            "display": null,
            "flex": null,
            "flex_flow": null,
            "grid_area": null,
            "grid_auto_columns": null,
            "grid_auto_flow": null,
            "grid_auto_rows": null,
            "grid_column": null,
            "grid_gap": null,
            "grid_row": null,
            "grid_template_areas": null,
            "grid_template_columns": null,
            "grid_template_rows": null,
            "height": null,
            "justify_content": null,
            "justify_items": null,
            "left": null,
            "margin": null,
            "max_height": null,
            "max_width": null,
            "min_height": null,
            "min_width": null,
            "object_fit": null,
            "object_position": null,
            "order": null,
            "overflow": null,
            "overflow_x": null,
            "overflow_y": null,
            "padding": null,
            "right": null,
            "top": null,
            "visibility": null,
            "width": null
          }
        },
        "a5d074d011314bde967a2f1ff21cae8a": {
          "model_module": "@jupyter-widgets/controls",
          "model_name": "ProgressStyleModel",
          "model_module_version": "1.5.0",
          "state": {
            "_model_module": "@jupyter-widgets/controls",
            "_model_module_version": "1.5.0",
            "_model_name": "ProgressStyleModel",
            "_view_count": null,
            "_view_module": "@jupyter-widgets/base",
            "_view_module_version": "1.2.0",
            "_view_name": "StyleView",
            "bar_color": null,
            "description_width": ""
          }
        },
        "1076fd6282114f6383e9ff71eb214579": {
          "model_module": "@jupyter-widgets/base",
          "model_name": "LayoutModel",
          "model_module_version": "1.2.0",
          "state": {
            "_model_module": "@jupyter-widgets/base",
            "_model_module_version": "1.2.0",
            "_model_name": "LayoutModel",
            "_view_count": null,
            "_view_module": "@jupyter-widgets/base",
            "_view_module_version": "1.2.0",
            "_view_name": "LayoutView",
            "align_content": null,
            "align_items": null,
            "align_self": null,
            "border": null,
            "bottom": null,
            "display": null,
            "flex": null,
            "flex_flow": null,
            "grid_area": null,
            "grid_auto_columns": null,
            "grid_auto_flow": null,
            "grid_auto_rows": null,
            "grid_column": null,
            "grid_gap": null,
            "grid_row": null,
            "grid_template_areas": null,
            "grid_template_columns": null,
            "grid_template_rows": null,
            "height": null,
            "justify_content": null,
            "justify_items": null,
            "left": null,
            "margin": null,
            "max_height": null,
            "max_width": null,
            "min_height": null,
            "min_width": null,
            "object_fit": null,
            "object_position": null,
            "order": null,
            "overflow": null,
            "overflow_x": null,
            "overflow_y": null,
            "padding": null,
            "right": null,
            "top": null,
            "visibility": null,
            "width": null
          }
        },
        "69ed6f25be5f41a99bb9fad9b5faf1b0": {
          "model_module": "@jupyter-widgets/controls",
          "model_name": "DescriptionStyleModel",
          "model_module_version": "1.5.0",
          "state": {
            "_model_module": "@jupyter-widgets/controls",
            "_model_module_version": "1.5.0",
            "_model_name": "DescriptionStyleModel",
            "_view_count": null,
            "_view_module": "@jupyter-widgets/base",
            "_view_module_version": "1.2.0",
            "_view_name": "StyleView",
            "description_width": ""
          }
        },
        "503d4360644d4afdbba178d9834030ec": {
          "model_module": "@jupyter-widgets/controls",
          "model_name": "HBoxModel",
          "model_module_version": "1.5.0",
          "state": {
            "_dom_classes": [],
            "_model_module": "@jupyter-widgets/controls",
            "_model_module_version": "1.5.0",
            "_model_name": "HBoxModel",
            "_view_count": null,
            "_view_module": "@jupyter-widgets/controls",
            "_view_module_version": "1.5.0",
            "_view_name": "HBoxView",
            "box_style": "",
            "children": [
              "IPY_MODEL_275b79c34129431c8ab380d18c12cae5",
              "IPY_MODEL_33530375c24a4a61a249df9a642d9a2d",
              "IPY_MODEL_bb0f2563010c44ee90b65475cf3cffd4"
            ],
            "layout": "IPY_MODEL_7963f1dee2e4442fae6e49ad034a5d72"
          }
        },
        "275b79c34129431c8ab380d18c12cae5": {
          "model_module": "@jupyter-widgets/controls",
          "model_name": "HTMLModel",
          "model_module_version": "1.5.0",
          "state": {
            "_dom_classes": [],
            "_model_module": "@jupyter-widgets/controls",
            "_model_module_version": "1.5.0",
            "_model_name": "HTMLModel",
            "_view_count": null,
            "_view_module": "@jupyter-widgets/controls",
            "_view_module_version": "1.5.0",
            "_view_name": "HTMLView",
            "description": "",
            "description_tooltip": null,
            "layout": "IPY_MODEL_852f347601bf474cb133b260df00fe9b",
            "placeholder": "​",
            "style": "IPY_MODEL_05c56559e12240ea93abb825fdbd4564",
            "value": "Tiling: 100%"
          }
        },
        "33530375c24a4a61a249df9a642d9a2d": {
          "model_module": "@jupyter-widgets/controls",
          "model_name": "FloatProgressModel",
          "model_module_version": "1.5.0",
          "state": {
            "_dom_classes": [],
            "_model_module": "@jupyter-widgets/controls",
            "_model_module_version": "1.5.0",
            "_model_name": "FloatProgressModel",
            "_view_count": null,
            "_view_module": "@jupyter-widgets/controls",
            "_view_module_version": "1.5.0",
            "_view_name": "ProgressView",
            "bar_style": "success",
            "description": "",
            "description_tooltip": null,
            "layout": "IPY_MODEL_fdde431e1d364bf5ba543f17316b2d94",
            "max": 16,
            "min": 0,
            "orientation": "horizontal",
            "style": "IPY_MODEL_87944bc5f261453da2ed67a2d267ec02",
            "value": 16
          }
        },
        "bb0f2563010c44ee90b65475cf3cffd4": {
          "model_module": "@jupyter-widgets/controls",
          "model_name": "HTMLModel",
          "model_module_version": "1.5.0",
          "state": {
            "_dom_classes": [],
            "_model_module": "@jupyter-widgets/controls",
            "_model_module_version": "1.5.0",
            "_model_name": "HTMLModel",
            "_view_count": null,
            "_view_module": "@jupyter-widgets/controls",
            "_view_module_version": "1.5.0",
            "_view_name": "HTMLView",
            "description": "",
            "description_tooltip": null,
            "layout": "IPY_MODEL_ba84c67263854525bcb4913b4a963133",
            "placeholder": "​",
            "style": "IPY_MODEL_d60b3737a9e44db9a8afc1c59b2ea6c6",
            "value": " 16/16 [00:07&lt;00:00,  1.91it/s]"
          }
        },
        "7963f1dee2e4442fae6e49ad034a5d72": {
          "model_module": "@jupyter-widgets/base",
          "model_name": "LayoutModel",
          "model_module_version": "1.2.0",
          "state": {
            "_model_module": "@jupyter-widgets/base",
            "_model_module_version": "1.2.0",
            "_model_name": "LayoutModel",
            "_view_count": null,
            "_view_module": "@jupyter-widgets/base",
            "_view_module_version": "1.2.0",
            "_view_name": "LayoutView",
            "align_content": null,
            "align_items": null,
            "align_self": null,
            "border": null,
            "bottom": null,
            "display": null,
            "flex": null,
            "flex_flow": null,
            "grid_area": null,
            "grid_auto_columns": null,
            "grid_auto_flow": null,
            "grid_auto_rows": null,
            "grid_column": null,
            "grid_gap": null,
            "grid_row": null,
            "grid_template_areas": null,
            "grid_template_columns": null,
            "grid_template_rows": null,
            "height": null,
            "justify_content": null,
            "justify_items": null,
            "left": null,
            "margin": null,
            "max_height": null,
            "max_width": null,
            "min_height": null,
            "min_width": null,
            "object_fit": null,
            "object_position": null,
            "order": null,
            "overflow": null,
            "overflow_x": null,
            "overflow_y": null,
            "padding": null,
            "right": null,
            "top": null,
            "visibility": null,
            "width": null
          }
        },
        "852f347601bf474cb133b260df00fe9b": {
          "model_module": "@jupyter-widgets/base",
          "model_name": "LayoutModel",
          "model_module_version": "1.2.0",
          "state": {
            "_model_module": "@jupyter-widgets/base",
            "_model_module_version": "1.2.0",
            "_model_name": "LayoutModel",
            "_view_count": null,
            "_view_module": "@jupyter-widgets/base",
            "_view_module_version": "1.2.0",
            "_view_name": "LayoutView",
            "align_content": null,
            "align_items": null,
            "align_self": null,
            "border": null,
            "bottom": null,
            "display": null,
            "flex": null,
            "flex_flow": null,
            "grid_area": null,
            "grid_auto_columns": null,
            "grid_auto_flow": null,
            "grid_auto_rows": null,
            "grid_column": null,
            "grid_gap": null,
            "grid_row": null,
            "grid_template_areas": null,
            "grid_template_columns": null,
            "grid_template_rows": null,
            "height": null,
            "justify_content": null,
            "justify_items": null,
            "left": null,
            "margin": null,
            "max_height": null,
            "max_width": null,
            "min_height": null,
            "min_width": null,
            "object_fit": null,
            "object_position": null,
            "order": null,
            "overflow": null,
            "overflow_x": null,
            "overflow_y": null,
            "padding": null,
            "right": null,
            "top": null,
            "visibility": null,
            "width": null
          }
        },
        "05c56559e12240ea93abb825fdbd4564": {
          "model_module": "@jupyter-widgets/controls",
          "model_name": "DescriptionStyleModel",
          "model_module_version": "1.5.0",
          "state": {
            "_model_module": "@jupyter-widgets/controls",
            "_model_module_version": "1.5.0",
            "_model_name": "DescriptionStyleModel",
            "_view_count": null,
            "_view_module": "@jupyter-widgets/base",
            "_view_module_version": "1.2.0",
            "_view_name": "StyleView",
            "description_width": ""
          }
        },
        "fdde431e1d364bf5ba543f17316b2d94": {
          "model_module": "@jupyter-widgets/base",
          "model_name": "LayoutModel",
          "model_module_version": "1.2.0",
          "state": {
            "_model_module": "@jupyter-widgets/base",
            "_model_module_version": "1.2.0",
            "_model_name": "LayoutModel",
            "_view_count": null,
            "_view_module": "@jupyter-widgets/base",
            "_view_module_version": "1.2.0",
            "_view_name": "LayoutView",
            "align_content": null,
            "align_items": null,
            "align_self": null,
            "border": null,
            "bottom": null,
            "display": null,
            "flex": null,
            "flex_flow": null,
            "grid_area": null,
            "grid_auto_columns": null,
            "grid_auto_flow": null,
            "grid_auto_rows": null,
            "grid_column": null,
            "grid_gap": null,
            "grid_row": null,
            "grid_template_areas": null,
            "grid_template_columns": null,
            "grid_template_rows": null,
            "height": null,
            "justify_content": null,
            "justify_items": null,
            "left": null,
            "margin": null,
            "max_height": null,
            "max_width": null,
            "min_height": null,
            "min_width": null,
            "object_fit": null,
            "object_position": null,
            "order": null,
            "overflow": null,
            "overflow_x": null,
            "overflow_y": null,
            "padding": null,
            "right": null,
            "top": null,
            "visibility": null,
            "width": null
          }
        },
        "87944bc5f261453da2ed67a2d267ec02": {
          "model_module": "@jupyter-widgets/controls",
          "model_name": "ProgressStyleModel",
          "model_module_version": "1.5.0",
          "state": {
            "_model_module": "@jupyter-widgets/controls",
            "_model_module_version": "1.5.0",
            "_model_name": "ProgressStyleModel",
            "_view_count": null,
            "_view_module": "@jupyter-widgets/base",
            "_view_module_version": "1.2.0",
            "_view_name": "StyleView",
            "bar_color": null,
            "description_width": ""
          }
        },
        "ba84c67263854525bcb4913b4a963133": {
          "model_module": "@jupyter-widgets/base",
          "model_name": "LayoutModel",
          "model_module_version": "1.2.0",
          "state": {
            "_model_module": "@jupyter-widgets/base",
            "_model_module_version": "1.2.0",
            "_model_name": "LayoutModel",
            "_view_count": null,
            "_view_module": "@jupyter-widgets/base",
            "_view_module_version": "1.2.0",
            "_view_name": "LayoutView",
            "align_content": null,
            "align_items": null,
            "align_self": null,
            "border": null,
            "bottom": null,
            "display": null,
            "flex": null,
            "flex_flow": null,
            "grid_area": null,
            "grid_auto_columns": null,
            "grid_auto_flow": null,
            "grid_auto_rows": null,
            "grid_column": null,
            "grid_gap": null,
            "grid_row": null,
            "grid_template_areas": null,
            "grid_template_columns": null,
            "grid_template_rows": null,
            "height": null,
            "justify_content": null,
            "justify_items": null,
            "left": null,
            "margin": null,
            "max_height": null,
            "max_width": null,
            "min_height": null,
            "min_width": null,
            "object_fit": null,
            "object_position": null,
            "order": null,
            "overflow": null,
            "overflow_x": null,
            "overflow_y": null,
            "padding": null,
            "right": null,
            "top": null,
            "visibility": null,
            "width": null
          }
        },
        "d60b3737a9e44db9a8afc1c59b2ea6c6": {
          "model_module": "@jupyter-widgets/controls",
          "model_name": "DescriptionStyleModel",
          "model_module_version": "1.5.0",
          "state": {
            "_model_module": "@jupyter-widgets/controls",
            "_model_module_version": "1.5.0",
            "_model_name": "DescriptionStyleModel",
            "_view_count": null,
            "_view_module": "@jupyter-widgets/base",
            "_view_module_version": "1.2.0",
            "_view_name": "StyleView",
            "description_width": ""
          }
        },
        "7a9acf6d12004ec9a9b3b7f8405b8a7b": {
          "model_module": "@jupyter-widgets/controls",
          "model_name": "HBoxModel",
          "model_module_version": "1.5.0",
          "state": {
            "_dom_classes": [],
            "_model_module": "@jupyter-widgets/controls",
            "_model_module_version": "1.5.0",
            "_model_name": "HBoxModel",
            "_view_count": null,
            "_view_module": "@jupyter-widgets/controls",
            "_view_module_version": "1.5.0",
            "_view_name": "HBoxView",
            "box_style": "",
            "children": [
              "IPY_MODEL_4b2d36a7034845fc8ae5cf3bf6477543",
              "IPY_MODEL_b5908d751d2148e0af1cef5559b7c541",
              "IPY_MODEL_9d0c3bbd45824b04a94d699bfcefdd46"
            ],
            "layout": "IPY_MODEL_00e862363891458e844930fc2a1f131d"
          }
        },
        "4b2d36a7034845fc8ae5cf3bf6477543": {
          "model_module": "@jupyter-widgets/controls",
          "model_name": "HTMLModel",
          "model_module_version": "1.5.0",
          "state": {
            "_dom_classes": [],
            "_model_module": "@jupyter-widgets/controls",
            "_model_module_version": "1.5.0",
            "_model_name": "HTMLModel",
            "_view_count": null,
            "_view_module": "@jupyter-widgets/controls",
            "_view_module_version": "1.5.0",
            "_view_name": "HTMLView",
            "description": "",
            "description_tooltip": null,
            "layout": "IPY_MODEL_e33749cf3e8643bc9fd35141ceaebbd0",
            "placeholder": "​",
            "style": "IPY_MODEL_1c32304fc6a64f0f848fcf6bd771f92b",
            "value": "Tiling: 100%"
          }
        },
        "b5908d751d2148e0af1cef5559b7c541": {
          "model_module": "@jupyter-widgets/controls",
          "model_name": "FloatProgressModel",
          "model_module_version": "1.5.0",
          "state": {
            "_dom_classes": [],
            "_model_module": "@jupyter-widgets/controls",
            "_model_module_version": "1.5.0",
            "_model_name": "FloatProgressModel",
            "_view_count": null,
            "_view_module": "@jupyter-widgets/controls",
            "_view_module_version": "1.5.0",
            "_view_name": "ProgressView",
            "bar_style": "success",
            "description": "",
            "description_tooltip": null,
            "layout": "IPY_MODEL_2e0d6c89c41e4a499385f9142348bb65",
            "max": 16,
            "min": 0,
            "orientation": "horizontal",
            "style": "IPY_MODEL_064e828fc0e04d2382d13dc8e97247e5",
            "value": 16
          }
        },
        "9d0c3bbd45824b04a94d699bfcefdd46": {
          "model_module": "@jupyter-widgets/controls",
          "model_name": "HTMLModel",
          "model_module_version": "1.5.0",
          "state": {
            "_dom_classes": [],
            "_model_module": "@jupyter-widgets/controls",
            "_model_module_version": "1.5.0",
            "_model_name": "HTMLModel",
            "_view_count": null,
            "_view_module": "@jupyter-widgets/controls",
            "_view_module_version": "1.5.0",
            "_view_name": "HTMLView",
            "description": "",
            "description_tooltip": null,
            "layout": "IPY_MODEL_89ebedcca2fe4e268967ca7d88ae36d0",
            "placeholder": "​",
            "style": "IPY_MODEL_ba52dd63e7a644a5b6818617b147d9cc",
            "value": " 16/16 [00:04&lt;00:00,  5.21it/s]"
          }
        },
        "00e862363891458e844930fc2a1f131d": {
          "model_module": "@jupyter-widgets/base",
          "model_name": "LayoutModel",
          "model_module_version": "1.2.0",
          "state": {
            "_model_module": "@jupyter-widgets/base",
            "_model_module_version": "1.2.0",
            "_model_name": "LayoutModel",
            "_view_count": null,
            "_view_module": "@jupyter-widgets/base",
            "_view_module_version": "1.2.0",
            "_view_name": "LayoutView",
            "align_content": null,
            "align_items": null,
            "align_self": null,
            "border": null,
            "bottom": null,
            "display": null,
            "flex": null,
            "flex_flow": null,
            "grid_area": null,
            "grid_auto_columns": null,
            "grid_auto_flow": null,
            "grid_auto_rows": null,
            "grid_column": null,
            "grid_gap": null,
            "grid_row": null,
            "grid_template_areas": null,
            "grid_template_columns": null,
            "grid_template_rows": null,
            "height": null,
            "justify_content": null,
            "justify_items": null,
            "left": null,
            "margin": null,
            "max_height": null,
            "max_width": null,
            "min_height": null,
            "min_width": null,
            "object_fit": null,
            "object_position": null,
            "order": null,
            "overflow": null,
            "overflow_x": null,
            "overflow_y": null,
            "padding": null,
            "right": null,
            "top": null,
            "visibility": null,
            "width": null
          }
        },
        "e33749cf3e8643bc9fd35141ceaebbd0": {
          "model_module": "@jupyter-widgets/base",
          "model_name": "LayoutModel",
          "model_module_version": "1.2.0",
          "state": {
            "_model_module": "@jupyter-widgets/base",
            "_model_module_version": "1.2.0",
            "_model_name": "LayoutModel",
            "_view_count": null,
            "_view_module": "@jupyter-widgets/base",
            "_view_module_version": "1.2.0",
            "_view_name": "LayoutView",
            "align_content": null,
            "align_items": null,
            "align_self": null,
            "border": null,
            "bottom": null,
            "display": null,
            "flex": null,
            "flex_flow": null,
            "grid_area": null,
            "grid_auto_columns": null,
            "grid_auto_flow": null,
            "grid_auto_rows": null,
            "grid_column": null,
            "grid_gap": null,
            "grid_row": null,
            "grid_template_areas": null,
            "grid_template_columns": null,
            "grid_template_rows": null,
            "height": null,
            "justify_content": null,
            "justify_items": null,
            "left": null,
            "margin": null,
            "max_height": null,
            "max_width": null,
            "min_height": null,
            "min_width": null,
            "object_fit": null,
            "object_position": null,
            "order": null,
            "overflow": null,
            "overflow_x": null,
            "overflow_y": null,
            "padding": null,
            "right": null,
            "top": null,
            "visibility": null,
            "width": null
          }
        },
        "1c32304fc6a64f0f848fcf6bd771f92b": {
          "model_module": "@jupyter-widgets/controls",
          "model_name": "DescriptionStyleModel",
          "model_module_version": "1.5.0",
          "state": {
            "_model_module": "@jupyter-widgets/controls",
            "_model_module_version": "1.5.0",
            "_model_name": "DescriptionStyleModel",
            "_view_count": null,
            "_view_module": "@jupyter-widgets/base",
            "_view_module_version": "1.2.0",
            "_view_name": "StyleView",
            "description_width": ""
          }
        },
        "2e0d6c89c41e4a499385f9142348bb65": {
          "model_module": "@jupyter-widgets/base",
          "model_name": "LayoutModel",
          "model_module_version": "1.2.0",
          "state": {
            "_model_module": "@jupyter-widgets/base",
            "_model_module_version": "1.2.0",
            "_model_name": "LayoutModel",
            "_view_count": null,
            "_view_module": "@jupyter-widgets/base",
            "_view_module_version": "1.2.0",
            "_view_name": "LayoutView",
            "align_content": null,
            "align_items": null,
            "align_self": null,
            "border": null,
            "bottom": null,
            "display": null,
            "flex": null,
            "flex_flow": null,
            "grid_area": null,
            "grid_auto_columns": null,
            "grid_auto_flow": null,
            "grid_auto_rows": null,
            "grid_column": null,
            "grid_gap": null,
            "grid_row": null,
            "grid_template_areas": null,
            "grid_template_columns": null,
            "grid_template_rows": null,
            "height": null,
            "justify_content": null,
            "justify_items": null,
            "left": null,
            "margin": null,
            "max_height": null,
            "max_width": null,
            "min_height": null,
            "min_width": null,
            "object_fit": null,
            "object_position": null,
            "order": null,
            "overflow": null,
            "overflow_x": null,
            "overflow_y": null,
            "padding": null,
            "right": null,
            "top": null,
            "visibility": null,
            "width": null
          }
        },
        "064e828fc0e04d2382d13dc8e97247e5": {
          "model_module": "@jupyter-widgets/controls",
          "model_name": "ProgressStyleModel",
          "model_module_version": "1.5.0",
          "state": {
            "_model_module": "@jupyter-widgets/controls",
            "_model_module_version": "1.5.0",
            "_model_name": "ProgressStyleModel",
            "_view_count": null,
            "_view_module": "@jupyter-widgets/base",
            "_view_module_version": "1.2.0",
            "_view_name": "StyleView",
            "bar_color": null,
            "description_width": ""
          }
        },
        "89ebedcca2fe4e268967ca7d88ae36d0": {
          "model_module": "@jupyter-widgets/base",
          "model_name": "LayoutModel",
          "model_module_version": "1.2.0",
          "state": {
            "_model_module": "@jupyter-widgets/base",
            "_model_module_version": "1.2.0",
            "_model_name": "LayoutModel",
            "_view_count": null,
            "_view_module": "@jupyter-widgets/base",
            "_view_module_version": "1.2.0",
            "_view_name": "LayoutView",
            "align_content": null,
            "align_items": null,
            "align_self": null,
            "border": null,
            "bottom": null,
            "display": null,
            "flex": null,
            "flex_flow": null,
            "grid_area": null,
            "grid_auto_columns": null,
            "grid_auto_flow": null,
            "grid_auto_rows": null,
            "grid_column": null,
            "grid_gap": null,
            "grid_row": null,
            "grid_template_areas": null,
            "grid_template_columns": null,
            "grid_template_rows": null,
            "height": null,
            "justify_content": null,
            "justify_items": null,
            "left": null,
            "margin": null,
            "max_height": null,
            "max_width": null,
            "min_height": null,
            "min_width": null,
            "object_fit": null,
            "object_position": null,
            "order": null,
            "overflow": null,
            "overflow_x": null,
            "overflow_y": null,
            "padding": null,
            "right": null,
            "top": null,
            "visibility": null,
            "width": null
          }
        },
        "ba52dd63e7a644a5b6818617b147d9cc": {
          "model_module": "@jupyter-widgets/controls",
          "model_name": "DescriptionStyleModel",
          "model_module_version": "1.5.0",
          "state": {
            "_model_module": "@jupyter-widgets/controls",
            "_model_module_version": "1.5.0",
            "_model_name": "DescriptionStyleModel",
            "_view_count": null,
            "_view_module": "@jupyter-widgets/base",
            "_view_module_version": "1.2.0",
            "_view_name": "StyleView",
            "description_width": ""
          }
        }
      }
    }
  },
  "nbformat": 4,
  "nbformat_minor": 0
}