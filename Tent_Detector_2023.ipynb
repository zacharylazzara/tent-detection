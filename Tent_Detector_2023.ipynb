{
  "cells": [
    {
      "cell_type": "markdown",
      "metadata": {
        "id": "view-in-github",
        "colab_type": "text"
      },
      "source": [
        "<a href=\"https://colab.research.google.com/github/zacharylazzara/tent-detection/blob/main/Tent_Detector_2023.ipynb\" target=\"_parent\"><img src=\"https://colab.research.google.com/assets/colab-badge.svg\" alt=\"Open In Colab\"/></a>"
      ]
    },
    {
      "cell_type": "markdown",
      "source": [
        "TODO:\n",
        "* Fix CNN, it isn't generating any useful tent count\n",
        "* Utilize spiking neural networks to implement UNet (try using Nengo?); we'll compare the effectiveness of the two approaches (maybe we should have multiple approaches, in which case we store the segmentor models in a dictionary we can iterate through?)"
      ],
      "metadata": {
        "id": "WyeGyxCBegZZ"
      }
    },
    {
      "cell_type": "code",
      "source": [
        "#@title Reset\n",
        "RESET = False #@param {type:\"boolean\"}\n",
        "if RESET:\n",
        "  !if [[ \"$PWD\" = \"/content\" ]]; then rm -r ./*; fi"
      ],
      "metadata": {
        "cellView": "form",
        "id": "2yBCxRsKNHlt"
      },
      "execution_count": 1,
      "outputs": []
    },
    {
      "cell_type": "code",
      "source": [
        "#@title Models\n",
        "import os\n",
        "from google.colab import files\n",
        "UPLOAD_MODELS             = False        #@param {type:\"boolean\"}\n",
        "FORCE_UPLOAD              = False       #@param {type:\"boolean\"}\n",
        "SEGMENTOR_MODEL_FILENAME  = 'unet.pth'  #@param {type:\"string\"}\n",
        "REGRESSOR_MODEL_FILENAME  = 'cnn.pth'   #@param {type:\"string\"}\n",
        "\n",
        "uploaded_files = None\n",
        "if UPLOAD_MODELS:\n",
        "  if FORCE_UPLOAD:\n",
        "    os.remove(SEGMENTOR_MODEL_FILENAME)\n",
        "    os.remove(REGRESSOR_MODEL_FILENAME)\n",
        "  if not (os.path.exists(SEGMENTOR_MODEL_FILENAME) and os.path.exists(REGRESSOR_MODEL_FILENAME)):\n",
        "    uploaded_files = files.upload()\n",
        "    for filename in uploaded_files.keys():\n",
        "      print(f'Uploaded file \"{filename}\"')\n",
        "  if not os.path.exists(SEGMENTOR_MODEL_FILENAME) or not os.path.exists(REGRESSOR_MODEL_FILENAME):\n",
        "    raise Exception('Error: Missing one or more files!')"
      ],
      "metadata": {
        "cellView": "form",
        "id": "_g4q4wCWzQW_"
      },
      "execution_count": 2,
      "outputs": []
    },
    {
      "cell_type": "code",
      "source": [
        "#@title Output\n",
        "DOWNLOAD_OUTPUT           = True #@param {type:\"boolean\"}\n",
        "KILL_RUNTIME_ON_COMPLETE  = True #@param {type:\"boolean\"}"
      ],
      "metadata": {
        "cellView": "form",
        "id": "UFtVNiv06x_g"
      },
      "execution_count": 3,
      "outputs": []
    },
    {
      "cell_type": "code",
      "execution_count": 4,
      "metadata": {
        "id": "Rxo20pIfzlxW",
        "cellView": "form"
      },
      "outputs": [],
      "source": [
        "#@title Config\n",
        "TRAIN_MODELS  = True        #@param {type:\"boolean\"}\n",
        "N_EPOCHS      = 200         #@param {type:\"number\"}\n",
        "BATCH_SIZE    = 8           #@param {type:\"number\"}\n",
        "INIT_LR       = 0.0001      #@param {type:\"number\"}\n",
        "IMAGE_HEIGHT  = 512         #@param {type:\"number\"}\n",
        "IMAGE_WIDTH   = 512         #@param {type:\"number\"}\n",
        "TEST_SPLIT    = 0.15        #@param {type:\"number\"}\n",
        "RANDOM_STATE  = 42          #@param {type:\"number\"}\n",
        "OUTPUT_FORMAT = 'png'       #@param [\"png\", \"jpg\"] {allow-input: true}"
      ]
    },
    {
      "cell_type": "markdown",
      "metadata": {
        "id": "7Vfi33_GtEj2"
      },
      "source": [
        "#Initialization"
      ]
    },
    {
      "cell_type": "code",
      "execution_count": 5,
      "metadata": {
        "id": "PMBNizBrtJZS",
        "cellView": "form",
        "colab": {
          "base_uri": "https://localhost:8080/"
        },
        "outputId": "7c0bd54e-89bc-48c2-9926-d1463cda8461"
      },
      "outputs": [
        {
          "output_type": "stream",
          "name": "stdout",
          "text": [
            "\u001b[?25l     \u001b[90m━━━━━━━━━━━━━━━━━━━━━━━━━━━━━━━━━━━━━━━━\u001b[0m \u001b[32m0.0/519.2 kB\u001b[0m \u001b[31m?\u001b[0m eta \u001b[36m-:--:--\u001b[0m\r\u001b[2K     \u001b[91m━━━━━━━━━━━━━━━━━━━━━━━━━━━━━━━━━━━━━\u001b[0m\u001b[90m╺\u001b[0m \u001b[32m512.0/519.2 kB\u001b[0m \u001b[31m32.0 MB/s\u001b[0m eta \u001b[36m0:00:01\u001b[0m\r\u001b[2K     \u001b[91m━━━━━━━━━━━━━━━━━━━━━━━━━━━━━━━━━━━━━\u001b[0m\u001b[90m╺\u001b[0m \u001b[32m512.0/519.2 kB\u001b[0m \u001b[31m32.0 MB/s\u001b[0m eta \u001b[36m0:00:01\u001b[0m\r\u001b[2K     \u001b[90m━━━━━━━━━━━━━━━━━━━━━━━━━━━━━━━━━━━━━━━\u001b[0m \u001b[32m519.2/519.2 kB\u001b[0m \u001b[31m5.5 MB/s\u001b[0m eta \u001b[36m0:00:00\u001b[0m\n",
            "\u001b[?25h"
          ]
        }
      ],
      "source": [
        "#@title Imports\n",
        "!pip install torchmetrics -q\n",
        "import time\n",
        "import math\n",
        "import csv\n",
        "import cv2\n",
        "import torch\n",
        "import numpy as np\n",
        "import pandas as pd\n",
        "import matplotlib.pyplot as plt\n",
        "from google.colab import runtime\n",
        "from statistics import mean\n",
        "from tqdm.auto import tqdm\n",
        "from pathlib import Path\n",
        "from sklearn.model_selection import train_test_split\n",
        "from torch.nn import Module\n",
        "from torch.nn import Conv2d\n",
        "from torch.nn import Linear\n",
        "from torch.nn import MaxPool2d\n",
        "from torch.nn import ReLU\n",
        "from torch.nn import LogSoftmax\n",
        "from torch.nn import Sequential\n",
        "from torch.nn import ModuleList\n",
        "from torch.nn import ConvTranspose2d\n",
        "from torch.nn import Flatten\n",
        "from torch.nn import functional\n",
        "from torch.nn import BatchNorm2d\n",
        "from torch.nn import Softplus\n",
        "from torch.nn.modules.loss import BCEWithLogitsLoss\n",
        "from torch.nn.modules.loss import PoissonNLLLoss\n",
        "from torchmetrics.classification import BinaryJaccardIndex\n",
        "from torch import flatten\n",
        "from torch import cat\n",
        "from torch import randn\n",
        "from torchvision import transforms\n",
        "from torchvision.transforms import CenterCrop\n",
        "from torchvision.utils import save_image\n",
        "from torch.utils.data import Dataset\n",
        "from torch.utils.data import Subset\n",
        "from torch.utils.data import DataLoader\n",
        "from torch.optim import Adam\n",
        "from torch.optim import SGD\n",
        "import torchvision.transforms.functional as TF"
      ]
    },
    {
      "cell_type": "code",
      "execution_count": 6,
      "metadata": {
        "colab": {
          "base_uri": "https://localhost:8080/"
        },
        "id": "yI4mFY9uMosP",
        "outputId": "5d2ee146-d7cb-4952-9306-397ed1b8d30d",
        "cellView": "form"
      },
      "outputs": [
        {
          "output_type": "stream",
          "name": "stdout",
          "text": [
            "Using device: cuda\n"
          ]
        }
      ],
      "source": [
        "#@title Device\n",
        "DEVICE = None\n",
        "if torch.cuda.is_available():\n",
        "    DEVICE = 'cuda'\n",
        "elif torch.backends.mps.is_available():\n",
        "    DEVICE = 'mps'\n",
        "else:\n",
        "    DEVICE = 'cpu'\n",
        "PIN_MEMORY = True if DEVICE != 'cpu' else False\n",
        "print(f'Using device: {DEVICE}')"
      ]
    },
    {
      "cell_type": "code",
      "execution_count": 7,
      "metadata": {
        "colab": {
          "base_uri": "https://localhost:8080/"
        },
        "id": "vorAQM6jtdOu",
        "outputId": "4a7ca7e8-2617-4c0e-f6d7-aac657cb57bc",
        "cellView": "form"
      },
      "outputs": [
        {
          "output_type": "stream",
          "name": "stdout",
          "text": [
            "env: SRC_DIR=sarpol-zahab-tents\n",
            "env: OUTPUT_DIR=output\n"
          ]
        }
      ],
      "source": [
        "#@title Environment\n",
        "%env SRC_DIR        = sarpol-zahab-tents\n",
        "%env OUTPUT_DIR     = output\n",
        "\n",
        "SRC_DIR             = os.environ.get('SRC_DIR')\n",
        "OUTPUT_DIR          = os.environ.get('OUTPUT_DIR')\n",
        "\n",
        "MODELS_PATH         = Path(f'{OUTPUT_DIR}/models')\n",
        "METRICS_PATH        = Path(f'{OUTPUT_DIR}/metrics')\n",
        "PREDS_PATH          = Path(f'{OUTPUT_DIR}/predictions')\n",
        "OVERVIEW_PATH       = Path(f'{OUTPUT_DIR}/overviews')\n",
        "OVERLAY_PATH        = Path(f'{OUTPUT_DIR}/overlays')\n",
        "\n",
        "DATA_PATH           = Path(f'{SRC_DIR}/data')\n",
        "IMAGES_PATH         = Path(f'{DATA_PATH}/images')\n",
        "MASKS_PATH          = Path(f'{DATA_PATH}/labels')\n",
        "LABELS_PATH         = Path(f'{DATA_PATH}/sarpol_counts.csv')\n",
        "EXT                 = '.jpg'"
      ]
    },
    {
      "cell_type": "code",
      "execution_count": 8,
      "metadata": {
        "id": "wl8_C1Uas_F3",
        "cellView": "form",
        "colab": {
          "base_uri": "https://localhost:8080/"
        },
        "outputId": "13c13253-867c-4f7f-f5a9-4bdf3b5c8b69"
      },
      "outputs": [
        {
          "output_type": "stream",
          "name": "stderr",
          "text": [
            "Cloning into 'sarpol-zahab-tents'...\n"
          ]
        }
      ],
      "source": [
        "#@title Directories\n",
        "%%bash\n",
        "\n",
        "if [ -d 'sample_data' ]; then\n",
        "  rm -r sample_data\n",
        "fi\n",
        "\n",
        "if [ ! -d $SRC_DIR ]; then\n",
        "  git clone https://github.com/tofighi/sarpol-zahab-tents.git\n",
        "fi\n",
        "\n",
        "if [ ! -d $OUTPUT_DIR ]; then\n",
        "  mkdir -p $OUTPUT_DIR/models\n",
        "  mkdir -p $OUTPUT_DIR/metrics\n",
        "  mkdir -p $OUTPUT_DIR/predictions\n",
        "  mkdir -p $OUTPUT_DIR/overviews\n",
        "  mkdir -p $OUTPUT_DIR/overlays\n",
        "fi"
      ]
    },
    {
      "cell_type": "markdown",
      "metadata": {
        "id": "QMaVfs-TuId3"
      },
      "source": [
        "#Models"
      ]
    },
    {
      "cell_type": "code",
      "execution_count": 9,
      "metadata": {
        "id": "2IeM8zsTBq5d",
        "cellView": "form"
      },
      "outputs": [],
      "source": [
        "#@title UNet\n",
        "# Adapted from: https://pyimagesearch.com/2021/11/08/u-net-training-image-segmentation-models-in-pytorch/\n",
        "\n",
        "class Block(Module):\n",
        "  def __init__(self, in_channels, out_channels):\n",
        "    super(Block, self).__init__()\n",
        "    self.double_conv2d = Sequential(\n",
        "        Conv2d(in_channels, out_channels, 3, 1, 1, bias=False),\n",
        "        BatchNorm2d(out_channels),\n",
        "        ReLU(inplace=True),\n",
        "        Conv2d(out_channels, out_channels, 3, 1, 1, bias=False),\n",
        "        BatchNorm2d(out_channels),\n",
        "        ReLU(inplace=True)\n",
        "    )\n",
        "\n",
        "  def forward(self, x):\n",
        "    return self.double_conv2d(x)\n",
        "\n",
        "class Encoder(Module):\n",
        "  def __init__(self, channels=(3, 16, 32, 64)):\n",
        "    super(Encoder, self).__init__()\n",
        "    self.encoder_blocks = ModuleList([Block(channels[i], channels[i+1]) for i in range(len(channels)-1)])\n",
        "    self.pool = MaxPool2d(2)\n",
        "\n",
        "  def forward(self, x):\n",
        "    block_outputs = []\n",
        "    for block in self.encoder_blocks:\n",
        "      x = block(x)\n",
        "      block_outputs.append(x)\n",
        "      x = self.pool(x)\n",
        "    return block_outputs\n",
        "\n",
        "class Decoder(Module):\n",
        "  def __init__(self, channels=(64, 32, 16)):\n",
        "    super(Decoder, self).__init__()\n",
        "    self.up_convs = ModuleList([ConvTranspose2d(channels[i], channels[i+1], 2, 2) for i in range(len(channels)-1)])\n",
        "    self.decoder_blocks = ModuleList([Block(channels[i], channels[i+1]) for i in range(len(channels)-1)])\n",
        "  \n",
        "  def crop(self, encoder_features, x):\n",
        "    (_, _, H, W) = x.shape\n",
        "    return CenterCrop([H, W])(encoder_features)\n",
        "  \n",
        "  def forward(self, x, encoder_features):\n",
        "    for i in range(len(self.up_convs)):\n",
        "      x = self.up_convs[i](x)\n",
        "      encoder_feature = self.crop(encoder_features[i], x)\n",
        "      x = cat([x, encoder_feature], dim=1)\n",
        "      x = self.decoder_blocks[i](x)\n",
        "    return x\n",
        "\n",
        "class UNet(Module):\n",
        "  def __str__(self) -> str:\n",
        "    return 'UNet'\n",
        "\n",
        "  def __init__(self, encoder_channels=(3, 16, 32, 64), decoder_channels=(64, 32, 16), classes=1, retain_dim=True, output_size=(512, 512)):\n",
        "    super(UNet, self).__init__()\n",
        "    self.encoder = Encoder(encoder_channels)\n",
        "    self.decoder = Decoder(decoder_channels)\n",
        "    self.head = Conv2d(decoder_channels[-1], classes, 1)\n",
        "    self.retain_dim = retain_dim\n",
        "    self.output_size = output_size\n",
        "\n",
        "  def forward(self, x):\n",
        "    encoder_features = self.encoder(x)\n",
        "    decoder_features = self.decoder(encoder_features[::-1][0], encoder_features[::-1][1:])\n",
        "    map = self.head(decoder_features)\n",
        "    if self.retain_dim:\n",
        "      map = functional.interpolate(map, self.output_size)\n",
        "    return map"
      ]
    },
    {
      "cell_type": "code",
      "execution_count": 10,
      "metadata": {
        "id": "ucYAtGS5QLO8",
        "cellView": "form"
      },
      "outputs": [],
      "source": [
        "#@title CNN\n",
        "class CNN(Module):\n",
        "  def __str__(self) -> str:\n",
        "    return 'CNN'\n",
        "\n",
        "  def __init__(self):\n",
        "    super(CNN, self).__init__()\n",
        "    self.model = Sequential(\n",
        "        Conv2d(1, 64, 3),\n",
        "        ReLU(),\n",
        "        MaxPool2d(2),\n",
        "        Conv2d(64, 64, 3),\n",
        "        ReLU(),\n",
        "        MaxPool2d(2),\n",
        "        Flatten(),\n",
        "        Linear(1016064, 1),\n",
        "        ReLU(),\n",
        "        Linear(1, 1)\n",
        "    )\n",
        "\n",
        "  def forward(self, x):\n",
        "    return self.model(x).t().squeeze()"
      ]
    },
    {
      "cell_type": "code",
      "execution_count": 11,
      "metadata": {
        "id": "U00pSVfc0M4f",
        "cellView": "form"
      },
      "outputs": [],
      "source": [
        "#@title Dataset\n",
        "# Adapted from: https://pyimagesearch.com/2021/11/08/u-net-training-image-segmentation-models-in-pytorch/\n",
        "class SegmentationDataset(Dataset):\n",
        "  def __init__(self, dataframe, transformations = None):\n",
        "    self.dataframe = dataframe\n",
        "    self.transformations = transformations\n",
        "\n",
        "  def __len__(self):\n",
        "    return len(self.dataframe.index)\n",
        "\n",
        "  def __getitem__(self, index):\n",
        "    image = cv2.cvtColor(cv2.imread(self.dataframe.iloc[index]['image_paths']), cv2.COLOR_BGR2RGB)\n",
        "    mask = cv2.threshold(cv2.imread(self.dataframe.iloc[index]['mask_paths'], cv2.IMREAD_GRAYSCALE), 150, 255, cv2.THRESH_BINARY)[1]\n",
        "    if self.transformations is not None:\n",
        "      image = self.transformations(image)\n",
        "      mask = self.transformations(mask)\n",
        "    return (image, mask, self.dataframe.iloc[index]['labels'], self.dataframe.index[index])"
      ]
    },
    {
      "cell_type": "markdown",
      "metadata": {
        "id": "m5vpYefL-2Cx"
      },
      "source": [
        "#Functions"
      ]
    },
    {
      "cell_type": "code",
      "execution_count": 12,
      "metadata": {
        "id": "1bhM-gJ8uLKN",
        "cellView": "form"
      },
      "outputs": [],
      "source": [
        "#@title Load\n",
        "def load_data(images_path=IMAGES_PATH, masks_path=MASKS_PATH, csv_path=LABELS_PATH):\n",
        "  with open(csv_path) as csv_file:\n",
        "    rows = [row for row in csv.reader(csv_file)]\n",
        "    return pd.DataFrame({\n",
        "        'names'        : [row[0].split('.')[0] for row in rows],\n",
        "        'image_paths'  : [str(next(images_path.glob(row[0]))) for row in rows],\n",
        "        'mask_paths'   : [str(next(masks_path.glob(row[0]))) for row in rows],\n",
        "        'labels'       : [int(row[1]) for row in rows]\n",
        "    }).set_index('names')"
      ]
    },
    {
      "cell_type": "code",
      "execution_count": 13,
      "metadata": {
        "id": "XYnttTP3gxRX",
        "cellView": "form"
      },
      "outputs": [],
      "source": [
        "#@title Train\n",
        "# Adapted from: https://pyimagesearch.com/2021/11/08/u-net-training-image-segmentation-models-in-pytorch/\n",
        "def train(model, t_loader, v_loader, loss_func, opt, metric=None, epochs=N_EPOCHS):\n",
        "  history = pd.DataFrame({\n",
        "      't': {'losses':[], 'metrics':[]},\n",
        "      'v': {'losses':[], 'metrics':[]}\n",
        "  })\n",
        "\n",
        "  if metric != None:\n",
        "    metric.to(DEVICE)\n",
        "\n",
        "  progress_bar = tqdm(range(epochs))\n",
        "  for e in progress_bar:\n",
        "    model.train()\n",
        "    losses = []\n",
        "    for (i, (x, y, c, _)) in enumerate(t_loader):\n",
        "      (x, y, c) = (x.to(DEVICE), y.to(DEVICE), c.to(DEVICE))\n",
        "      feature = (y if str(model) == 'CNN' else x)\n",
        "      target = (c if str(model) == 'CNN' else y)\n",
        "\n",
        "      pred = model(feature)\n",
        "      loss = loss_func(pred, target)\n",
        "      losses.append(loss.item())\n",
        "\n",
        "      if loss.requires_grad:\n",
        "        opt.zero_grad()\n",
        "        loss.backward()\n",
        "      opt.step()\n",
        "\n",
        "      if metric != None:\n",
        "        metric.update(pred, target)\n",
        "        \n",
        "    history['t']['losses'].append(mean(losses))\n",
        "    if metric != None:\n",
        "      history['t']['metrics'].append(metric.compute().cpu().detach().numpy())\n",
        "      metric.reset()\n",
        "    \n",
        "    with torch.no_grad():\n",
        "      model.eval()\n",
        "      \n",
        "      losses = []\n",
        "      for (x, y, c, _) in v_loader:\n",
        "        (x, y, c) = (x.to(DEVICE), y.to(DEVICE), c.to(DEVICE))\n",
        "        feature = (y if str(model) == 'CNN' else x)\n",
        "        target = (c if str(model) == 'CNN' else y)\n",
        "\n",
        "        pred = model(feature)\n",
        "        loss = loss_func(pred, target)\n",
        "        losses.append(loss.item())\n",
        "\n",
        "        if metric != None:\n",
        "          metric.update(pred, target)\n",
        "      \n",
        "      history['v']['losses'].append(mean(losses))\n",
        "      if metric != None:\n",
        "        history['v']['metrics'].append(metric.compute().cpu().detach().numpy())\n",
        "        metric.reset()\n",
        "\n",
        "    progress_bar.set_description(f'Epoch({e+1}/{N_EPOCHS}) Training {model}, Train Loss: {history[\"t\"][\"losses\"][-1]:.4f}, Test Loss: {history[\"v\"][\"losses\"][-1]:.4f}')\n",
        "  return history"
      ]
    },
    {
      "cell_type": "code",
      "execution_count": 14,
      "metadata": {
        "id": "fCq193FpPKr-",
        "cellView": "form"
      },
      "outputs": [],
      "source": [
        "#@title Predict\n",
        "def predict(model, loader, output_dir=PREDS_PATH):\n",
        "  preds = []\n",
        "  with torch.no_grad():\n",
        "    model.eval()\n",
        "    progress_bar = tqdm(loader)\n",
        "    progress_bar.set_description(f'Evaluating {model}')\n",
        "    for (x, y, _, name) in progress_bar:\n",
        "      (x, y) = (x.to(DEVICE), y.to(DEVICE))\n",
        "      feature = (y if str(model) == 'CNN' else x)\n",
        "      pred = model(feature)\n",
        "      if str(model) == 'CNN':\n",
        "        for batch, c in enumerate(pred.cpu().detach()):\n",
        "          preds.append({'names':name[batch], 'image_paths':str(next(IMAGES_PATH.glob(f'{name[batch]}{EXT}'))), 'mask_paths':None, 'labels':c.numpy()})\n",
        "          progress_bar.set_description(f'Predicting label for {name[batch]}')\n",
        "      else:\n",
        "        for batch, img in enumerate(pred.cpu().detach()):\n",
        "          out_path = f'{output_dir}/{name[batch]}.{OUTPUT_FORMAT}'\n",
        "          save_image(img, out_path)\n",
        "          preds.append({'names':name[batch], 'image_paths':str(next(IMAGES_PATH.glob(f'{name[batch]}{EXT}'))), 'mask_paths':out_path, 'labels':None})\n",
        "          progress_bar.set_description(f'Saved prediction for {name[batch]} to {out_path}')\n",
        "  return pd.DataFrame(preds).set_index('names').fillna(np.nan)"
      ]
    },
    {
      "cell_type": "code",
      "source": [
        "#@title Tile\n",
        "def tile(loader, output_path_x, output_path_y):\n",
        "  output_x = output_y = None\n",
        "  progress_bar = tqdm(loader)\n",
        "  progress_bar.set_description('Tiling')\n",
        "  for (x, y, _, _) in progress_bar:\n",
        "    if output_x == None and output_y == None:\n",
        "      output_x = torch.cat(tuple(x), 2)\n",
        "      output_y = torch.cat(tuple(y), 2)\n",
        "    else:\n",
        "      output_x = torch.cat((output_x, torch.cat(tuple(x), 2)), 1)\n",
        "      output_y = torch.cat((output_y, torch.cat(tuple(y), 2)), 1)\n",
        "\n",
        "  print('Saving...')\n",
        "  save_image(output_x, output_path_x)\n",
        "  save_image(output_y, output_path_y)\n",
        "  print('Done.')"
      ],
      "metadata": {
        "id": "I3XDsjxXLxXb",
        "cellView": "form"
      },
      "execution_count": 15,
      "outputs": []
    },
    {
      "cell_type": "code",
      "source": [
        "#@title Overlay\n",
        "\n",
        "# TODO: adapt this from the 2022 version\n",
        "# def overlay(image_path, mask_path, output_path=OVERLAY_PATH):\n",
        "#   img = None\n",
        "#   msk = None\n",
        "#   with Image.open(image_path).convert('RGBA') as image:\n",
        "#     img = np.array(image)\n",
        "#   with Image.open(mask_path).convert('RGBA') as mask:\n",
        "#     msk = np.array(mask)\n",
        "\n",
        "#   for channel in range(1, 2):\n",
        "#     msk[msk[:,:,channel] > 0, channel] = 0\n",
        "\n",
        "#   overlay = cv2.addWeighted(img, 1, msk, 1, 0)\n",
        "\n",
        "#   output = Image.fromarray(overlay)\n",
        "#   output.save(f'{output_path}', format=f'{OUTPUT_FORMAT}')"
      ],
      "metadata": {
        "id": "GL0JBVPP0ALP"
      },
      "execution_count": 16,
      "outputs": []
    },
    {
      "cell_type": "markdown",
      "metadata": {
        "id": "ZwAZOPs5tIwZ"
      },
      "source": [
        "#Main"
      ]
    },
    {
      "cell_type": "markdown",
      "source": [
        "##Data"
      ],
      "metadata": {
        "id": "Y9QZ2RvCna1I"
      }
    },
    {
      "cell_type": "code",
      "execution_count": 17,
      "metadata": {
        "id": "YRPIwxAFVkNd",
        "cellView": "form"
      },
      "outputs": [],
      "source": [
        "#@title Training and Validation Loaders\n",
        "transformations = transforms.Compose([transforms.ToPILImage(), transforms.Resize((IMAGE_HEIGHT, IMAGE_WIDTH)), transforms.ToTensor()])\n",
        "\n",
        "training_data, validation_data = train_test_split(load_data(), test_size=TEST_SPLIT, random_state=RANDOM_STATE)\n",
        "training_dataset = SegmentationDataset(training_data, transformations)\n",
        "validation_dataset = SegmentationDataset(validation_data, transformations)\n",
        "\n",
        "t_loader = DataLoader(training_dataset, shuffle=True, batch_size=BATCH_SIZE, pin_memory=PIN_MEMORY, num_workers=os.cpu_count(), persistent_workers=True)\n",
        "v_loader = DataLoader(validation_dataset, shuffle=True, batch_size=BATCH_SIZE, pin_memory=PIN_MEMORY, num_workers=os.cpu_count(), persistent_workers=True)"
      ]
    },
    {
      "cell_type": "code",
      "execution_count": 18,
      "metadata": {
        "colab": {
          "base_uri": "https://localhost:8080/"
        },
        "id": "VGoAtv-FKDyc",
        "outputId": "5f6b840e-3a9d-414d-ad2b-66e9ffca8d0f",
        "cellView": "form"
      },
      "outputs": [
        {
          "output_type": "stream",
          "name": "stdout",
          "text": [
            "Training to Validation Ratio\n",
            "\n",
            "Training (217): \t     82.03%\n",
            "Validation (39): \t     17.97%\n",
            "Total (256): \t\t    100.00%\n"
          ]
        }
      ],
      "source": [
        "#@title Split Ratio\n",
        "t_count = len(training_data)\n",
        "v_count = len(validation_data)\n",
        "\n",
        "t_ratio = 1-v_count/t_count\n",
        "v_ratio = v_count/t_count\n",
        "\n",
        "print(f'Training to Validation Ratio\\n')\n",
        "print(f'Training ({t_count}): \\t{t_ratio*100:>10.2f}%')\n",
        "print(f'Validation ({v_count}): \\t{v_ratio*100:>10.2f}%')\n",
        "print(f'Total ({t_count + v_count}): \\t\\t{t_ratio*100 + v_ratio*100:>10.2f}%') \n",
        "\n",
        "assert t_ratio + v_ratio == 1 # Sanity Check"
      ]
    },
    {
      "cell_type": "markdown",
      "source": [
        "## Model Operations"
      ],
      "metadata": {
        "id": "S4sUYLy9Vw6s"
      }
    },
    {
      "cell_type": "code",
      "execution_count": 19,
      "metadata": {
        "id": "vWmNDPG5Jii4",
        "cellView": "form"
      },
      "outputs": [],
      "source": [
        "#@title Load Models\n",
        "segmentor = regressor = None\n",
        "if UPLOAD_MODELS:\n",
        "  segmentor = torch.load(SEGMENTOR_MODEL_FILENAME, map_location=DEVICE).to(DEVICE)\n",
        "  regressor = torch.load(REGRESSOR_MODEL_FILENAME, map_location=DEVICE).to(DEVICE)\n",
        "else:\n",
        "  segmentor = UNet().to(DEVICE)\n",
        "  regressor = CNN().to(DEVICE)"
      ]
    },
    {
      "cell_type": "code",
      "execution_count": 20,
      "metadata": {
        "id": "2jtA5i4-g89g",
        "cellView": "form",
        "colab": {
          "base_uri": "https://localhost:8080/",
          "height": 137,
          "referenced_widgets": [
            "9723d43d51634e978ed21304f6f362da",
            "91621cbf27294774a84984fbda1db2f5",
            "26fc2335e7164de9ab17cbd055f1f945",
            "5ac082662fcf403b8c664250d4015f33",
            "b7c1c892a4684edcae47a4355cbd1854",
            "06e4ef97bdaa43b997d9f8e61c8b397e",
            "39228c0ea74a4ba78aac2a6d3b83605f",
            "d2525ffcbeeb4e9cb604563a33e05037",
            "2197f4383185425f873bc2a554d5cd18",
            "f34fb3ab8bfa478ea3be77b024dba31f",
            "f211ad197b3e4ea78da51b94ac391008",
            "11ee25ebd80f4d958bde0c7098ec85a3",
            "dfb04307c046427eafb6e4f2db45dc37",
            "980f0366478e453a9c859b325954fe7f",
            "4ef80802db194c85afe8b583e31358d6",
            "e479ca24ca3d4803a383a8419bee70ad",
            "3a3c3da7f7ee402794732d40be46fb7f",
            "5a1c4cb337f542ffa683d6ec03a94161",
            "89014d2b2bf44c03bea27aec532863a9",
            "629a153d59184dfe816ce9c35eb0211f",
            "806dc2ce77bf4ee1a943d5832b04aba5",
            "e66ae666fd104e6face1ca964d79be6e"
          ]
        },
        "outputId": "b9522027-eff0-40a5-990f-6b11a47a025c"
      },
      "outputs": [
        {
          "output_type": "display_data",
          "data": {
            "text/plain": [
              "  0%|          | 0/200 [00:00<?, ?it/s]"
            ],
            "application/vnd.jupyter.widget-view+json": {
              "version_major": 2,
              "version_minor": 0,
              "model_id": "9723d43d51634e978ed21304f6f362da"
            }
          },
          "metadata": {}
        },
        {
          "output_type": "display_data",
          "data": {
            "text/plain": [
              "  0%|          | 0/200 [00:00<?, ?it/s]"
            ],
            "application/vnd.jupyter.widget-view+json": {
              "version_major": 2,
              "version_minor": 0,
              "model_id": "11ee25ebd80f4d958bde0c7098ec85a3"
            }
          },
          "metadata": {}
        }
      ],
      "source": [
        "#@title Train Models\n",
        "segmentor_results = None\n",
        "regressor_results = None\n",
        "if TRAIN_MODELS:\n",
        "  segmentor_results = train(segmentor, t_loader, v_loader, BCEWithLogitsLoss(), Adam(segmentor.parameters(), lr=INIT_LR), BinaryJaccardIndex())\n",
        "  regressor_results = train(regressor, t_loader, v_loader, PoissonNLLLoss(), Adam(regressor.parameters(), lr=INIT_LR))\n",
        "  torch.save(segmentor, f'{MODELS_PATH}/{SEGMENTOR_MODEL_FILENAME}')\n",
        "  torch.save(regressor, f'{MODELS_PATH}/{REGRESSOR_MODEL_FILENAME}')"
      ]
    },
    {
      "cell_type": "code",
      "execution_count": 21,
      "metadata": {
        "id": "ln7yNeFLObCk",
        "cellView": "form"
      },
      "outputs": [],
      "source": [
        "#@title Metrics\n",
        "if TRAIN_MODELS:\n",
        "  #Segmentor Loss\n",
        "  plt.plot(segmentor_results['t']['losses'], label='train loss')\n",
        "  plt.plot(segmentor_results['v']['losses'], label='test loss')\n",
        "  plt.xlabel('Epoch')\n",
        "  plt.ylabel('Loss')\n",
        "  plt.ylim([0, 1])\n",
        "  plt.legend(loc='lower right')\n",
        "  plt.title('UNet')\n",
        "  plt.savefig(f'{METRICS_PATH}/unet_loss.{OUTPUT_FORMAT}')\n",
        "  plt.close()\n",
        "\n",
        "  #Segmentor Metrics\n",
        "  plt.plot(segmentor_results['t']['metrics'], label='train metrics')\n",
        "  plt.plot(segmentor_results['v']['metrics'], label='test metrics')\n",
        "  plt.xlabel('Epoch')\n",
        "  plt.ylabel('Accuracy')\n",
        "  plt.ylim([0, 1])\n",
        "  plt.legend(loc='lower right')\n",
        "  plt.title('UNet')\n",
        "  plt.savefig(f'{METRICS_PATH}/unet_metrics.{OUTPUT_FORMAT}')\n",
        "  plt.close()\n",
        "\n",
        "  #Regressor Loss\n",
        "  plt.plot(regressor_results['t']['losses'], label='train loss')\n",
        "  plt.plot(regressor_results['v']['losses'], label='test loss')\n",
        "  plt.xlabel('Epoch')\n",
        "  plt.ylabel('Loss')\n",
        "  # plt.ylim([0, 1])\n",
        "  plt.legend(loc='lower right')\n",
        "  plt.title('CNN')\n",
        "  plt.savefig(f'{METRICS_PATH}/cnn_loss.{OUTPUT_FORMAT}')\n",
        "  plt.close()"
      ]
    },
    {
      "cell_type": "markdown",
      "source": [
        "##Output"
      ],
      "metadata": {
        "id": "J8ti3MHYmJ6X"
      }
    },
    {
      "cell_type": "code",
      "execution_count": 22,
      "metadata": {
        "id": "SHmYiC6ij8Cj",
        "colab": {
          "base_uri": "https://localhost:8080/",
          "height": 109,
          "referenced_widgets": [
            "43577e0d162b43e99940d0a419414533",
            "e4ad8ea2d28146ca98e4f8fe817e7144",
            "40580c11f7d34a3fb1e914314785b8e5",
            "d1af94b8795b4ba8ae3796d7728cd894",
            "8dc58928898b48478b0f1baa91192332",
            "4ca171ca800b4a3986e735e1cbbe0b4e",
            "a82445d273a24ce28a7d6c43318637d3",
            "6b1f193ec1cd44f3ac907f590e64c369",
            "8a869bf8911246bf92e00b8d8157f366",
            "e690cee7a8744da588a32914d8b4b740",
            "75b8719a708e4dd6a3cdf21e74e90329",
            "992b1ebc65554eeaa7d149c30ac0a5c8",
            "2d9d36b4fb524f81833ded1f286e5411",
            "2edb1bea5a8b4c7fba7f4039933c58c9",
            "2d4ab6295bae49b9a55ec7e62f504240",
            "4f1d17e79f6c4319a77bac8494f0550a",
            "2c9fcaaab79a4de2b7448f3fe9bd78b5",
            "396e8c405fb749828301cfde58acaf1e",
            "d369d42266434602aa4caba596a8c4b0",
            "3ff72d505c3a486fbc801302dee19563",
            "173cc13152f1471f9aa143f951f66469",
            "dc5ea83e2f4c4fa2801c78fff9263d9c"
          ]
        },
        "outputId": "530ca7c5-cbad-4a41-fe75-2f2c75716b14"
      },
      "outputs": [
        {
          "output_type": "display_data",
          "data": {
            "text/plain": [
              "  0%|          | 0/16 [00:00<?, ?it/s]"
            ],
            "application/vnd.jupyter.widget-view+json": {
              "version_major": 2,
              "version_minor": 0,
              "model_id": "43577e0d162b43e99940d0a419414533"
            }
          },
          "metadata": {}
        },
        {
          "output_type": "display_data",
          "data": {
            "text/plain": [
              "  0%|          | 0/16 [00:00<?, ?it/s]"
            ],
            "application/vnd.jupyter.widget-view+json": {
              "version_major": 2,
              "version_minor": 0,
              "model_id": "992b1ebc65554eeaa7d149c30ac0a5c8"
            }
          },
          "metadata": {}
        }
      ],
      "source": [
        "#@title Prediction Loaders\n",
        "transformations = transforms.Compose([transforms.ToPILImage(), transforms.Resize((IMAGE_HEIGHT, IMAGE_WIDTH)), transforms.ToTensor()])\n",
        "dataset = SegmentationDataset(load_data(), transformations)\n",
        "row_size = int(math.sqrt(len(dataset))) # Batch of 16 since each row is 16 images long\n",
        "loader = DataLoader(dataset, shuffle=False, batch_size=row_size, pin_memory=PIN_MEMORY, num_workers=os.cpu_count())\n",
        "\n",
        "#Segmentor\n",
        "segmentor_predictions = predict(segmentor, loader)\n",
        "segmentor_dataset = SegmentationDataset(segmentor_predictions, transformations)\n",
        "segmentor_loader = DataLoader(segmentor_dataset, shuffle=False, batch_size=row_size, pin_memory=PIN_MEMORY, num_workers=os.cpu_count(), persistent_workers=True)\n",
        "\n",
        "#Regressor\n",
        "regressor_predictions = predict(regressor, segmentor_loader)\n",
        "predictions = segmentor_predictions.combine_first(regressor_predictions).sort_index()\n",
        "predictions.to_csv(f'{PREDS_PATH}/labels.csv')\n",
        "prediction_dataset = SegmentationDataset(predictions, transformations)\n",
        "prediction_loader = DataLoader(prediction_dataset, shuffle=False, batch_size=row_size, pin_memory=PIN_MEMORY, num_workers=os.cpu_count())"
      ]
    },
    {
      "cell_type": "code",
      "source": [
        "#@title Save Overview\n",
        "\n",
        "# TODO: we need to adjust tile to take only one value from the loader, and then pass it a subset of the prediction loader\n",
        "\n",
        "# tile(loader, f'{OVERVIEW_PATH}/x_overview.{OUTPUT_FORMAT}', f'{OVERVIEW_PATH}/y_overview.{OUTPUT_FORMAT}')\n",
        "# TODO: make tile ignore x if we provide no x path (we want to tile on both x, y, and the prediction)\n",
        "\n",
        "tile(prediction_loader, f'{OVERVIEW_PATH}/x_overview.{OUTPUT_FORMAT}', f'{OVERVIEW_PATH}/p_overview.{OUTPUT_FORMAT}')"
      ],
      "metadata": {
        "id": "5rf4zlID40_e",
        "colab": {
          "base_uri": "https://localhost:8080/",
          "height": 84,
          "referenced_widgets": [
            "2f3977289ff04ff7b71741892780568a",
            "c8ada73e351742c0849c82e3e8172418",
            "5d3dad918c044572a25f6dee68df3dd0",
            "6ce87d29c4ca47c7b181cdea7343eefa",
            "74fd56428fc94c24873ab0a1b93600a6",
            "f65e67c26fdf4f4fa5a97b8b39ff5655",
            "f63359c22a2f45748f4c3df03c697007",
            "a11cc200d10048838652162036d26e49",
            "6094e68569e64170b461aeb0300bc96a",
            "8e90d61b28304f9aa0bdbe34ea6456f7",
            "f664e6dfd3294ae1bd3cad0a439e30b3"
          ]
        },
        "outputId": "4c80e54f-3e97-40aa-e6b2-d145aff083e4"
      },
      "execution_count": 23,
      "outputs": [
        {
          "output_type": "display_data",
          "data": {
            "text/plain": [
              "  0%|          | 0/16 [00:00<?, ?it/s]"
            ],
            "application/vnd.jupyter.widget-view+json": {
              "version_major": 2,
              "version_minor": 0,
              "model_id": "2f3977289ff04ff7b71741892780568a"
            }
          },
          "metadata": {}
        },
        {
          "output_type": "stream",
          "name": "stdout",
          "text": [
            "Saving...\n",
            "Done.\n"
          ]
        }
      ]
    },
    {
      "cell_type": "code",
      "source": [
        "#@title Zip and Download Output\n",
        "if DOWNLOAD_OUTPUT:\n",
        "  !zip -rq tent_detector_output.zip $OUTPUT_DIR\n",
        "  files.download('tent_detector_output.zip')\n",
        "\n",
        "  # TODO: find a way to wait for the files to finish downloading so we can actually end the session once we're done...\n",
        "\n",
        "  # if KILL_RUNTIME_ON_COMPLETE:\n",
        "  #   time.sleep(60*10) # Because I can't find any mention of if file.download can be run synchronously.\n",
        "  #   print('Session Terminated on Complete.')\n",
        "  #   runtime.unassign()"
      ],
      "metadata": {
        "id": "V-9TY7xGX6Iw",
        "colab": {
          "base_uri": "https://localhost:8080/",
          "height": 17
        },
        "outputId": "df39c9fd-c8f1-4ec8-9537-c1cee6ecf553"
      },
      "execution_count": 24,
      "outputs": [
        {
          "output_type": "display_data",
          "data": {
            "text/plain": [
              "<IPython.core.display.Javascript object>"
            ],
            "application/javascript": [
              "\n",
              "    async function download(id, filename, size) {\n",
              "      if (!google.colab.kernel.accessAllowed) {\n",
              "        return;\n",
              "      }\n",
              "      const div = document.createElement('div');\n",
              "      const label = document.createElement('label');\n",
              "      label.textContent = `Downloading \"${filename}\": `;\n",
              "      div.appendChild(label);\n",
              "      const progress = document.createElement('progress');\n",
              "      progress.max = size;\n",
              "      div.appendChild(progress);\n",
              "      document.body.appendChild(div);\n",
              "\n",
              "      const buffers = [];\n",
              "      let downloaded = 0;\n",
              "\n",
              "      const channel = await google.colab.kernel.comms.open(id);\n",
              "      // Send a message to notify the kernel that we're ready.\n",
              "      channel.send({})\n",
              "\n",
              "      for await (const message of channel.messages) {\n",
              "        // Send a message to notify the kernel that we're ready.\n",
              "        channel.send({})\n",
              "        if (message.buffers) {\n",
              "          for (const buffer of message.buffers) {\n",
              "            buffers.push(buffer);\n",
              "            downloaded += buffer.byteLength;\n",
              "            progress.value = downloaded;\n",
              "          }\n",
              "        }\n",
              "      }\n",
              "      const blob = new Blob(buffers, {type: 'application/binary'});\n",
              "      const a = document.createElement('a');\n",
              "      a.href = window.URL.createObjectURL(blob);\n",
              "      a.download = filename;\n",
              "      div.appendChild(a);\n",
              "      a.click();\n",
              "      div.remove();\n",
              "    }\n",
              "  "
            ]
          },
          "metadata": {}
        },
        {
          "output_type": "display_data",
          "data": {
            "text/plain": [
              "<IPython.core.display.Javascript object>"
            ],
            "application/javascript": [
              "download(\"download_d84f892b-6c6b-4481-8eb1-50aece161357\", \"tent_detector_output.zip\", 96293818)"
            ]
          },
          "metadata": {}
        }
      ]
    }
  ],
  "metadata": {
    "accelerator": "GPU",
    "colab": {
      "collapsed_sections": [
        "7Vfi33_GtEj2",
        "QMaVfs-TuId3",
        "Y9QZ2RvCna1I"
      ],
      "provenance": [],
      "authorship_tag": "ABX9TyN12oIiMearrTTCsPL0BYt8",
      "include_colab_link": true
    },
    "gpuClass": "standard",
    "kernelspec": {
      "display_name": "Python 3",
      "name": "python3"
    },
    "language_info": {
      "name": "python"
    },
    "widgets": {
      "application/vnd.jupyter.widget-state+json": {
        "9723d43d51634e978ed21304f6f362da": {
          "model_module": "@jupyter-widgets/controls",
          "model_name": "HBoxModel",
          "model_module_version": "1.5.0",
          "state": {
            "_dom_classes": [],
            "_model_module": "@jupyter-widgets/controls",
            "_model_module_version": "1.5.0",
            "_model_name": "HBoxModel",
            "_view_count": null,
            "_view_module": "@jupyter-widgets/controls",
            "_view_module_version": "1.5.0",
            "_view_name": "HBoxView",
            "box_style": "",
            "children": [
              "IPY_MODEL_91621cbf27294774a84984fbda1db2f5",
              "IPY_MODEL_26fc2335e7164de9ab17cbd055f1f945",
              "IPY_MODEL_5ac082662fcf403b8c664250d4015f33"
            ],
            "layout": "IPY_MODEL_b7c1c892a4684edcae47a4355cbd1854"
          }
        },
        "91621cbf27294774a84984fbda1db2f5": {
          "model_module": "@jupyter-widgets/controls",
          "model_name": "HTMLModel",
          "model_module_version": "1.5.0",
          "state": {
            "_dom_classes": [],
            "_model_module": "@jupyter-widgets/controls",
            "_model_module_version": "1.5.0",
            "_model_name": "HTMLModel",
            "_view_count": null,
            "_view_module": "@jupyter-widgets/controls",
            "_view_module_version": "1.5.0",
            "_view_name": "HTMLView",
            "description": "",
            "description_tooltip": null,
            "layout": "IPY_MODEL_06e4ef97bdaa43b997d9f8e61c8b397e",
            "placeholder": "​",
            "style": "IPY_MODEL_39228c0ea74a4ba78aac2a6d3b83605f",
            "value": "Epoch(200/200) Training UNet, Train Loss: 0.0150, Test Loss: 0.0161: 100%"
          }
        },
        "26fc2335e7164de9ab17cbd055f1f945": {
          "model_module": "@jupyter-widgets/controls",
          "model_name": "FloatProgressModel",
          "model_module_version": "1.5.0",
          "state": {
            "_dom_classes": [],
            "_model_module": "@jupyter-widgets/controls",
            "_model_module_version": "1.5.0",
            "_model_name": "FloatProgressModel",
            "_view_count": null,
            "_view_module": "@jupyter-widgets/controls",
            "_view_module_version": "1.5.0",
            "_view_name": "ProgressView",
            "bar_style": "success",
            "description": "",
            "description_tooltip": null,
            "layout": "IPY_MODEL_d2525ffcbeeb4e9cb604563a33e05037",
            "max": 200,
            "min": 0,
            "orientation": "horizontal",
            "style": "IPY_MODEL_2197f4383185425f873bc2a554d5cd18",
            "value": 200
          }
        },
        "5ac082662fcf403b8c664250d4015f33": {
          "model_module": "@jupyter-widgets/controls",
          "model_name": "HTMLModel",
          "model_module_version": "1.5.0",
          "state": {
            "_dom_classes": [],
            "_model_module": "@jupyter-widgets/controls",
            "_model_module_version": "1.5.0",
            "_model_name": "HTMLModel",
            "_view_count": null,
            "_view_module": "@jupyter-widgets/controls",
            "_view_module_version": "1.5.0",
            "_view_name": "HTMLView",
            "description": "",
            "description_tooltip": null,
            "layout": "IPY_MODEL_f34fb3ab8bfa478ea3be77b024dba31f",
            "placeholder": "​",
            "style": "IPY_MODEL_f211ad197b3e4ea78da51b94ac391008",
            "value": " 200/200 [27:12&lt;00:00,  8.06s/it]"
          }
        },
        "b7c1c892a4684edcae47a4355cbd1854": {
          "model_module": "@jupyter-widgets/base",
          "model_name": "LayoutModel",
          "model_module_version": "1.2.0",
          "state": {
            "_model_module": "@jupyter-widgets/base",
            "_model_module_version": "1.2.0",
            "_model_name": "LayoutModel",
            "_view_count": null,
            "_view_module": "@jupyter-widgets/base",
            "_view_module_version": "1.2.0",
            "_view_name": "LayoutView",
            "align_content": null,
            "align_items": null,
            "align_self": null,
            "border": null,
            "bottom": null,
            "display": null,
            "flex": null,
            "flex_flow": null,
            "grid_area": null,
            "grid_auto_columns": null,
            "grid_auto_flow": null,
            "grid_auto_rows": null,
            "grid_column": null,
            "grid_gap": null,
            "grid_row": null,
            "grid_template_areas": null,
            "grid_template_columns": null,
            "grid_template_rows": null,
            "height": null,
            "justify_content": null,
            "justify_items": null,
            "left": null,
            "margin": null,
            "max_height": null,
            "max_width": null,
            "min_height": null,
            "min_width": null,
            "object_fit": null,
            "object_position": null,
            "order": null,
            "overflow": null,
            "overflow_x": null,
            "overflow_y": null,
            "padding": null,
            "right": null,
            "top": null,
            "visibility": null,
            "width": null
          }
        },
        "06e4ef97bdaa43b997d9f8e61c8b397e": {
          "model_module": "@jupyter-widgets/base",
          "model_name": "LayoutModel",
          "model_module_version": "1.2.0",
          "state": {
            "_model_module": "@jupyter-widgets/base",
            "_model_module_version": "1.2.0",
            "_model_name": "LayoutModel",
            "_view_count": null,
            "_view_module": "@jupyter-widgets/base",
            "_view_module_version": "1.2.0",
            "_view_name": "LayoutView",
            "align_content": null,
            "align_items": null,
            "align_self": null,
            "border": null,
            "bottom": null,
            "display": null,
            "flex": null,
            "flex_flow": null,
            "grid_area": null,
            "grid_auto_columns": null,
            "grid_auto_flow": null,
            "grid_auto_rows": null,
            "grid_column": null,
            "grid_gap": null,
            "grid_row": null,
            "grid_template_areas": null,
            "grid_template_columns": null,
            "grid_template_rows": null,
            "height": null,
            "justify_content": null,
            "justify_items": null,
            "left": null,
            "margin": null,
            "max_height": null,
            "max_width": null,
            "min_height": null,
            "min_width": null,
            "object_fit": null,
            "object_position": null,
            "order": null,
            "overflow": null,
            "overflow_x": null,
            "overflow_y": null,
            "padding": null,
            "right": null,
            "top": null,
            "visibility": null,
            "width": null
          }
        },
        "39228c0ea74a4ba78aac2a6d3b83605f": {
          "model_module": "@jupyter-widgets/controls",
          "model_name": "DescriptionStyleModel",
          "model_module_version": "1.5.0",
          "state": {
            "_model_module": "@jupyter-widgets/controls",
            "_model_module_version": "1.5.0",
            "_model_name": "DescriptionStyleModel",
            "_view_count": null,
            "_view_module": "@jupyter-widgets/base",
            "_view_module_version": "1.2.0",
            "_view_name": "StyleView",
            "description_width": ""
          }
        },
        "d2525ffcbeeb4e9cb604563a33e05037": {
          "model_module": "@jupyter-widgets/base",
          "model_name": "LayoutModel",
          "model_module_version": "1.2.0",
          "state": {
            "_model_module": "@jupyter-widgets/base",
            "_model_module_version": "1.2.0",
            "_model_name": "LayoutModel",
            "_view_count": null,
            "_view_module": "@jupyter-widgets/base",
            "_view_module_version": "1.2.0",
            "_view_name": "LayoutView",
            "align_content": null,
            "align_items": null,
            "align_self": null,
            "border": null,
            "bottom": null,
            "display": null,
            "flex": null,
            "flex_flow": null,
            "grid_area": null,
            "grid_auto_columns": null,
            "grid_auto_flow": null,
            "grid_auto_rows": null,
            "grid_column": null,
            "grid_gap": null,
            "grid_row": null,
            "grid_template_areas": null,
            "grid_template_columns": null,
            "grid_template_rows": null,
            "height": null,
            "justify_content": null,
            "justify_items": null,
            "left": null,
            "margin": null,
            "max_height": null,
            "max_width": null,
            "min_height": null,
            "min_width": null,
            "object_fit": null,
            "object_position": null,
            "order": null,
            "overflow": null,
            "overflow_x": null,
            "overflow_y": null,
            "padding": null,
            "right": null,
            "top": null,
            "visibility": null,
            "width": null
          }
        },
        "2197f4383185425f873bc2a554d5cd18": {
          "model_module": "@jupyter-widgets/controls",
          "model_name": "ProgressStyleModel",
          "model_module_version": "1.5.0",
          "state": {
            "_model_module": "@jupyter-widgets/controls",
            "_model_module_version": "1.5.0",
            "_model_name": "ProgressStyleModel",
            "_view_count": null,
            "_view_module": "@jupyter-widgets/base",
            "_view_module_version": "1.2.0",
            "_view_name": "StyleView",
            "bar_color": null,
            "description_width": ""
          }
        },
        "f34fb3ab8bfa478ea3be77b024dba31f": {
          "model_module": "@jupyter-widgets/base",
          "model_name": "LayoutModel",
          "model_module_version": "1.2.0",
          "state": {
            "_model_module": "@jupyter-widgets/base",
            "_model_module_version": "1.2.0",
            "_model_name": "LayoutModel",
            "_view_count": null,
            "_view_module": "@jupyter-widgets/base",
            "_view_module_version": "1.2.0",
            "_view_name": "LayoutView",
            "align_content": null,
            "align_items": null,
            "align_self": null,
            "border": null,
            "bottom": null,
            "display": null,
            "flex": null,
            "flex_flow": null,
            "grid_area": null,
            "grid_auto_columns": null,
            "grid_auto_flow": null,
            "grid_auto_rows": null,
            "grid_column": null,
            "grid_gap": null,
            "grid_row": null,
            "grid_template_areas": null,
            "grid_template_columns": null,
            "grid_template_rows": null,
            "height": null,
            "justify_content": null,
            "justify_items": null,
            "left": null,
            "margin": null,
            "max_height": null,
            "max_width": null,
            "min_height": null,
            "min_width": null,
            "object_fit": null,
            "object_position": null,
            "order": null,
            "overflow": null,
            "overflow_x": null,
            "overflow_y": null,
            "padding": null,
            "right": null,
            "top": null,
            "visibility": null,
            "width": null
          }
        },
        "f211ad197b3e4ea78da51b94ac391008": {
          "model_module": "@jupyter-widgets/controls",
          "model_name": "DescriptionStyleModel",
          "model_module_version": "1.5.0",
          "state": {
            "_model_module": "@jupyter-widgets/controls",
            "_model_module_version": "1.5.0",
            "_model_name": "DescriptionStyleModel",
            "_view_count": null,
            "_view_module": "@jupyter-widgets/base",
            "_view_module_version": "1.2.0",
            "_view_name": "StyleView",
            "description_width": ""
          }
        },
        "11ee25ebd80f4d958bde0c7098ec85a3": {
          "model_module": "@jupyter-widgets/controls",
          "model_name": "HBoxModel",
          "model_module_version": "1.5.0",
          "state": {
            "_dom_classes": [],
            "_model_module": "@jupyter-widgets/controls",
            "_model_module_version": "1.5.0",
            "_model_name": "HBoxModel",
            "_view_count": null,
            "_view_module": "@jupyter-widgets/controls",
            "_view_module_version": "1.5.0",
            "_view_name": "HBoxView",
            "box_style": "",
            "children": [
              "IPY_MODEL_dfb04307c046427eafb6e4f2db45dc37",
              "IPY_MODEL_980f0366478e453a9c859b325954fe7f",
              "IPY_MODEL_4ef80802db194c85afe8b583e31358d6"
            ],
            "layout": "IPY_MODEL_e479ca24ca3d4803a383a8419bee70ad"
          }
        },
        "dfb04307c046427eafb6e4f2db45dc37": {
          "model_module": "@jupyter-widgets/controls",
          "model_name": "HTMLModel",
          "model_module_version": "1.5.0",
          "state": {
            "_dom_classes": [],
            "_model_module": "@jupyter-widgets/controls",
            "_model_module_version": "1.5.0",
            "_model_name": "HTMLModel",
            "_view_count": null,
            "_view_module": "@jupyter-widgets/controls",
            "_view_module_version": "1.5.0",
            "_view_name": "HTMLView",
            "description": "",
            "description_tooltip": null,
            "layout": "IPY_MODEL_3a3c3da7f7ee402794732d40be46fb7f",
            "placeholder": "​",
            "style": "IPY_MODEL_5a1c4cb337f542ffa683d6ec03a94161",
            "value": "Epoch(200/200) Training CNN, Train Loss: 11.4779, Test Loss: 13.2472: 100%"
          }
        },
        "980f0366478e453a9c859b325954fe7f": {
          "model_module": "@jupyter-widgets/controls",
          "model_name": "FloatProgressModel",
          "model_module_version": "1.5.0",
          "state": {
            "_dom_classes": [],
            "_model_module": "@jupyter-widgets/controls",
            "_model_module_version": "1.5.0",
            "_model_name": "FloatProgressModel",
            "_view_count": null,
            "_view_module": "@jupyter-widgets/controls",
            "_view_module_version": "1.5.0",
            "_view_name": "ProgressView",
            "bar_style": "success",
            "description": "",
            "description_tooltip": null,
            "layout": "IPY_MODEL_89014d2b2bf44c03bea27aec532863a9",
            "max": 200,
            "min": 0,
            "orientation": "horizontal",
            "style": "IPY_MODEL_629a153d59184dfe816ce9c35eb0211f",
            "value": 200
          }
        },
        "4ef80802db194c85afe8b583e31358d6": {
          "model_module": "@jupyter-widgets/controls",
          "model_name": "HTMLModel",
          "model_module_version": "1.5.0",
          "state": {
            "_dom_classes": [],
            "_model_module": "@jupyter-widgets/controls",
            "_model_module_version": "1.5.0",
            "_model_name": "HTMLModel",
            "_view_count": null,
            "_view_module": "@jupyter-widgets/controls",
            "_view_module_version": "1.5.0",
            "_view_name": "HTMLView",
            "description": "",
            "description_tooltip": null,
            "layout": "IPY_MODEL_806dc2ce77bf4ee1a943d5832b04aba5",
            "placeholder": "​",
            "style": "IPY_MODEL_e66ae666fd104e6face1ca964d79be6e",
            "value": " 200/200 [11:09&lt;00:00,  3.26s/it]"
          }
        },
        "e479ca24ca3d4803a383a8419bee70ad": {
          "model_module": "@jupyter-widgets/base",
          "model_name": "LayoutModel",
          "model_module_version": "1.2.0",
          "state": {
            "_model_module": "@jupyter-widgets/base",
            "_model_module_version": "1.2.0",
            "_model_name": "LayoutModel",
            "_view_count": null,
            "_view_module": "@jupyter-widgets/base",
            "_view_module_version": "1.2.0",
            "_view_name": "LayoutView",
            "align_content": null,
            "align_items": null,
            "align_self": null,
            "border": null,
            "bottom": null,
            "display": null,
            "flex": null,
            "flex_flow": null,
            "grid_area": null,
            "grid_auto_columns": null,
            "grid_auto_flow": null,
            "grid_auto_rows": null,
            "grid_column": null,
            "grid_gap": null,
            "grid_row": null,
            "grid_template_areas": null,
            "grid_template_columns": null,
            "grid_template_rows": null,
            "height": null,
            "justify_content": null,
            "justify_items": null,
            "left": null,
            "margin": null,
            "max_height": null,
            "max_width": null,
            "min_height": null,
            "min_width": null,
            "object_fit": null,
            "object_position": null,
            "order": null,
            "overflow": null,
            "overflow_x": null,
            "overflow_y": null,
            "padding": null,
            "right": null,
            "top": null,
            "visibility": null,
            "width": null
          }
        },
        "3a3c3da7f7ee402794732d40be46fb7f": {
          "model_module": "@jupyter-widgets/base",
          "model_name": "LayoutModel",
          "model_module_version": "1.2.0",
          "state": {
            "_model_module": "@jupyter-widgets/base",
            "_model_module_version": "1.2.0",
            "_model_name": "LayoutModel",
            "_view_count": null,
            "_view_module": "@jupyter-widgets/base",
            "_view_module_version": "1.2.0",
            "_view_name": "LayoutView",
            "align_content": null,
            "align_items": null,
            "align_self": null,
            "border": null,
            "bottom": null,
            "display": null,
            "flex": null,
            "flex_flow": null,
            "grid_area": null,
            "grid_auto_columns": null,
            "grid_auto_flow": null,
            "grid_auto_rows": null,
            "grid_column": null,
            "grid_gap": null,
            "grid_row": null,
            "grid_template_areas": null,
            "grid_template_columns": null,
            "grid_template_rows": null,
            "height": null,
            "justify_content": null,
            "justify_items": null,
            "left": null,
            "margin": null,
            "max_height": null,
            "max_width": null,
            "min_height": null,
            "min_width": null,
            "object_fit": null,
            "object_position": null,
            "order": null,
            "overflow": null,
            "overflow_x": null,
            "overflow_y": null,
            "padding": null,
            "right": null,
            "top": null,
            "visibility": null,
            "width": null
          }
        },
        "5a1c4cb337f542ffa683d6ec03a94161": {
          "model_module": "@jupyter-widgets/controls",
          "model_name": "DescriptionStyleModel",
          "model_module_version": "1.5.0",
          "state": {
            "_model_module": "@jupyter-widgets/controls",
            "_model_module_version": "1.5.0",
            "_model_name": "DescriptionStyleModel",
            "_view_count": null,
            "_view_module": "@jupyter-widgets/base",
            "_view_module_version": "1.2.0",
            "_view_name": "StyleView",
            "description_width": ""
          }
        },
        "89014d2b2bf44c03bea27aec532863a9": {
          "model_module": "@jupyter-widgets/base",
          "model_name": "LayoutModel",
          "model_module_version": "1.2.0",
          "state": {
            "_model_module": "@jupyter-widgets/base",
            "_model_module_version": "1.2.0",
            "_model_name": "LayoutModel",
            "_view_count": null,
            "_view_module": "@jupyter-widgets/base",
            "_view_module_version": "1.2.0",
            "_view_name": "LayoutView",
            "align_content": null,
            "align_items": null,
            "align_self": null,
            "border": null,
            "bottom": null,
            "display": null,
            "flex": null,
            "flex_flow": null,
            "grid_area": null,
            "grid_auto_columns": null,
            "grid_auto_flow": null,
            "grid_auto_rows": null,
            "grid_column": null,
            "grid_gap": null,
            "grid_row": null,
            "grid_template_areas": null,
            "grid_template_columns": null,
            "grid_template_rows": null,
            "height": null,
            "justify_content": null,
            "justify_items": null,
            "left": null,
            "margin": null,
            "max_height": null,
            "max_width": null,
            "min_height": null,
            "min_width": null,
            "object_fit": null,
            "object_position": null,
            "order": null,
            "overflow": null,
            "overflow_x": null,
            "overflow_y": null,
            "padding": null,
            "right": null,
            "top": null,
            "visibility": null,
            "width": null
          }
        },
        "629a153d59184dfe816ce9c35eb0211f": {
          "model_module": "@jupyter-widgets/controls",
          "model_name": "ProgressStyleModel",
          "model_module_version": "1.5.0",
          "state": {
            "_model_module": "@jupyter-widgets/controls",
            "_model_module_version": "1.5.0",
            "_model_name": "ProgressStyleModel",
            "_view_count": null,
            "_view_module": "@jupyter-widgets/base",
            "_view_module_version": "1.2.0",
            "_view_name": "StyleView",
            "bar_color": null,
            "description_width": ""
          }
        },
        "806dc2ce77bf4ee1a943d5832b04aba5": {
          "model_module": "@jupyter-widgets/base",
          "model_name": "LayoutModel",
          "model_module_version": "1.2.0",
          "state": {
            "_model_module": "@jupyter-widgets/base",
            "_model_module_version": "1.2.0",
            "_model_name": "LayoutModel",
            "_view_count": null,
            "_view_module": "@jupyter-widgets/base",
            "_view_module_version": "1.2.0",
            "_view_name": "LayoutView",
            "align_content": null,
            "align_items": null,
            "align_self": null,
            "border": null,
            "bottom": null,
            "display": null,
            "flex": null,
            "flex_flow": null,
            "grid_area": null,
            "grid_auto_columns": null,
            "grid_auto_flow": null,
            "grid_auto_rows": null,
            "grid_column": null,
            "grid_gap": null,
            "grid_row": null,
            "grid_template_areas": null,
            "grid_template_columns": null,
            "grid_template_rows": null,
            "height": null,
            "justify_content": null,
            "justify_items": null,
            "left": null,
            "margin": null,
            "max_height": null,
            "max_width": null,
            "min_height": null,
            "min_width": null,
            "object_fit": null,
            "object_position": null,
            "order": null,
            "overflow": null,
            "overflow_x": null,
            "overflow_y": null,
            "padding": null,
            "right": null,
            "top": null,
            "visibility": null,
            "width": null
          }
        },
        "e66ae666fd104e6face1ca964d79be6e": {
          "model_module": "@jupyter-widgets/controls",
          "model_name": "DescriptionStyleModel",
          "model_module_version": "1.5.0",
          "state": {
            "_model_module": "@jupyter-widgets/controls",
            "_model_module_version": "1.5.0",
            "_model_name": "DescriptionStyleModel",
            "_view_count": null,
            "_view_module": "@jupyter-widgets/base",
            "_view_module_version": "1.2.0",
            "_view_name": "StyleView",
            "description_width": ""
          }
        },
        "43577e0d162b43e99940d0a419414533": {
          "model_module": "@jupyter-widgets/controls",
          "model_name": "HBoxModel",
          "model_module_version": "1.5.0",
          "state": {
            "_dom_classes": [],
            "_model_module": "@jupyter-widgets/controls",
            "_model_module_version": "1.5.0",
            "_model_name": "HBoxModel",
            "_view_count": null,
            "_view_module": "@jupyter-widgets/controls",
            "_view_module_version": "1.5.0",
            "_view_name": "HBoxView",
            "box_style": "",
            "children": [
              "IPY_MODEL_e4ad8ea2d28146ca98e4f8fe817e7144",
              "IPY_MODEL_40580c11f7d34a3fb1e914314785b8e5",
              "IPY_MODEL_d1af94b8795b4ba8ae3796d7728cd894"
            ],
            "layout": "IPY_MODEL_8dc58928898b48478b0f1baa91192332"
          }
        },
        "e4ad8ea2d28146ca98e4f8fe817e7144": {
          "model_module": "@jupyter-widgets/controls",
          "model_name": "HTMLModel",
          "model_module_version": "1.5.0",
          "state": {
            "_dom_classes": [],
            "_model_module": "@jupyter-widgets/controls",
            "_model_module_version": "1.5.0",
            "_model_name": "HTMLModel",
            "_view_count": null,
            "_view_module": "@jupyter-widgets/controls",
            "_view_module_version": "1.5.0",
            "_view_name": "HTMLView",
            "description": "",
            "description_tooltip": null,
            "layout": "IPY_MODEL_4ca171ca800b4a3986e735e1cbbe0b4e",
            "placeholder": "​",
            "style": "IPY_MODEL_a82445d273a24ce28a7d6c43318637d3",
            "value": "Saved prediction for sarpol_256 to output/predictions/sarpol_256.png: 100%"
          }
        },
        "40580c11f7d34a3fb1e914314785b8e5": {
          "model_module": "@jupyter-widgets/controls",
          "model_name": "FloatProgressModel",
          "model_module_version": "1.5.0",
          "state": {
            "_dom_classes": [],
            "_model_module": "@jupyter-widgets/controls",
            "_model_module_version": "1.5.0",
            "_model_name": "FloatProgressModel",
            "_view_count": null,
            "_view_module": "@jupyter-widgets/controls",
            "_view_module_version": "1.5.0",
            "_view_name": "ProgressView",
            "bar_style": "success",
            "description": "",
            "description_tooltip": null,
            "layout": "IPY_MODEL_6b1f193ec1cd44f3ac907f590e64c369",
            "max": 16,
            "min": 0,
            "orientation": "horizontal",
            "style": "IPY_MODEL_8a869bf8911246bf92e00b8d8157f366",
            "value": 16
          }
        },
        "d1af94b8795b4ba8ae3796d7728cd894": {
          "model_module": "@jupyter-widgets/controls",
          "model_name": "HTMLModel",
          "model_module_version": "1.5.0",
          "state": {
            "_dom_classes": [],
            "_model_module": "@jupyter-widgets/controls",
            "_model_module_version": "1.5.0",
            "_model_name": "HTMLModel",
            "_view_count": null,
            "_view_module": "@jupyter-widgets/controls",
            "_view_module_version": "1.5.0",
            "_view_name": "HTMLView",
            "description": "",
            "description_tooltip": null,
            "layout": "IPY_MODEL_e690cee7a8744da588a32914d8b4b740",
            "placeholder": "​",
            "style": "IPY_MODEL_75b8719a708e4dd6a3cdf21e74e90329",
            "value": " 16/16 [00:08&lt;00:00,  2.74it/s]"
          }
        },
        "8dc58928898b48478b0f1baa91192332": {
          "model_module": "@jupyter-widgets/base",
          "model_name": "LayoutModel",
          "model_module_version": "1.2.0",
          "state": {
            "_model_module": "@jupyter-widgets/base",
            "_model_module_version": "1.2.0",
            "_model_name": "LayoutModel",
            "_view_count": null,
            "_view_module": "@jupyter-widgets/base",
            "_view_module_version": "1.2.0",
            "_view_name": "LayoutView",
            "align_content": null,
            "align_items": null,
            "align_self": null,
            "border": null,
            "bottom": null,
            "display": null,
            "flex": null,
            "flex_flow": null,
            "grid_area": null,
            "grid_auto_columns": null,
            "grid_auto_flow": null,
            "grid_auto_rows": null,
            "grid_column": null,
            "grid_gap": null,
            "grid_row": null,
            "grid_template_areas": null,
            "grid_template_columns": null,
            "grid_template_rows": null,
            "height": null,
            "justify_content": null,
            "justify_items": null,
            "left": null,
            "margin": null,
            "max_height": null,
            "max_width": null,
            "min_height": null,
            "min_width": null,
            "object_fit": null,
            "object_position": null,
            "order": null,
            "overflow": null,
            "overflow_x": null,
            "overflow_y": null,
            "padding": null,
            "right": null,
            "top": null,
            "visibility": null,
            "width": null
          }
        },
        "4ca171ca800b4a3986e735e1cbbe0b4e": {
          "model_module": "@jupyter-widgets/base",
          "model_name": "LayoutModel",
          "model_module_version": "1.2.0",
          "state": {
            "_model_module": "@jupyter-widgets/base",
            "_model_module_version": "1.2.0",
            "_model_name": "LayoutModel",
            "_view_count": null,
            "_view_module": "@jupyter-widgets/base",
            "_view_module_version": "1.2.0",
            "_view_name": "LayoutView",
            "align_content": null,
            "align_items": null,
            "align_self": null,
            "border": null,
            "bottom": null,
            "display": null,
            "flex": null,
            "flex_flow": null,
            "grid_area": null,
            "grid_auto_columns": null,
            "grid_auto_flow": null,
            "grid_auto_rows": null,
            "grid_column": null,
            "grid_gap": null,
            "grid_row": null,
            "grid_template_areas": null,
            "grid_template_columns": null,
            "grid_template_rows": null,
            "height": null,
            "justify_content": null,
            "justify_items": null,
            "left": null,
            "margin": null,
            "max_height": null,
            "max_width": null,
            "min_height": null,
            "min_width": null,
            "object_fit": null,
            "object_position": null,
            "order": null,
            "overflow": null,
            "overflow_x": null,
            "overflow_y": null,
            "padding": null,
            "right": null,
            "top": null,
            "visibility": null,
            "width": null
          }
        },
        "a82445d273a24ce28a7d6c43318637d3": {
          "model_module": "@jupyter-widgets/controls",
          "model_name": "DescriptionStyleModel",
          "model_module_version": "1.5.0",
          "state": {
            "_model_module": "@jupyter-widgets/controls",
            "_model_module_version": "1.5.0",
            "_model_name": "DescriptionStyleModel",
            "_view_count": null,
            "_view_module": "@jupyter-widgets/base",
            "_view_module_version": "1.2.0",
            "_view_name": "StyleView",
            "description_width": ""
          }
        },
        "6b1f193ec1cd44f3ac907f590e64c369": {
          "model_module": "@jupyter-widgets/base",
          "model_name": "LayoutModel",
          "model_module_version": "1.2.0",
          "state": {
            "_model_module": "@jupyter-widgets/base",
            "_model_module_version": "1.2.0",
            "_model_name": "LayoutModel",
            "_view_count": null,
            "_view_module": "@jupyter-widgets/base",
            "_view_module_version": "1.2.0",
            "_view_name": "LayoutView",
            "align_content": null,
            "align_items": null,
            "align_self": null,
            "border": null,
            "bottom": null,
            "display": null,
            "flex": null,
            "flex_flow": null,
            "grid_area": null,
            "grid_auto_columns": null,
            "grid_auto_flow": null,
            "grid_auto_rows": null,
            "grid_column": null,
            "grid_gap": null,
            "grid_row": null,
            "grid_template_areas": null,
            "grid_template_columns": null,
            "grid_template_rows": null,
            "height": null,
            "justify_content": null,
            "justify_items": null,
            "left": null,
            "margin": null,
            "max_height": null,
            "max_width": null,
            "min_height": null,
            "min_width": null,
            "object_fit": null,
            "object_position": null,
            "order": null,
            "overflow": null,
            "overflow_x": null,
            "overflow_y": null,
            "padding": null,
            "right": null,
            "top": null,
            "visibility": null,
            "width": null
          }
        },
        "8a869bf8911246bf92e00b8d8157f366": {
          "model_module": "@jupyter-widgets/controls",
          "model_name": "ProgressStyleModel",
          "model_module_version": "1.5.0",
          "state": {
            "_model_module": "@jupyter-widgets/controls",
            "_model_module_version": "1.5.0",
            "_model_name": "ProgressStyleModel",
            "_view_count": null,
            "_view_module": "@jupyter-widgets/base",
            "_view_module_version": "1.2.0",
            "_view_name": "StyleView",
            "bar_color": null,
            "description_width": ""
          }
        },
        "e690cee7a8744da588a32914d8b4b740": {
          "model_module": "@jupyter-widgets/base",
          "model_name": "LayoutModel",
          "model_module_version": "1.2.0",
          "state": {
            "_model_module": "@jupyter-widgets/base",
            "_model_module_version": "1.2.0",
            "_model_name": "LayoutModel",
            "_view_count": null,
            "_view_module": "@jupyter-widgets/base",
            "_view_module_version": "1.2.0",
            "_view_name": "LayoutView",
            "align_content": null,
            "align_items": null,
            "align_self": null,
            "border": null,
            "bottom": null,
            "display": null,
            "flex": null,
            "flex_flow": null,
            "grid_area": null,
            "grid_auto_columns": null,
            "grid_auto_flow": null,
            "grid_auto_rows": null,
            "grid_column": null,
            "grid_gap": null,
            "grid_row": null,
            "grid_template_areas": null,
            "grid_template_columns": null,
            "grid_template_rows": null,
            "height": null,
            "justify_content": null,
            "justify_items": null,
            "left": null,
            "margin": null,
            "max_height": null,
            "max_width": null,
            "min_height": null,
            "min_width": null,
            "object_fit": null,
            "object_position": null,
            "order": null,
            "overflow": null,
            "overflow_x": null,
            "overflow_y": null,
            "padding": null,
            "right": null,
            "top": null,
            "visibility": null,
            "width": null
          }
        },
        "75b8719a708e4dd6a3cdf21e74e90329": {
          "model_module": "@jupyter-widgets/controls",
          "model_name": "DescriptionStyleModel",
          "model_module_version": "1.5.0",
          "state": {
            "_model_module": "@jupyter-widgets/controls",
            "_model_module_version": "1.5.0",
            "_model_name": "DescriptionStyleModel",
            "_view_count": null,
            "_view_module": "@jupyter-widgets/base",
            "_view_module_version": "1.2.0",
            "_view_name": "StyleView",
            "description_width": ""
          }
        },
        "992b1ebc65554eeaa7d149c30ac0a5c8": {
          "model_module": "@jupyter-widgets/controls",
          "model_name": "HBoxModel",
          "model_module_version": "1.5.0",
          "state": {
            "_dom_classes": [],
            "_model_module": "@jupyter-widgets/controls",
            "_model_module_version": "1.5.0",
            "_model_name": "HBoxModel",
            "_view_count": null,
            "_view_module": "@jupyter-widgets/controls",
            "_view_module_version": "1.5.0",
            "_view_name": "HBoxView",
            "box_style": "",
            "children": [
              "IPY_MODEL_2d9d36b4fb524f81833ded1f286e5411",
              "IPY_MODEL_2edb1bea5a8b4c7fba7f4039933c58c9",
              "IPY_MODEL_2d4ab6295bae49b9a55ec7e62f504240"
            ],
            "layout": "IPY_MODEL_4f1d17e79f6c4319a77bac8494f0550a"
          }
        },
        "2d9d36b4fb524f81833ded1f286e5411": {
          "model_module": "@jupyter-widgets/controls",
          "model_name": "HTMLModel",
          "model_module_version": "1.5.0",
          "state": {
            "_dom_classes": [],
            "_model_module": "@jupyter-widgets/controls",
            "_model_module_version": "1.5.0",
            "_model_name": "HTMLModel",
            "_view_count": null,
            "_view_module": "@jupyter-widgets/controls",
            "_view_module_version": "1.5.0",
            "_view_name": "HTMLView",
            "description": "",
            "description_tooltip": null,
            "layout": "IPY_MODEL_2c9fcaaab79a4de2b7448f3fe9bd78b5",
            "placeholder": "​",
            "style": "IPY_MODEL_396e8c405fb749828301cfde58acaf1e",
            "value": "Predicting label for sarpol_256: 100%"
          }
        },
        "2edb1bea5a8b4c7fba7f4039933c58c9": {
          "model_module": "@jupyter-widgets/controls",
          "model_name": "FloatProgressModel",
          "model_module_version": "1.5.0",
          "state": {
            "_dom_classes": [],
            "_model_module": "@jupyter-widgets/controls",
            "_model_module_version": "1.5.0",
            "_model_name": "FloatProgressModel",
            "_view_count": null,
            "_view_module": "@jupyter-widgets/controls",
            "_view_module_version": "1.5.0",
            "_view_name": "ProgressView",
            "bar_style": "success",
            "description": "",
            "description_tooltip": null,
            "layout": "IPY_MODEL_d369d42266434602aa4caba596a8c4b0",
            "max": 16,
            "min": 0,
            "orientation": "horizontal",
            "style": "IPY_MODEL_3ff72d505c3a486fbc801302dee19563",
            "value": 16
          }
        },
        "2d4ab6295bae49b9a55ec7e62f504240": {
          "model_module": "@jupyter-widgets/controls",
          "model_name": "HTMLModel",
          "model_module_version": "1.5.0",
          "state": {
            "_dom_classes": [],
            "_model_module": "@jupyter-widgets/controls",
            "_model_module_version": "1.5.0",
            "_model_name": "HTMLModel",
            "_view_count": null,
            "_view_module": "@jupyter-widgets/controls",
            "_view_module_version": "1.5.0",
            "_view_name": "HTMLView",
            "description": "",
            "description_tooltip": null,
            "layout": "IPY_MODEL_173cc13152f1471f9aa143f951f66469",
            "placeholder": "​",
            "style": "IPY_MODEL_dc5ea83e2f4c4fa2801c78fff9263d9c",
            "value": " 16/16 [00:05&lt;00:00,  3.77it/s]"
          }
        },
        "4f1d17e79f6c4319a77bac8494f0550a": {
          "model_module": "@jupyter-widgets/base",
          "model_name": "LayoutModel",
          "model_module_version": "1.2.0",
          "state": {
            "_model_module": "@jupyter-widgets/base",
            "_model_module_version": "1.2.0",
            "_model_name": "LayoutModel",
            "_view_count": null,
            "_view_module": "@jupyter-widgets/base",
            "_view_module_version": "1.2.0",
            "_view_name": "LayoutView",
            "align_content": null,
            "align_items": null,
            "align_self": null,
            "border": null,
            "bottom": null,
            "display": null,
            "flex": null,
            "flex_flow": null,
            "grid_area": null,
            "grid_auto_columns": null,
            "grid_auto_flow": null,
            "grid_auto_rows": null,
            "grid_column": null,
            "grid_gap": null,
            "grid_row": null,
            "grid_template_areas": null,
            "grid_template_columns": null,
            "grid_template_rows": null,
            "height": null,
            "justify_content": null,
            "justify_items": null,
            "left": null,
            "margin": null,
            "max_height": null,
            "max_width": null,
            "min_height": null,
            "min_width": null,
            "object_fit": null,
            "object_position": null,
            "order": null,
            "overflow": null,
            "overflow_x": null,
            "overflow_y": null,
            "padding": null,
            "right": null,
            "top": null,
            "visibility": null,
            "width": null
          }
        },
        "2c9fcaaab79a4de2b7448f3fe9bd78b5": {
          "model_module": "@jupyter-widgets/base",
          "model_name": "LayoutModel",
          "model_module_version": "1.2.0",
          "state": {
            "_model_module": "@jupyter-widgets/base",
            "_model_module_version": "1.2.0",
            "_model_name": "LayoutModel",
            "_view_count": null,
            "_view_module": "@jupyter-widgets/base",
            "_view_module_version": "1.2.0",
            "_view_name": "LayoutView",
            "align_content": null,
            "align_items": null,
            "align_self": null,
            "border": null,
            "bottom": null,
            "display": null,
            "flex": null,
            "flex_flow": null,
            "grid_area": null,
            "grid_auto_columns": null,
            "grid_auto_flow": null,
            "grid_auto_rows": null,
            "grid_column": null,
            "grid_gap": null,
            "grid_row": null,
            "grid_template_areas": null,
            "grid_template_columns": null,
            "grid_template_rows": null,
            "height": null,
            "justify_content": null,
            "justify_items": null,
            "left": null,
            "margin": null,
            "max_height": null,
            "max_width": null,
            "min_height": null,
            "min_width": null,
            "object_fit": null,
            "object_position": null,
            "order": null,
            "overflow": null,
            "overflow_x": null,
            "overflow_y": null,
            "padding": null,
            "right": null,
            "top": null,
            "visibility": null,
            "width": null
          }
        },
        "396e8c405fb749828301cfde58acaf1e": {
          "model_module": "@jupyter-widgets/controls",
          "model_name": "DescriptionStyleModel",
          "model_module_version": "1.5.0",
          "state": {
            "_model_module": "@jupyter-widgets/controls",
            "_model_module_version": "1.5.0",
            "_model_name": "DescriptionStyleModel",
            "_view_count": null,
            "_view_module": "@jupyter-widgets/base",
            "_view_module_version": "1.2.0",
            "_view_name": "StyleView",
            "description_width": ""
          }
        },
        "d369d42266434602aa4caba596a8c4b0": {
          "model_module": "@jupyter-widgets/base",
          "model_name": "LayoutModel",
          "model_module_version": "1.2.0",
          "state": {
            "_model_module": "@jupyter-widgets/base",
            "_model_module_version": "1.2.0",
            "_model_name": "LayoutModel",
            "_view_count": null,
            "_view_module": "@jupyter-widgets/base",
            "_view_module_version": "1.2.0",
            "_view_name": "LayoutView",
            "align_content": null,
            "align_items": null,
            "align_self": null,
            "border": null,
            "bottom": null,
            "display": null,
            "flex": null,
            "flex_flow": null,
            "grid_area": null,
            "grid_auto_columns": null,
            "grid_auto_flow": null,
            "grid_auto_rows": null,
            "grid_column": null,
            "grid_gap": null,
            "grid_row": null,
            "grid_template_areas": null,
            "grid_template_columns": null,
            "grid_template_rows": null,
            "height": null,
            "justify_content": null,
            "justify_items": null,
            "left": null,
            "margin": null,
            "max_height": null,
            "max_width": null,
            "min_height": null,
            "min_width": null,
            "object_fit": null,
            "object_position": null,
            "order": null,
            "overflow": null,
            "overflow_x": null,
            "overflow_y": null,
            "padding": null,
            "right": null,
            "top": null,
            "visibility": null,
            "width": null
          }
        },
        "3ff72d505c3a486fbc801302dee19563": {
          "model_module": "@jupyter-widgets/controls",
          "model_name": "ProgressStyleModel",
          "model_module_version": "1.5.0",
          "state": {
            "_model_module": "@jupyter-widgets/controls",
            "_model_module_version": "1.5.0",
            "_model_name": "ProgressStyleModel",
            "_view_count": null,
            "_view_module": "@jupyter-widgets/base",
            "_view_module_version": "1.2.0",
            "_view_name": "StyleView",
            "bar_color": null,
            "description_width": ""
          }
        },
        "173cc13152f1471f9aa143f951f66469": {
          "model_module": "@jupyter-widgets/base",
          "model_name": "LayoutModel",
          "model_module_version": "1.2.0",
          "state": {
            "_model_module": "@jupyter-widgets/base",
            "_model_module_version": "1.2.0",
            "_model_name": "LayoutModel",
            "_view_count": null,
            "_view_module": "@jupyter-widgets/base",
            "_view_module_version": "1.2.0",
            "_view_name": "LayoutView",
            "align_content": null,
            "align_items": null,
            "align_self": null,
            "border": null,
            "bottom": null,
            "display": null,
            "flex": null,
            "flex_flow": null,
            "grid_area": null,
            "grid_auto_columns": null,
            "grid_auto_flow": null,
            "grid_auto_rows": null,
            "grid_column": null,
            "grid_gap": null,
            "grid_row": null,
            "grid_template_areas": null,
            "grid_template_columns": null,
            "grid_template_rows": null,
            "height": null,
            "justify_content": null,
            "justify_items": null,
            "left": null,
            "margin": null,
            "max_height": null,
            "max_width": null,
            "min_height": null,
            "min_width": null,
            "object_fit": null,
            "object_position": null,
            "order": null,
            "overflow": null,
            "overflow_x": null,
            "overflow_y": null,
            "padding": null,
            "right": null,
            "top": null,
            "visibility": null,
            "width": null
          }
        },
        "dc5ea83e2f4c4fa2801c78fff9263d9c": {
          "model_module": "@jupyter-widgets/controls",
          "model_name": "DescriptionStyleModel",
          "model_module_version": "1.5.0",
          "state": {
            "_model_module": "@jupyter-widgets/controls",
            "_model_module_version": "1.5.0",
            "_model_name": "DescriptionStyleModel",
            "_view_count": null,
            "_view_module": "@jupyter-widgets/base",
            "_view_module_version": "1.2.0",
            "_view_name": "StyleView",
            "description_width": ""
          }
        },
        "2f3977289ff04ff7b71741892780568a": {
          "model_module": "@jupyter-widgets/controls",
          "model_name": "HBoxModel",
          "model_module_version": "1.5.0",
          "state": {
            "_dom_classes": [],
            "_model_module": "@jupyter-widgets/controls",
            "_model_module_version": "1.5.0",
            "_model_name": "HBoxModel",
            "_view_count": null,
            "_view_module": "@jupyter-widgets/controls",
            "_view_module_version": "1.5.0",
            "_view_name": "HBoxView",
            "box_style": "",
            "children": [
              "IPY_MODEL_c8ada73e351742c0849c82e3e8172418",
              "IPY_MODEL_5d3dad918c044572a25f6dee68df3dd0",
              "IPY_MODEL_6ce87d29c4ca47c7b181cdea7343eefa"
            ],
            "layout": "IPY_MODEL_74fd56428fc94c24873ab0a1b93600a6"
          }
        },
        "c8ada73e351742c0849c82e3e8172418": {
          "model_module": "@jupyter-widgets/controls",
          "model_name": "HTMLModel",
          "model_module_version": "1.5.0",
          "state": {
            "_dom_classes": [],
            "_model_module": "@jupyter-widgets/controls",
            "_model_module_version": "1.5.0",
            "_model_name": "HTMLModel",
            "_view_count": null,
            "_view_module": "@jupyter-widgets/controls",
            "_view_module_version": "1.5.0",
            "_view_name": "HTMLView",
            "description": "",
            "description_tooltip": null,
            "layout": "IPY_MODEL_f65e67c26fdf4f4fa5a97b8b39ff5655",
            "placeholder": "​",
            "style": "IPY_MODEL_f63359c22a2f45748f4c3df03c697007",
            "value": "Tiling: 100%"
          }
        },
        "5d3dad918c044572a25f6dee68df3dd0": {
          "model_module": "@jupyter-widgets/controls",
          "model_name": "FloatProgressModel",
          "model_module_version": "1.5.0",
          "state": {
            "_dom_classes": [],
            "_model_module": "@jupyter-widgets/controls",
            "_model_module_version": "1.5.0",
            "_model_name": "FloatProgressModel",
            "_view_count": null,
            "_view_module": "@jupyter-widgets/controls",
            "_view_module_version": "1.5.0",
            "_view_name": "ProgressView",
            "bar_style": "success",
            "description": "",
            "description_tooltip": null,
            "layout": "IPY_MODEL_a11cc200d10048838652162036d26e49",
            "max": 16,
            "min": 0,
            "orientation": "horizontal",
            "style": "IPY_MODEL_6094e68569e64170b461aeb0300bc96a",
            "value": 16
          }
        },
        "6ce87d29c4ca47c7b181cdea7343eefa": {
          "model_module": "@jupyter-widgets/controls",
          "model_name": "HTMLModel",
          "model_module_version": "1.5.0",
          "state": {
            "_dom_classes": [],
            "_model_module": "@jupyter-widgets/controls",
            "_model_module_version": "1.5.0",
            "_model_name": "HTMLModel",
            "_view_count": null,
            "_view_module": "@jupyter-widgets/controls",
            "_view_module_version": "1.5.0",
            "_view_name": "HTMLView",
            "description": "",
            "description_tooltip": null,
            "layout": "IPY_MODEL_8e90d61b28304f9aa0bdbe34ea6456f7",
            "placeholder": "​",
            "style": "IPY_MODEL_f664e6dfd3294ae1bd3cad0a439e30b3",
            "value": " 16/16 [00:09&lt;00:00,  1.83it/s]"
          }
        },
        "74fd56428fc94c24873ab0a1b93600a6": {
          "model_module": "@jupyter-widgets/base",
          "model_name": "LayoutModel",
          "model_module_version": "1.2.0",
          "state": {
            "_model_module": "@jupyter-widgets/base",
            "_model_module_version": "1.2.0",
            "_model_name": "LayoutModel",
            "_view_count": null,
            "_view_module": "@jupyter-widgets/base",
            "_view_module_version": "1.2.0",
            "_view_name": "LayoutView",
            "align_content": null,
            "align_items": null,
            "align_self": null,
            "border": null,
            "bottom": null,
            "display": null,
            "flex": null,
            "flex_flow": null,
            "grid_area": null,
            "grid_auto_columns": null,
            "grid_auto_flow": null,
            "grid_auto_rows": null,
            "grid_column": null,
            "grid_gap": null,
            "grid_row": null,
            "grid_template_areas": null,
            "grid_template_columns": null,
            "grid_template_rows": null,
            "height": null,
            "justify_content": null,
            "justify_items": null,
            "left": null,
            "margin": null,
            "max_height": null,
            "max_width": null,
            "min_height": null,
            "min_width": null,
            "object_fit": null,
            "object_position": null,
            "order": null,
            "overflow": null,
            "overflow_x": null,
            "overflow_y": null,
            "padding": null,
            "right": null,
            "top": null,
            "visibility": null,
            "width": null
          }
        },
        "f65e67c26fdf4f4fa5a97b8b39ff5655": {
          "model_module": "@jupyter-widgets/base",
          "model_name": "LayoutModel",
          "model_module_version": "1.2.0",
          "state": {
            "_model_module": "@jupyter-widgets/base",
            "_model_module_version": "1.2.0",
            "_model_name": "LayoutModel",
            "_view_count": null,
            "_view_module": "@jupyter-widgets/base",
            "_view_module_version": "1.2.0",
            "_view_name": "LayoutView",
            "align_content": null,
            "align_items": null,
            "align_self": null,
            "border": null,
            "bottom": null,
            "display": null,
            "flex": null,
            "flex_flow": null,
            "grid_area": null,
            "grid_auto_columns": null,
            "grid_auto_flow": null,
            "grid_auto_rows": null,
            "grid_column": null,
            "grid_gap": null,
            "grid_row": null,
            "grid_template_areas": null,
            "grid_template_columns": null,
            "grid_template_rows": null,
            "height": null,
            "justify_content": null,
            "justify_items": null,
            "left": null,
            "margin": null,
            "max_height": null,
            "max_width": null,
            "min_height": null,
            "min_width": null,
            "object_fit": null,
            "object_position": null,
            "order": null,
            "overflow": null,
            "overflow_x": null,
            "overflow_y": null,
            "padding": null,
            "right": null,
            "top": null,
            "visibility": null,
            "width": null
          }
        },
        "f63359c22a2f45748f4c3df03c697007": {
          "model_module": "@jupyter-widgets/controls",
          "model_name": "DescriptionStyleModel",
          "model_module_version": "1.5.0",
          "state": {
            "_model_module": "@jupyter-widgets/controls",
            "_model_module_version": "1.5.0",
            "_model_name": "DescriptionStyleModel",
            "_view_count": null,
            "_view_module": "@jupyter-widgets/base",
            "_view_module_version": "1.2.0",
            "_view_name": "StyleView",
            "description_width": ""
          }
        },
        "a11cc200d10048838652162036d26e49": {
          "model_module": "@jupyter-widgets/base",
          "model_name": "LayoutModel",
          "model_module_version": "1.2.0",
          "state": {
            "_model_module": "@jupyter-widgets/base",
            "_model_module_version": "1.2.0",
            "_model_name": "LayoutModel",
            "_view_count": null,
            "_view_module": "@jupyter-widgets/base",
            "_view_module_version": "1.2.0",
            "_view_name": "LayoutView",
            "align_content": null,
            "align_items": null,
            "align_self": null,
            "border": null,
            "bottom": null,
            "display": null,
            "flex": null,
            "flex_flow": null,
            "grid_area": null,
            "grid_auto_columns": null,
            "grid_auto_flow": null,
            "grid_auto_rows": null,
            "grid_column": null,
            "grid_gap": null,
            "grid_row": null,
            "grid_template_areas": null,
            "grid_template_columns": null,
            "grid_template_rows": null,
            "height": null,
            "justify_content": null,
            "justify_items": null,
            "left": null,
            "margin": null,
            "max_height": null,
            "max_width": null,
            "min_height": null,
            "min_width": null,
            "object_fit": null,
            "object_position": null,
            "order": null,
            "overflow": null,
            "overflow_x": null,
            "overflow_y": null,
            "padding": null,
            "right": null,
            "top": null,
            "visibility": null,
            "width": null
          }
        },
        "6094e68569e64170b461aeb0300bc96a": {
          "model_module": "@jupyter-widgets/controls",
          "model_name": "ProgressStyleModel",
          "model_module_version": "1.5.0",
          "state": {
            "_model_module": "@jupyter-widgets/controls",
            "_model_module_version": "1.5.0",
            "_model_name": "ProgressStyleModel",
            "_view_count": null,
            "_view_module": "@jupyter-widgets/base",
            "_view_module_version": "1.2.0",
            "_view_name": "StyleView",
            "bar_color": null,
            "description_width": ""
          }
        },
        "8e90d61b28304f9aa0bdbe34ea6456f7": {
          "model_module": "@jupyter-widgets/base",
          "model_name": "LayoutModel",
          "model_module_version": "1.2.0",
          "state": {
            "_model_module": "@jupyter-widgets/base",
            "_model_module_version": "1.2.0",
            "_model_name": "LayoutModel",
            "_view_count": null,
            "_view_module": "@jupyter-widgets/base",
            "_view_module_version": "1.2.0",
            "_view_name": "LayoutView",
            "align_content": null,
            "align_items": null,
            "align_self": null,
            "border": null,
            "bottom": null,
            "display": null,
            "flex": null,
            "flex_flow": null,
            "grid_area": null,
            "grid_auto_columns": null,
            "grid_auto_flow": null,
            "grid_auto_rows": null,
            "grid_column": null,
            "grid_gap": null,
            "grid_row": null,
            "grid_template_areas": null,
            "grid_template_columns": null,
            "grid_template_rows": null,
            "height": null,
            "justify_content": null,
            "justify_items": null,
            "left": null,
            "margin": null,
            "max_height": null,
            "max_width": null,
            "min_height": null,
            "min_width": null,
            "object_fit": null,
            "object_position": null,
            "order": null,
            "overflow": null,
            "overflow_x": null,
            "overflow_y": null,
            "padding": null,
            "right": null,
            "top": null,
            "visibility": null,
            "width": null
          }
        },
        "f664e6dfd3294ae1bd3cad0a439e30b3": {
          "model_module": "@jupyter-widgets/controls",
          "model_name": "DescriptionStyleModel",
          "model_module_version": "1.5.0",
          "state": {
            "_model_module": "@jupyter-widgets/controls",
            "_model_module_version": "1.5.0",
            "_model_name": "DescriptionStyleModel",
            "_view_count": null,
            "_view_module": "@jupyter-widgets/base",
            "_view_module_version": "1.2.0",
            "_view_name": "StyleView",
            "description_width": ""
          }
        }
      }
    }
  },
  "nbformat": 4,
  "nbformat_minor": 0
}