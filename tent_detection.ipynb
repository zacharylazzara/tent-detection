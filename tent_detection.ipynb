{
  "nbformat": 4,
  "nbformat_minor": 0,
  "metadata": {
    "colab": {
      "name": "tent-detection.ipynb",
      "provenance": [],
      "authorship_tag": "ABX9TyPW1plTLaEv+YpNLHCGvDPO",
      "include_colab_link": true
    },
    "kernelspec": {
      "name": "python3",
      "display_name": "Python 3"
    },
    "language_info": {
      "name": "python"
    },
    "accelerator": "GPU"
  },
  "cells": [
    {
      "cell_type": "markdown",
      "metadata": {
        "id": "view-in-github",
        "colab_type": "text"
      },
      "source": [
        "<a href=\"https://colab.research.google.com/github/zacharylazzara/tent-detection/blob/main/tent_detection.ipynb\" target=\"_parent\"><img src=\"https://colab.research.google.com/assets/colab-badge.svg\" alt=\"Open In Colab\"/></a>"
      ]
    },
    {
      "cell_type": "code",
      "metadata": {
        "id": "y4j6s1vEvIYi",
        "colab": {
          "base_uri": "https://localhost:8080/"
        },
        "outputId": "39c5cbd6-7487-4dab-830f-9b4a22024976"
      },
      "source": [
        "%%bash\n",
        "if [ ! -d \"./unet\" ]; then\n",
        " git clone https://github.com/tofighi/sarpol-zahab-tents.git\n",
        " git clone https://github.com/zhixuhao/unet.git\n",
        "fi\n",
        "\n",
        "# For some reason line 55 of model.py needs to be replaced by model = Model(inputs, conv10)\n",
        "sed -i '55s/.*/    model = Model(inputs, conv10)/' unet/model.py\n",
        "\n",
        "mkdir unet/data/tents\n",
        "cp -r sarpol-zahab-tents/data unet/data/tents/train\n",
        "\n",
        "cd unet/data/tents/train\n",
        "\n",
        "mv images image\n",
        "mv labels label\n",
        "\n",
        "cd image\n",
        "for file in .\n",
        "do\n",
        "  rename 's/.{7}(.*)/$1/' *\n",
        "done\n",
        "\n",
        "cd ../label\n",
        "for file in .\n",
        "do\n",
        "  rename 's/.{7}(.*)/$1/' *\n",
        "done\n",
        "\n",
        "cd ..\n",
        "mkdir aug # TODO: we need to augment the data then load it as our training data\n",
        "\n",
        "\n",
        "cd"
      ],
      "execution_count": 1,
      "outputs": [
        {
          "output_type": "stream",
          "text": [
            "Cloning into 'sarpol-zahab-tents'...\n",
            "Cloning into 'unet'...\n"
          ],
          "name": "stderr"
        }
      ]
    },
    {
      "cell_type": "code",
      "metadata": {
        "colab": {
          "base_uri": "https://localhost:8080/"
        },
        "id": "7j1j_koefcPv",
        "outputId": "4632e820-3417-4933-c076-d9e1ca54e91c"
      },
      "source": [
        "%cd unet/\n",
        "# data_root = \"data/membrane/\"\n",
        "data_root = \"data/tents/\"\n",
        "\n",
        "from model import *\n",
        "from data import *\n",
        "\n",
        "data_gen_args = dict(rotation_range=0.2,\n",
        "                    width_shift_range=0.05,\n",
        "                    height_shift_range=0.05,\n",
        "                    shear_range=0.05,\n",
        "                    zoom_range=0.05,\n",
        "                    horizontal_flip=True,\n",
        "                    fill_mode='nearest')\n",
        "myGene = trainGenerator(2, data_root + 'train','image','label',data_gen_args,save_to_dir = data_root + \"train/aug/\")#None)\n",
        "model = unet()\n",
        "model_checkpoint = ModelCheckpoint('unet_membrane.hdf5', monitor='loss',verbose=1, save_best_only=True)\n",
        "model.fit_generator(myGene,steps_per_epoch=2000,epochs=5,callbacks=[model_checkpoint])\n",
        "\n",
        "\n",
        "imgs_train,imgs_mask_train = geneTrainNpy(data_root + \"train/aug/\",data_root + \"train/aug/\")\n",
        "model.fit(imgs_train, imgs_mask_train, batch_size=2, epochs=10, verbose=1,validation_split=0.2, shuffle=True, callbacks=[model_checkpoint])\n",
        "\n",
        "\n",
        "testGene = testGenerator(data_root + \"test\")\n",
        "model = unet()\n",
        "model.load_weights(\"unet_membrane.hdf5\")\n",
        "results = model.predict_generator(testGene,30,verbose=1)\n",
        "saveResult(data_root + \"test\",results)"
      ],
      "execution_count": null,
      "outputs": [
        {
          "output_type": "stream",
          "text": [
            "/content/unet\n"
          ],
          "name": "stdout"
        },
        {
          "output_type": "stream",
          "text": [
            "/usr/local/lib/python3.7/dist-packages/tensorflow/python/keras/optimizer_v2/optimizer_v2.py:375: UserWarning: The `lr` argument is deprecated, use `learning_rate` instead.\n",
            "  \"The `lr` argument is deprecated, use `learning_rate` instead.\")\n",
            "/usr/local/lib/python3.7/dist-packages/keras/engine/training.py:1915: UserWarning: `Model.fit_generator` is deprecated and will be removed in a future version. Please use `Model.fit`, which supports generators.\n",
            "  warnings.warn('`Model.fit_generator` is deprecated and '\n"
          ],
          "name": "stderr"
        },
        {
          "output_type": "stream",
          "text": [
            "Found 256 images belonging to 1 classes.\n",
            "Found 256 images belonging to 1 classes.\n",
            "Epoch 1/5\n",
            "2000/2000 [==============================] - 374s 162ms/step - loss: 0.6695 - accuracy: 0.9914\n",
            "\n",
            "Epoch 00001: loss improved from inf to 0.64580, saving model to unet_membrane.hdf5\n",
            "Epoch 2/5\n",
            "2000/2000 [==============================] - 328s 164ms/step - loss: 0.5794 - accuracy: 0.9975\n",
            "\n",
            "Epoch 00002: loss improved from 0.64580 to 0.55898, saving model to unet_membrane.hdf5\n",
            "Epoch 3/5\n",
            "2000/2000 [==============================] - 328s 164ms/step - loss: 0.5006 - accuracy: 0.9975\n",
            "\n",
            "Epoch 00003: loss improved from 0.55898 to 0.48260, saving model to unet_membrane.hdf5\n",
            "Epoch 4/5\n",
            "2000/2000 [==============================] - 328s 164ms/step - loss: 0.4312 - accuracy: 0.9975\n",
            "\n",
            "Epoch 00004: loss improved from 0.48260 to 0.41526, saving model to unet_membrane.hdf5\n",
            "Epoch 5/5\n",
            "2000/2000 [==============================] - 328s 164ms/step - loss: 0.3701 - accuracy: 0.9975\n",
            "\n",
            "Epoch 00005: loss improved from 0.41526 to 0.35616, saving model to unet_membrane.hdf5\n"
          ],
          "name": "stdout"
        }
      ]
    }
  ]
}