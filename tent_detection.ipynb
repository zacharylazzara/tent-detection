{
  "nbformat": 4,
  "nbformat_minor": 0,
  "metadata": {
    "colab": {
      "name": "tent-detection.ipynb",
      "provenance": [],
      "authorship_tag": "ABX9TyN9lVpzCPjkdxs/r9i/mfYq",
      "include_colab_link": true
    },
    "kernelspec": {
      "name": "python3",
      "display_name": "Python 3"
    },
    "language_info": {
      "name": "python"
    },
    "accelerator": "GPU"
  },
  "cells": [
    {
      "cell_type": "markdown",
      "metadata": {
        "id": "view-in-github",
        "colab_type": "text"
      },
      "source": [
        "<a href=\"https://colab.research.google.com/github/zacharylazzara/tent-detection/blob/main/tent_detection.ipynb\" target=\"_parent\"><img src=\"https://colab.research.google.com/assets/colab-badge.svg\" alt=\"Open In Colab\"/></a>"
      ]
    },
    {
      "cell_type": "code",
      "metadata": {
        "id": "y4j6s1vEvIYi",
        "colab": {
          "base_uri": "https://localhost:8080/"
        },
        "outputId": "35e15196-d37b-4f12-e243-4235db447e0b"
      },
      "source": [
        "%%bash\n",
        "if [ ! -d \"./unet\" ]; then\n",
        " git clone https://github.com/tofighi/sarpol-zahab-tents.git\n",
        " git clone https://github.com/zhixuhao/unet.git\n",
        "fi\n",
        "\n",
        "# For some reason line 55 of model.py needs to be replaced by model = Model(inputs, conv10)\n",
        "sed -i '55s/.*/    model = Model(inputs, conv10)/' unet/model.py"
      ],
      "execution_count": 1,
      "outputs": [
        {
          "output_type": "stream",
          "text": [
            "Cloning into 'sarpol-zahab-tents'...\n",
            "Cloning into 'unet'...\n"
          ],
          "name": "stderr"
        }
      ]
    },
    {
      "cell_type": "code",
      "metadata": {
        "colab": {
          "base_uri": "https://localhost:8080/"
        },
        "id": "7j1j_koefcPv",
        "outputId": "951fee26-a350-47df-ec7e-318abdb02e15"
      },
      "source": [
        "%cd unet/\n",
        "\n",
        "\n",
        "from model import *\n",
        "from data import *\n",
        "\n",
        "\n",
        "data_gen_args = dict(rotation_range=0.2,\n",
        "                    width_shift_range=0.05,\n",
        "                    height_shift_range=0.05,\n",
        "                    shear_range=0.05,\n",
        "                    zoom_range=0.05,\n",
        "                    horizontal_flip=True,\n",
        "                    fill_mode='nearest')\n",
        "myGene = trainGenerator(2,'data/membrane/train','image','label',data_gen_args,save_to_dir = None)\n",
        "model = unet()\n",
        "model_checkpoint = ModelCheckpoint('unet_membrane.hdf5', monitor='loss',verbose=1, save_best_only=True)\n",
        "model.fit_generator(myGene,steps_per_epoch=2000,epochs=5,callbacks=[model_checkpoint])\n",
        "\n",
        "\n",
        "imgs_train,imgs_mask_train = geneTrainNpy(\"data/membrane/train/aug/\",\"data/membrane/train/aug/\")\n",
        "model.fit(imgs_train, imgs_mask_train, batch_size=2, epochs=10, verbose=1,validation_split=0.2, shuffle=True, callbacks=[model_checkpoint])\n",
        "\n",
        "\n",
        "testGene = testGenerator(\"data/membrane/test\")\n",
        "model = unet()\n",
        "model.load_weights(\"unet_membrane.hdf5\")\n",
        "results = model.predict_generator(testGene,30,verbose=1)\n",
        "saveResult(\"data/membrane/test\",results)"
      ],
      "execution_count": 2,
      "outputs": [
        {
          "output_type": "stream",
          "text": [
            "/content/unet\n"
          ],
          "name": "stdout"
        },
        {
          "output_type": "stream",
          "text": [
            "/usr/local/lib/python3.7/dist-packages/tensorflow/python/keras/optimizer_v2/optimizer_v2.py:375: UserWarning: The `lr` argument is deprecated, use `learning_rate` instead.\n",
            "  \"The `lr` argument is deprecated, use `learning_rate` instead.\")\n",
            "/usr/local/lib/python3.7/dist-packages/keras/engine/training.py:1915: UserWarning: `Model.fit_generator` is deprecated and will be removed in a future version. Please use `Model.fit`, which supports generators.\n",
            "  warnings.warn('`Model.fit_generator` is deprecated and '\n"
          ],
          "name": "stderr"
        },
        {
          "output_type": "stream",
          "text": [
            "Found 30 images belonging to 1 classes.\n",
            "Found 30 images belonging to 1 classes.\n",
            "Epoch 1/5\n",
            "2000/2000 [==============================] - 384s 166ms/step - loss: 0.6806 - accuracy: 0.7778\n",
            "\n",
            "Epoch 00001: loss improved from inf to 0.66745, saving model to unet_membrane.hdf5\n",
            "Epoch 2/5\n",
            "2000/2000 [==============================] - 335s 167ms/step - loss: 0.6334 - accuracy: 0.7813\n",
            "\n",
            "Epoch 00002: loss improved from 0.66745 to 0.62363, saving model to unet_membrane.hdf5\n",
            "Epoch 3/5\n",
            "2000/2000 [==============================] - 335s 168ms/step - loss: 0.5972 - accuracy: 0.7814\n",
            "\n",
            "Epoch 00003: loss improved from 0.62363 to 0.58968, saving model to unet_membrane.hdf5\n",
            "Epoch 4/5\n",
            "2000/2000 [==============================] - 335s 168ms/step - loss: 0.5694 - accuracy: 0.7817\n",
            "\n",
            "Epoch 00004: loss improved from 0.58968 to 0.56401, saving model to unet_membrane.hdf5\n",
            "Epoch 5/5\n",
            "2000/2000 [==============================] - 335s 168ms/step - loss: 0.5495 - accuracy: 0.7816\n",
            "\n",
            "Epoch 00005: loss improved from 0.56401 to 0.54584, saving model to unet_membrane.hdf5\n",
            "Epoch 1/10\n",
            "24/24 [==============================] - 7s 226ms/step - loss: 0.5390 - accuracy: 0.7814 - val_loss: 0.5437 - val_accuracy: 0.7760\n",
            "\n",
            "Epoch 00001: loss improved from 0.54584 to 0.53901, saving model to unet_membrane.hdf5\n",
            "Epoch 2/10\n",
            "24/24 [==============================] - 4s 180ms/step - loss: 0.5389 - accuracy: 0.7814 - val_loss: 0.5436 - val_accuracy: 0.7760\n",
            "\n",
            "Epoch 00002: loss improved from 0.53901 to 0.53887, saving model to unet_membrane.hdf5\n",
            "Epoch 3/10\n",
            "24/24 [==============================] - 5s 193ms/step - loss: 0.5387 - accuracy: 0.7814 - val_loss: 0.5435 - val_accuracy: 0.7760\n",
            "\n",
            "Epoch 00003: loss improved from 0.53887 to 0.53874, saving model to unet_membrane.hdf5\n",
            "Epoch 4/10\n",
            "24/24 [==============================] - 4s 181ms/step - loss: 0.5386 - accuracy: 0.7814 - val_loss: 0.5433 - val_accuracy: 0.7760\n",
            "\n",
            "Epoch 00004: loss improved from 0.53874 to 0.53860, saving model to unet_membrane.hdf5\n",
            "Epoch 5/10\n",
            "24/24 [==============================] - 5s 195ms/step - loss: 0.5385 - accuracy: 0.7814 - val_loss: 0.5432 - val_accuracy: 0.7760\n",
            "\n",
            "Epoch 00005: loss improved from 0.53860 to 0.53847, saving model to unet_membrane.hdf5\n",
            "Epoch 6/10\n",
            "24/24 [==============================] - 4s 181ms/step - loss: 0.5383 - accuracy: 0.7814 - val_loss: 0.5431 - val_accuracy: 0.7760\n",
            "\n",
            "Epoch 00006: loss improved from 0.53847 to 0.53833, saving model to unet_membrane.hdf5\n",
            "Epoch 7/10\n",
            "24/24 [==============================] - 4s 181ms/step - loss: 0.5382 - accuracy: 0.7814 - val_loss: 0.5430 - val_accuracy: 0.7760\n",
            "\n",
            "Epoch 00007: loss improved from 0.53833 to 0.53820, saving model to unet_membrane.hdf5\n",
            "Epoch 8/10\n",
            "24/24 [==============================] - 4s 181ms/step - loss: 0.5381 - accuracy: 0.7814 - val_loss: 0.5428 - val_accuracy: 0.7760\n",
            "\n",
            "Epoch 00008: loss improved from 0.53820 to 0.53807, saving model to unet_membrane.hdf5\n",
            "Epoch 9/10\n",
            "24/24 [==============================] - 4s 181ms/step - loss: 0.5379 - accuracy: 0.7814 - val_loss: 0.5427 - val_accuracy: 0.7760\n",
            "\n",
            "Epoch 00009: loss improved from 0.53807 to 0.53793, saving model to unet_membrane.hdf5\n",
            "Epoch 10/10\n",
            "24/24 [==============================] - 4s 181ms/step - loss: 0.5378 - accuracy: 0.7814 - val_loss: 0.5426 - val_accuracy: 0.7760\n",
            "\n",
            "Epoch 00010: loss improved from 0.53793 to 0.53780, saving model to unet_membrane.hdf5\n"
          ],
          "name": "stdout"
        },
        {
          "output_type": "stream",
          "text": [
            "/usr/local/lib/python3.7/dist-packages/keras/engine/training.py:1976: UserWarning: `Model.predict_generator` is deprecated and will be removed in a future version. Please use `Model.predict`, which supports generators.\n",
            "  warnings.warn('`Model.predict_generator` is deprecated and '\n"
          ],
          "name": "stderr"
        },
        {
          "output_type": "stream",
          "text": [
            "30/30 [==============================] - 4s 34ms/step\n"
          ],
          "name": "stdout"
        },
        {
          "output_type": "stream",
          "text": [
            "/content/unet/data.py:124: UserWarning: data/membrane/test/0_predict.png is a low contrast image\n",
            "  io.imsave(os.path.join(save_path,\"%d_predict.png\"%i),img)\n",
            "WARNING:root:Lossy conversion from float32 to uint8. Range [0, 1]. Convert image to uint8 prior to saving to suppress this warning.\n",
            "/content/unet/data.py:124: UserWarning: data/membrane/test/1_predict.png is a low contrast image\n",
            "  io.imsave(os.path.join(save_path,\"%d_predict.png\"%i),img)\n",
            "WARNING:root:Lossy conversion from float32 to uint8. Range [0, 1]. Convert image to uint8 prior to saving to suppress this warning.\n",
            "/content/unet/data.py:124: UserWarning: data/membrane/test/2_predict.png is a low contrast image\n",
            "  io.imsave(os.path.join(save_path,\"%d_predict.png\"%i),img)\n",
            "WARNING:root:Lossy conversion from float32 to uint8. Range [0, 1]. Convert image to uint8 prior to saving to suppress this warning.\n",
            "/content/unet/data.py:124: UserWarning: data/membrane/test/3_predict.png is a low contrast image\n",
            "  io.imsave(os.path.join(save_path,\"%d_predict.png\"%i),img)\n",
            "WARNING:root:Lossy conversion from float32 to uint8. Range [0, 1]. Convert image to uint8 prior to saving to suppress this warning.\n",
            "/content/unet/data.py:124: UserWarning: data/membrane/test/4_predict.png is a low contrast image\n",
            "  io.imsave(os.path.join(save_path,\"%d_predict.png\"%i),img)\n",
            "WARNING:root:Lossy conversion from float32 to uint8. Range [0, 1]. Convert image to uint8 prior to saving to suppress this warning.\n",
            "/content/unet/data.py:124: UserWarning: data/membrane/test/5_predict.png is a low contrast image\n",
            "  io.imsave(os.path.join(save_path,\"%d_predict.png\"%i),img)\n",
            "WARNING:root:Lossy conversion from float32 to uint8. Range [0, 1]. Convert image to uint8 prior to saving to suppress this warning.\n",
            "/content/unet/data.py:124: UserWarning: data/membrane/test/6_predict.png is a low contrast image\n",
            "  io.imsave(os.path.join(save_path,\"%d_predict.png\"%i),img)\n",
            "WARNING:root:Lossy conversion from float32 to uint8. Range [0, 1]. Convert image to uint8 prior to saving to suppress this warning.\n",
            "/content/unet/data.py:124: UserWarning: data/membrane/test/7_predict.png is a low contrast image\n",
            "  io.imsave(os.path.join(save_path,\"%d_predict.png\"%i),img)\n",
            "WARNING:root:Lossy conversion from float32 to uint8. Range [0, 1]. Convert image to uint8 prior to saving to suppress this warning.\n",
            "/content/unet/data.py:124: UserWarning: data/membrane/test/8_predict.png is a low contrast image\n",
            "  io.imsave(os.path.join(save_path,\"%d_predict.png\"%i),img)\n",
            "WARNING:root:Lossy conversion from float32 to uint8. Range [0, 1]. Convert image to uint8 prior to saving to suppress this warning.\n",
            "/content/unet/data.py:124: UserWarning: data/membrane/test/9_predict.png is a low contrast image\n",
            "  io.imsave(os.path.join(save_path,\"%d_predict.png\"%i),img)\n",
            "WARNING:root:Lossy conversion from float32 to uint8. Range [0, 1]. Convert image to uint8 prior to saving to suppress this warning.\n",
            "/content/unet/data.py:124: UserWarning: data/membrane/test/10_predict.png is a low contrast image\n",
            "  io.imsave(os.path.join(save_path,\"%d_predict.png\"%i),img)\n",
            "WARNING:root:Lossy conversion from float32 to uint8. Range [0, 1]. Convert image to uint8 prior to saving to suppress this warning.\n",
            "/content/unet/data.py:124: UserWarning: data/membrane/test/11_predict.png is a low contrast image\n",
            "  io.imsave(os.path.join(save_path,\"%d_predict.png\"%i),img)\n",
            "WARNING:root:Lossy conversion from float32 to uint8. Range [0, 1]. Convert image to uint8 prior to saving to suppress this warning.\n",
            "/content/unet/data.py:124: UserWarning: data/membrane/test/12_predict.png is a low contrast image\n",
            "  io.imsave(os.path.join(save_path,\"%d_predict.png\"%i),img)\n",
            "WARNING:root:Lossy conversion from float32 to uint8. Range [0, 1]. Convert image to uint8 prior to saving to suppress this warning.\n",
            "/content/unet/data.py:124: UserWarning: data/membrane/test/13_predict.png is a low contrast image\n",
            "  io.imsave(os.path.join(save_path,\"%d_predict.png\"%i),img)\n",
            "WARNING:root:Lossy conversion from float32 to uint8. Range [0, 1]. Convert image to uint8 prior to saving to suppress this warning.\n",
            "/content/unet/data.py:124: UserWarning: data/membrane/test/14_predict.png is a low contrast image\n",
            "  io.imsave(os.path.join(save_path,\"%d_predict.png\"%i),img)\n",
            "WARNING:root:Lossy conversion from float32 to uint8. Range [0, 1]. Convert image to uint8 prior to saving to suppress this warning.\n",
            "/content/unet/data.py:124: UserWarning: data/membrane/test/15_predict.png is a low contrast image\n",
            "  io.imsave(os.path.join(save_path,\"%d_predict.png\"%i),img)\n",
            "WARNING:root:Lossy conversion from float32 to uint8. Range [0, 1]. Convert image to uint8 prior to saving to suppress this warning.\n",
            "/content/unet/data.py:124: UserWarning: data/membrane/test/16_predict.png is a low contrast image\n",
            "  io.imsave(os.path.join(save_path,\"%d_predict.png\"%i),img)\n",
            "WARNING:root:Lossy conversion from float32 to uint8. Range [0, 1]. Convert image to uint8 prior to saving to suppress this warning.\n",
            "/content/unet/data.py:124: UserWarning: data/membrane/test/17_predict.png is a low contrast image\n",
            "  io.imsave(os.path.join(save_path,\"%d_predict.png\"%i),img)\n",
            "WARNING:root:Lossy conversion from float32 to uint8. Range [0, 1]. Convert image to uint8 prior to saving to suppress this warning.\n",
            "/content/unet/data.py:124: UserWarning: data/membrane/test/18_predict.png is a low contrast image\n",
            "  io.imsave(os.path.join(save_path,\"%d_predict.png\"%i),img)\n",
            "WARNING:root:Lossy conversion from float32 to uint8. Range [0, 1]. Convert image to uint8 prior to saving to suppress this warning.\n",
            "/content/unet/data.py:124: UserWarning: data/membrane/test/19_predict.png is a low contrast image\n",
            "  io.imsave(os.path.join(save_path,\"%d_predict.png\"%i),img)\n",
            "WARNING:root:Lossy conversion from float32 to uint8. Range [0, 1]. Convert image to uint8 prior to saving to suppress this warning.\n",
            "/content/unet/data.py:124: UserWarning: data/membrane/test/20_predict.png is a low contrast image\n",
            "  io.imsave(os.path.join(save_path,\"%d_predict.png\"%i),img)\n",
            "WARNING:root:Lossy conversion from float32 to uint8. Range [0, 1]. Convert image to uint8 prior to saving to suppress this warning.\n",
            "/content/unet/data.py:124: UserWarning: data/membrane/test/21_predict.png is a low contrast image\n",
            "  io.imsave(os.path.join(save_path,\"%d_predict.png\"%i),img)\n",
            "WARNING:root:Lossy conversion from float32 to uint8. Range [0, 1]. Convert image to uint8 prior to saving to suppress this warning.\n",
            "/content/unet/data.py:124: UserWarning: data/membrane/test/22_predict.png is a low contrast image\n",
            "  io.imsave(os.path.join(save_path,\"%d_predict.png\"%i),img)\n",
            "WARNING:root:Lossy conversion from float32 to uint8. Range [0, 1]. Convert image to uint8 prior to saving to suppress this warning.\n",
            "/content/unet/data.py:124: UserWarning: data/membrane/test/23_predict.png is a low contrast image\n",
            "  io.imsave(os.path.join(save_path,\"%d_predict.png\"%i),img)\n",
            "WARNING:root:Lossy conversion from float32 to uint8. Range [0, 1]. Convert image to uint8 prior to saving to suppress this warning.\n",
            "/content/unet/data.py:124: UserWarning: data/membrane/test/24_predict.png is a low contrast image\n",
            "  io.imsave(os.path.join(save_path,\"%d_predict.png\"%i),img)\n",
            "WARNING:root:Lossy conversion from float32 to uint8. Range [0, 1]. Convert image to uint8 prior to saving to suppress this warning.\n",
            "/content/unet/data.py:124: UserWarning: data/membrane/test/25_predict.png is a low contrast image\n",
            "  io.imsave(os.path.join(save_path,\"%d_predict.png\"%i),img)\n",
            "WARNING:root:Lossy conversion from float32 to uint8. Range [0, 1]. Convert image to uint8 prior to saving to suppress this warning.\n",
            "/content/unet/data.py:124: UserWarning: data/membrane/test/26_predict.png is a low contrast image\n",
            "  io.imsave(os.path.join(save_path,\"%d_predict.png\"%i),img)\n",
            "WARNING:root:Lossy conversion from float32 to uint8. Range [0, 1]. Convert image to uint8 prior to saving to suppress this warning.\n",
            "/content/unet/data.py:124: UserWarning: data/membrane/test/27_predict.png is a low contrast image\n",
            "  io.imsave(os.path.join(save_path,\"%d_predict.png\"%i),img)\n",
            "WARNING:root:Lossy conversion from float32 to uint8. Range [0, 1]. Convert image to uint8 prior to saving to suppress this warning.\n",
            "/content/unet/data.py:124: UserWarning: data/membrane/test/28_predict.png is a low contrast image\n",
            "  io.imsave(os.path.join(save_path,\"%d_predict.png\"%i),img)\n",
            "WARNING:root:Lossy conversion from float32 to uint8. Range [0, 1]. Convert image to uint8 prior to saving to suppress this warning.\n",
            "/content/unet/data.py:124: UserWarning: data/membrane/test/29_predict.png is a low contrast image\n",
            "  io.imsave(os.path.join(save_path,\"%d_predict.png\"%i),img)\n",
            "WARNING:root:Lossy conversion from float32 to uint8. Range [0, 1]. Convert image to uint8 prior to saving to suppress this warning.\n"
          ],
          "name": "stderr"
        }
      ]
    }
  ]
}