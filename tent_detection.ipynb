{
  "nbformat": 4,
  "nbformat_minor": 0,
  "metadata": {
    "colab": {
      "name": "tent-detection.ipynb",
      "provenance": [],
      "authorship_tag": "ABX9TyN9lVpzCPjkdxs/r9i/mfYq",
      "include_colab_link": true
    },
    "kernelspec": {
      "name": "python3",
      "display_name": "Python 3"
    },
    "language_info": {
      "name": "python"
    }
  },
  "cells": [
    {
      "cell_type": "markdown",
      "metadata": {
        "id": "view-in-github",
        "colab_type": "text"
      },
      "source": [
        "<a href=\"https://colab.research.google.com/github/zacharylazzara/tent-detection/blob/main/tent_detection.ipynb\" target=\"_parent\"><img src=\"https://colab.research.google.com/assets/colab-badge.svg\" alt=\"Open In Colab\"/></a>"
      ]
    },
    {
      "cell_type": "code",
      "metadata": {
        "id": "y4j6s1vEvIYi",
        "colab": {
          "base_uri": "https://localhost:8080/"
        },
        "outputId": "788c71ac-53a7-45da-baf3-ad81532df160"
      },
      "source": [
        "%%bash\n",
        "if [ ! -d \"./unet\" ]; then\n",
        " git clone https://github.com/tofighi/sarpol-zahab-tents.git\n",
        " git clone https://github.com/zhixuhao/unet.git\n",
        "fi\n",
        "\n",
        "# For some reason line 55 of model.py needs to be replaced by model = Model(inputs, conv10)\n",
        "sed -i '55s/.*/    model = Model(inputs, conv10)/' unet/model.py"
      ],
      "execution_count": null,
      "outputs": [
        {
          "output_type": "stream",
          "text": [
            "Found 0 images belonging to 1 classes.\n",
            "Found 0 images belonging to 1 classes.\n"
          ],
          "name": "stdout"
        },
        {
          "output_type": "stream",
          "text": [
            "2021-05-10 17:03:15.406388: I tensorflow/stream_executor/platform/default/dso_loader.cc:49] Successfully opened dynamic library libcudart.so.11.0\n",
            "2021-05-10 17:03:17.014887: I tensorflow/compiler/jit/xla_cpu_device.cc:41] Not creating XLA devices, tf_xla_enable_xla_devices not set\n",
            "2021-05-10 17:03:17.015987: I tensorflow/stream_executor/platform/default/dso_loader.cc:49] Successfully opened dynamic library libcuda.so.1\n",
            "2021-05-10 17:03:17.028053: E tensorflow/stream_executor/cuda/cuda_driver.cc:328] failed call to cuInit: CUDA_ERROR_NO_DEVICE: no CUDA-capable device is detected\n",
            "2021-05-10 17:03:17.028105: I tensorflow/stream_executor/cuda/cuda_diagnostics.cc:156] kernel driver does not appear to be running on this host (d76d88df7865): /proc/driver/nvidia/version does not exist\n",
            "2021-05-10 17:03:17.028617: I tensorflow/compiler/jit/xla_gpu_device.cc:99] Not creating XLA devices, tf_xla_enable_xla_devices not set\n",
            "/usr/local/lib/python3.7/dist-packages/tensorflow/python/keras/engine/training.py:1844: UserWarning: `Model.fit_generator` is deprecated and will be removed in a future version. Please use `Model.fit`, which supports generators.\n",
            "  warnings.warn('`Model.fit_generator` is deprecated and '\n",
            "Traceback (most recent call last):\n",
            "  File \"unet/main.py\", line 18, in <module>\n",
            "    model.fit_generator(myGene,steps_per_epoch=300,epochs=1,callbacks=[model_checkpoint])\n",
            "  File \"/usr/local/lib/python3.7/dist-packages/tensorflow/python/keras/engine/training.py\", line 1861, in fit_generator\n",
            "    initial_epoch=initial_epoch)\n",
            "  File \"/usr/local/lib/python3.7/dist-packages/tensorflow/python/keras/engine/training.py\", line 1064, in fit\n",
            "    steps_per_execution=self._steps_per_execution)\n",
            "  File \"/usr/local/lib/python3.7/dist-packages/tensorflow/python/keras/engine/data_adapter.py\", line 1112, in __init__\n",
            "    model=model)\n",
            "  File \"/usr/local/lib/python3.7/dist-packages/tensorflow/python/keras/engine/data_adapter.py\", line 779, in __init__\n",
            "    peek, x = self._peek_and_restore(x)\n",
            "  File \"/usr/local/lib/python3.7/dist-packages/tensorflow/python/keras/engine/data_adapter.py\", line 836, in _peek_and_restore\n",
            "    peek = next(x)\n",
            "  File \"/content/unet/data.py\", line 80, in trainGenerator\n",
            "    img,mask = adjustData(img,mask,flag_multi_class,num_class)\n",
            "  File \"/content/unet/data.py\", line 39, in adjustData\n",
            "    elif(np.max(img) > 1):\n",
            "  File \"<__array_function__ internals>\", line 6, in amax\n",
            "  File \"/usr/local/lib/python3.7/dist-packages/numpy/core/fromnumeric.py\", line 2706, in amax\n",
            "    keepdims=keepdims, initial=initial, where=where)\n",
            "  File \"/usr/local/lib/python3.7/dist-packages/numpy/core/fromnumeric.py\", line 87, in _wrapreduction\n",
            "    return ufunc.reduce(obj, axis, dtype, out, **passkwargs)\n",
            "ValueError: zero-size array to reduction operation maximum which has no identity\n"
          ],
          "name": "stderr"
        }
      ]
    },
    {
      "cell_type": "code",
      "metadata": {
        "id": "7j1j_koefcPv"
      },
      "source": [
        "%cd unet/\n",
        "\n",
        "\n",
        "from model import *\n",
        "from data import *\n",
        "\n",
        "\n",
        "data_gen_args = dict(rotation_range=0.2,\n",
        "                    width_shift_range=0.05,\n",
        "                    height_shift_range=0.05,\n",
        "                    shear_range=0.05,\n",
        "                    zoom_range=0.05,\n",
        "                    horizontal_flip=True,\n",
        "                    fill_mode='nearest')\n",
        "myGene = trainGenerator(2,'data/membrane/train','image','label',data_gen_args,save_to_dir = None)\n",
        "model = unet()\n",
        "model_checkpoint = ModelCheckpoint('unet_membrane.hdf5', monitor='loss',verbose=1, save_best_only=True)\n",
        "model.fit_generator(myGene,steps_per_epoch=2000,epochs=5,callbacks=[model_checkpoint])\n",
        "\n",
        "\n",
        "imgs_train,imgs_mask_train = geneTrainNpy(\"data/membrane/train/aug/\",\"data/membrane/train/aug/\")\n",
        "model.fit(imgs_train, imgs_mask_train, batch_size=2, epochs=10, verbose=1,validation_split=0.2, shuffle=True, callbacks=[model_checkpoint])\n",
        "\n",
        "\n",
        "testGene = testGenerator(\"data/membrane/test\")\n",
        "model = unet()\n",
        "model.load_weights(\"unet_membrane.hdf5\")\n",
        "results = model.predict_generator(testGene,30,verbose=1)\n",
        "saveResult(\"data/membrane/test\",results)"
      ],
      "execution_count": null,
      "outputs": []
    }
  ]
}